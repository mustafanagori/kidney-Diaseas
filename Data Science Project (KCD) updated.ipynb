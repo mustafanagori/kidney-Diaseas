{
 "cells": [
  {
   "cell_type": "code",
   "execution_count": 1,
   "id": "23a9c2b2",
   "metadata": {},
   "outputs": [],
   "source": [
    "import numpy as np        # nan ot etc                 \n",
    "import pandas as pd       # use for load data in DataFrame or etc\n",
    "import matplotlib.pyplot as plt # for ploting\n",
    "import seaborn as sns   # for ploting\n",
    "import re   # for regular expresion\n",
    "import warnings  # for ignore the warnings\n",
    "warnings.filterwarnings('ignore')\n",
    "                                             # our target column is affected\n",
    "\n",
    "# 'age', 'blood_pressure', 'specific_gravity', 'albumin', 'sugar', 'red_blood_cells', 'pus_cell','pus_cell_clumps', 'bacteria',\n",
    "# 'blood_glucose_random', 'blood_urea', 'serum_creatinine', 'sodium','potassium', 'haemoglobin', 'packed_cell_volume', \n",
    "# 'white_blood_cell_count', 'red_blood_cell_count','hypertension', 'diabetes_mellitus', 'coronary_artery_disease', 'appetite', \n",
    "# 'peda_edema', 'aanemia', 'class'"
   ]
  },
  {
   "cell_type": "code",
   "execution_count": 2,
   "id": "3fd50aa8",
   "metadata": {},
   "outputs": [],
   "source": [
    "df = pd.read_csv('ckd-dataset-v2.csv') # load the dataset in dataframe"
   ]
  },
  {
   "cell_type": "code",
   "execution_count": 3,
   "id": "ff0aebba",
   "metadata": {},
   "outputs": [
    {
     "data": {
      "text/plain": [
       "(202, 29)"
      ]
     },
     "execution_count": 3,
     "metadata": {},
     "output_type": "execute_result"
    }
   ],
   "source": [
    "df.shape # here there are 202 data/tuple/row  and 29 attribute/column "
   ]
  },
  {
   "cell_type": "code",
   "execution_count": 4,
   "id": "7c3eded2",
   "metadata": {},
   "outputs": [
    {
     "data": {
      "text/html": [
       "<div>\n",
       "<style scoped>\n",
       "    .dataframe tbody tr th:only-of-type {\n",
       "        vertical-align: middle;\n",
       "    }\n",
       "\n",
       "    .dataframe tbody tr th {\n",
       "        vertical-align: top;\n",
       "    }\n",
       "\n",
       "    .dataframe thead th {\n",
       "        text-align: right;\n",
       "    }\n",
       "</style>\n",
       "<table border=\"1\" class=\"dataframe\">\n",
       "  <thead>\n",
       "    <tr style=\"text-align: right;\">\n",
       "      <th></th>\n",
       "      <th>bp (Diastolic)</th>\n",
       "      <th>bp limit</th>\n",
       "      <th>sg</th>\n",
       "      <th>al</th>\n",
       "      <th>class</th>\n",
       "      <th>rbc</th>\n",
       "      <th>su</th>\n",
       "      <th>pc</th>\n",
       "      <th>pcc</th>\n",
       "      <th>ba</th>\n",
       "      <th>...</th>\n",
       "      <th>htn</th>\n",
       "      <th>dm</th>\n",
       "      <th>cad</th>\n",
       "      <th>appet</th>\n",
       "      <th>pe</th>\n",
       "      <th>ane</th>\n",
       "      <th>grf</th>\n",
       "      <th>stage</th>\n",
       "      <th>affected</th>\n",
       "      <th>age</th>\n",
       "    </tr>\n",
       "  </thead>\n",
       "  <tbody>\n",
       "    <tr>\n",
       "      <th>0</th>\n",
       "      <td>discrete</td>\n",
       "      <td>discrete</td>\n",
       "      <td>discrete</td>\n",
       "      <td>discrete</td>\n",
       "      <td>discrete</td>\n",
       "      <td>discrete</td>\n",
       "      <td>discrete</td>\n",
       "      <td>discrete</td>\n",
       "      <td>discrete</td>\n",
       "      <td>discrete</td>\n",
       "      <td>...</td>\n",
       "      <td>discrete</td>\n",
       "      <td>discrete</td>\n",
       "      <td>discrete</td>\n",
       "      <td>discrete</td>\n",
       "      <td>discrete</td>\n",
       "      <td>discrete</td>\n",
       "      <td>discrete</td>\n",
       "      <td>discrete</td>\n",
       "      <td>discrete</td>\n",
       "      <td>discrete</td>\n",
       "    </tr>\n",
       "    <tr>\n",
       "      <th>1</th>\n",
       "      <td>NaN</td>\n",
       "      <td>NaN</td>\n",
       "      <td>NaN</td>\n",
       "      <td>NaN</td>\n",
       "      <td>NaN</td>\n",
       "      <td>NaN</td>\n",
       "      <td>NaN</td>\n",
       "      <td>NaN</td>\n",
       "      <td>NaN</td>\n",
       "      <td>NaN</td>\n",
       "      <td>...</td>\n",
       "      <td>NaN</td>\n",
       "      <td>NaN</td>\n",
       "      <td>NaN</td>\n",
       "      <td>NaN</td>\n",
       "      <td>NaN</td>\n",
       "      <td>NaN</td>\n",
       "      <td>NaN</td>\n",
       "      <td>NaN</td>\n",
       "      <td>class</td>\n",
       "      <td>meta</td>\n",
       "    </tr>\n",
       "    <tr>\n",
       "      <th>2</th>\n",
       "      <td>0</td>\n",
       "      <td>0</td>\n",
       "      <td>1.019 - 1.021</td>\n",
       "      <td>1 - 1</td>\n",
       "      <td>ckd</td>\n",
       "      <td>0</td>\n",
       "      <td>&lt; 0</td>\n",
       "      <td>0</td>\n",
       "      <td>0</td>\n",
       "      <td>0</td>\n",
       "      <td>...</td>\n",
       "      <td>0</td>\n",
       "      <td>0</td>\n",
       "      <td>0</td>\n",
       "      <td>0</td>\n",
       "      <td>0</td>\n",
       "      <td>0</td>\n",
       "      <td>≥ 227.944</td>\n",
       "      <td>s1</td>\n",
       "      <td>1</td>\n",
       "      <td>&lt; 12</td>\n",
       "    </tr>\n",
       "    <tr>\n",
       "      <th>3</th>\n",
       "      <td>0</td>\n",
       "      <td>0</td>\n",
       "      <td>1.009 - 1.011</td>\n",
       "      <td>&lt; 0</td>\n",
       "      <td>ckd</td>\n",
       "      <td>0</td>\n",
       "      <td>&lt; 0</td>\n",
       "      <td>0</td>\n",
       "      <td>0</td>\n",
       "      <td>0</td>\n",
       "      <td>...</td>\n",
       "      <td>0</td>\n",
       "      <td>0</td>\n",
       "      <td>0</td>\n",
       "      <td>0</td>\n",
       "      <td>0</td>\n",
       "      <td>0</td>\n",
       "      <td>≥ 227.944</td>\n",
       "      <td>s1</td>\n",
       "      <td>1</td>\n",
       "      <td>&lt; 12</td>\n",
       "    </tr>\n",
       "    <tr>\n",
       "      <th>4</th>\n",
       "      <td>0</td>\n",
       "      <td>0</td>\n",
       "      <td>1.009 - 1.011</td>\n",
       "      <td>≥ 4</td>\n",
       "      <td>ckd</td>\n",
       "      <td>1</td>\n",
       "      <td>&lt; 0</td>\n",
       "      <td>1</td>\n",
       "      <td>0</td>\n",
       "      <td>1</td>\n",
       "      <td>...</td>\n",
       "      <td>0</td>\n",
       "      <td>0</td>\n",
       "      <td>0</td>\n",
       "      <td>1</td>\n",
       "      <td>0</td>\n",
       "      <td>0</td>\n",
       "      <td>127.281 - 152.446</td>\n",
       "      <td>s1</td>\n",
       "      <td>1</td>\n",
       "      <td>&lt; 12</td>\n",
       "    </tr>\n",
       "  </tbody>\n",
       "</table>\n",
       "<p>5 rows × 29 columns</p>\n",
       "</div>"
      ],
      "text/plain": [
       "  bp (Diastolic)  bp limit             sg        al     class       rbc  \\\n",
       "0       discrete  discrete       discrete  discrete  discrete  discrete   \n",
       "1            NaN       NaN            NaN       NaN       NaN       NaN   \n",
       "2              0         0  1.019 - 1.021     1 - 1       ckd         0   \n",
       "3              0         0  1.009 - 1.011       < 0       ckd         0   \n",
       "4              0         0  1.009 - 1.011       ≥ 4       ckd         1   \n",
       "\n",
       "         su        pc       pcc        ba  ...       htn        dm       cad  \\\n",
       "0  discrete  discrete  discrete  discrete  ...  discrete  discrete  discrete   \n",
       "1       NaN       NaN       NaN       NaN  ...       NaN       NaN       NaN   \n",
       "2       < 0         0         0         0  ...         0         0         0   \n",
       "3       < 0         0         0         0  ...         0         0         0   \n",
       "4       < 0         1         0         1  ...         0         0         0   \n",
       "\n",
       "      appet        pe       ane                grf     stage  affected  \\\n",
       "0  discrete  discrete  discrete           discrete  discrete  discrete   \n",
       "1       NaN       NaN       NaN                NaN       NaN     class   \n",
       "2         0         0         0          ≥ 227.944        s1         1   \n",
       "3         0         0         0          ≥ 227.944        s1         1   \n",
       "4         1         0         0  127.281 - 152.446        s1         1   \n",
       "\n",
       "        age  \n",
       "0  discrete  \n",
       "1      meta  \n",
       "2      < 12  \n",
       "3      < 12  \n",
       "4      < 12  \n",
       "\n",
       "[5 rows x 29 columns]"
      ]
     },
     "execution_count": 4,
     "metadata": {},
     "output_type": "execute_result"
    }
   ],
   "source": [
    "df.head()"
   ]
  },
  {
   "cell_type": "code",
   "execution_count": 5,
   "id": "adb02801",
   "metadata": {},
   "outputs": [
    {
     "data": {
      "text/plain": [
       "bp (Diastolic)    1\n",
       "bp limit          1\n",
       "sg                1\n",
       "al                1\n",
       "class             1\n",
       "rbc               1\n",
       "su                1\n",
       "pc                1\n",
       "pcc               1\n",
       "ba                1\n",
       "bgr               1\n",
       "bu                1\n",
       "sod               1\n",
       "sc                1\n",
       "pot               1\n",
       "hemo              1\n",
       "pcv               1\n",
       "rbcc              1\n",
       "wbcc              1\n",
       "htn               1\n",
       "dm                1\n",
       "cad               1\n",
       "appet             1\n",
       "pe                1\n",
       "ane               1\n",
       "grf               1\n",
       "stage             1\n",
       "affected          0\n",
       "age               0\n",
       "dtype: int64"
      ]
     },
     "execution_count": 5,
     "metadata": {},
     "output_type": "execute_result"
    }
   ],
   "source": [
    "df.isnull().sum() # here we can see all attribute has one null value expect affected and age attribute "
   ]
  },
  {
   "cell_type": "code",
   "execution_count": 6,
   "id": "7795f9e1",
   "metadata": {},
   "outputs": [
    {
     "data": {
      "text/html": [
       "<div>\n",
       "<style scoped>\n",
       "    .dataframe tbody tr th:only-of-type {\n",
       "        vertical-align: middle;\n",
       "    }\n",
       "\n",
       "    .dataframe tbody tr th {\n",
       "        vertical-align: top;\n",
       "    }\n",
       "\n",
       "    .dataframe thead th {\n",
       "        text-align: right;\n",
       "    }\n",
       "</style>\n",
       "<table border=\"1\" class=\"dataframe\">\n",
       "  <thead>\n",
       "    <tr style=\"text-align: right;\">\n",
       "      <th></th>\n",
       "      <th>bp (Diastolic)</th>\n",
       "      <th>bp limit</th>\n",
       "      <th>sg</th>\n",
       "      <th>al</th>\n",
       "      <th>class</th>\n",
       "      <th>rbc</th>\n",
       "      <th>su</th>\n",
       "      <th>pc</th>\n",
       "      <th>pcc</th>\n",
       "      <th>ba</th>\n",
       "      <th>bgr</th>\n",
       "      <th>bu</th>\n",
       "      <th>sod</th>\n",
       "      <th>sc</th>\n",
       "      <th>pot</th>\n",
       "      <th>hemo</th>\n",
       "      <th>pcv</th>\n",
       "      <th>rbcc</th>\n",
       "      <th>wbcc</th>\n",
       "      <th>htn</th>\n",
       "      <th>dm</th>\n",
       "      <th>cad</th>\n",
       "      <th>appet</th>\n",
       "      <th>pe</th>\n",
       "      <th>ane</th>\n",
       "      <th>grf</th>\n",
       "      <th>stage</th>\n",
       "      <th>affected</th>\n",
       "      <th>age</th>\n",
       "    </tr>\n",
       "  </thead>\n",
       "  <tbody>\n",
       "    <tr>\n",
       "      <th>0</th>\n",
       "      <td>discrete</td>\n",
       "      <td>discrete</td>\n",
       "      <td>discrete</td>\n",
       "      <td>discrete</td>\n",
       "      <td>discrete</td>\n",
       "      <td>discrete</td>\n",
       "      <td>discrete</td>\n",
       "      <td>discrete</td>\n",
       "      <td>discrete</td>\n",
       "      <td>discrete</td>\n",
       "      <td>discrete</td>\n",
       "      <td>discrete</td>\n",
       "      <td>discrete</td>\n",
       "      <td>discrete</td>\n",
       "      <td>discrete</td>\n",
       "      <td>discrete</td>\n",
       "      <td>discrete</td>\n",
       "      <td>discrete</td>\n",
       "      <td>discrete</td>\n",
       "      <td>discrete</td>\n",
       "      <td>discrete</td>\n",
       "      <td>discrete</td>\n",
       "      <td>discrete</td>\n",
       "      <td>discrete</td>\n",
       "      <td>discrete</td>\n",
       "      <td>discrete</td>\n",
       "      <td>discrete</td>\n",
       "      <td>discrete</td>\n",
       "      <td>discrete</td>\n",
       "    </tr>\n",
       "    <tr>\n",
       "      <th>1</th>\n",
       "      <td>NaN</td>\n",
       "      <td>NaN</td>\n",
       "      <td>NaN</td>\n",
       "      <td>NaN</td>\n",
       "      <td>NaN</td>\n",
       "      <td>NaN</td>\n",
       "      <td>NaN</td>\n",
       "      <td>NaN</td>\n",
       "      <td>NaN</td>\n",
       "      <td>NaN</td>\n",
       "      <td>NaN</td>\n",
       "      <td>NaN</td>\n",
       "      <td>NaN</td>\n",
       "      <td>NaN</td>\n",
       "      <td>NaN</td>\n",
       "      <td>NaN</td>\n",
       "      <td>NaN</td>\n",
       "      <td>NaN</td>\n",
       "      <td>NaN</td>\n",
       "      <td>NaN</td>\n",
       "      <td>NaN</td>\n",
       "      <td>NaN</td>\n",
       "      <td>NaN</td>\n",
       "      <td>NaN</td>\n",
       "      <td>NaN</td>\n",
       "      <td>NaN</td>\n",
       "      <td>NaN</td>\n",
       "      <td>class</td>\n",
       "      <td>meta</td>\n",
       "    </tr>\n",
       "    <tr>\n",
       "      <th>2</th>\n",
       "      <td>0</td>\n",
       "      <td>0</td>\n",
       "      <td>1.019 - 1.021</td>\n",
       "      <td>1 - 1</td>\n",
       "      <td>ckd</td>\n",
       "      <td>0</td>\n",
       "      <td>&lt; 0</td>\n",
       "      <td>0</td>\n",
       "      <td>0</td>\n",
       "      <td>0</td>\n",
       "      <td>&lt; 112</td>\n",
       "      <td>&lt; 48.1</td>\n",
       "      <td>138 - 143</td>\n",
       "      <td>&lt; 3.65</td>\n",
       "      <td>&lt; 7.31</td>\n",
       "      <td>11.3 - 12.6</td>\n",
       "      <td>33.5 - 37.4</td>\n",
       "      <td>4.46 - 5.05</td>\n",
       "      <td>7360 - 9740</td>\n",
       "      <td>0</td>\n",
       "      <td>0</td>\n",
       "      <td>0</td>\n",
       "      <td>0</td>\n",
       "      <td>0</td>\n",
       "      <td>0</td>\n",
       "      <td>≥ 227.944</td>\n",
       "      <td>s1</td>\n",
       "      <td>1</td>\n",
       "      <td>&lt; 12</td>\n",
       "    </tr>\n",
       "    <tr>\n",
       "      <th>3</th>\n",
       "      <td>0</td>\n",
       "      <td>0</td>\n",
       "      <td>1.009 - 1.011</td>\n",
       "      <td>&lt; 0</td>\n",
       "      <td>ckd</td>\n",
       "      <td>0</td>\n",
       "      <td>&lt; 0</td>\n",
       "      <td>0</td>\n",
       "      <td>0</td>\n",
       "      <td>0</td>\n",
       "      <td>112 - 154</td>\n",
       "      <td>&lt; 48.1</td>\n",
       "      <td>133 - 138</td>\n",
       "      <td>&lt; 3.65</td>\n",
       "      <td>&lt; 7.31</td>\n",
       "      <td>11.3 - 12.6</td>\n",
       "      <td>33.5 - 37.4</td>\n",
       "      <td>4.46 - 5.05</td>\n",
       "      <td>12120 - 14500</td>\n",
       "      <td>0</td>\n",
       "      <td>0</td>\n",
       "      <td>0</td>\n",
       "      <td>0</td>\n",
       "      <td>0</td>\n",
       "      <td>0</td>\n",
       "      <td>≥ 227.944</td>\n",
       "      <td>s1</td>\n",
       "      <td>1</td>\n",
       "      <td>&lt; 12</td>\n",
       "    </tr>\n",
       "    <tr>\n",
       "      <th>4</th>\n",
       "      <td>0</td>\n",
       "      <td>0</td>\n",
       "      <td>1.009 - 1.011</td>\n",
       "      <td>≥ 4</td>\n",
       "      <td>ckd</td>\n",
       "      <td>1</td>\n",
       "      <td>&lt; 0</td>\n",
       "      <td>1</td>\n",
       "      <td>0</td>\n",
       "      <td>1</td>\n",
       "      <td>&lt; 112</td>\n",
       "      <td>48.1 - 86.2</td>\n",
       "      <td>133 - 138</td>\n",
       "      <td>&lt; 3.65</td>\n",
       "      <td>&lt; 7.31</td>\n",
       "      <td>8.7 - 10</td>\n",
       "      <td>29.6 - 33.5</td>\n",
       "      <td>4.46 - 5.05</td>\n",
       "      <td>14500 - 16880</td>\n",
       "      <td>0</td>\n",
       "      <td>0</td>\n",
       "      <td>0</td>\n",
       "      <td>1</td>\n",
       "      <td>0</td>\n",
       "      <td>0</td>\n",
       "      <td>127.281 - 152.446</td>\n",
       "      <td>s1</td>\n",
       "      <td>1</td>\n",
       "      <td>&lt; 12</td>\n",
       "    </tr>\n",
       "  </tbody>\n",
       "</table>\n",
       "</div>"
      ],
      "text/plain": [
       "  bp (Diastolic)  bp limit             sg        al     class       rbc  \\\n",
       "0       discrete  discrete       discrete  discrete  discrete  discrete   \n",
       "1            NaN       NaN            NaN       NaN       NaN       NaN   \n",
       "2              0         0  1.019 - 1.021     1 - 1       ckd         0   \n",
       "3              0         0  1.009 - 1.011       < 0       ckd         0   \n",
       "4              0         0  1.009 - 1.011       ≥ 4       ckd         1   \n",
       "\n",
       "         su        pc       pcc        ba        bgr           bu        sod  \\\n",
       "0  discrete  discrete  discrete  discrete   discrete     discrete   discrete   \n",
       "1       NaN       NaN       NaN       NaN        NaN          NaN        NaN   \n",
       "2       < 0         0         0         0      < 112       < 48.1  138 - 143   \n",
       "3       < 0         0         0         0  112 - 154       < 48.1  133 - 138   \n",
       "4       < 0         1         0         1      < 112  48.1 - 86.2  133 - 138   \n",
       "\n",
       "         sc       pot         hemo          pcv         rbcc           wbcc  \\\n",
       "0  discrete  discrete     discrete     discrete     discrete       discrete   \n",
       "1       NaN       NaN          NaN          NaN          NaN            NaN   \n",
       "2    < 3.65    < 7.31  11.3 - 12.6  33.5 - 37.4  4.46 - 5.05    7360 - 9740   \n",
       "3    < 3.65    < 7.31  11.3 - 12.6  33.5 - 37.4  4.46 - 5.05  12120 - 14500   \n",
       "4    < 3.65    < 7.31     8.7 - 10  29.6 - 33.5  4.46 - 5.05  14500 - 16880   \n",
       "\n",
       "        htn        dm       cad     appet        pe       ane  \\\n",
       "0  discrete  discrete  discrete  discrete  discrete  discrete   \n",
       "1       NaN       NaN       NaN       NaN       NaN       NaN   \n",
       "2         0         0         0         0         0         0   \n",
       "3         0         0         0         0         0         0   \n",
       "4         0         0         0         1         0         0   \n",
       "\n",
       "                 grf     stage  affected       age  \n",
       "0           discrete  discrete  discrete  discrete  \n",
       "1                NaN       NaN     class      meta  \n",
       "2          ≥ 227.944        s1         1      < 12  \n",
       "3          ≥ 227.944        s1         1      < 12  \n",
       "4  127.281 - 152.446        s1         1      < 12  "
      ]
     },
     "execution_count": 6,
     "metadata": {},
     "output_type": "execute_result"
    }
   ],
   "source": [
    "pd.set_option('max_columns', None) # to show all coloum in dataframe\n",
    "df.head()"
   ]
  },
  {
   "cell_type": "markdown",
   "id": "149db625",
   "metadata": {},
   "source": [
    "Handle missing value ( Drop / Fill)"
   ]
  },
  {
   "cell_type": "code",
   "execution_count": 7,
   "id": "84a1ce2c",
   "metadata": {
    "scrolled": true
   },
   "outputs": [],
   "source": [
    "df = df.drop(0)         # we have drop it because i could impact the data just for 1 data out of 202"
   ]
  },
  {
   "cell_type": "code",
   "execution_count": 8,
   "id": "f7a54ea6",
   "metadata": {},
   "outputs": [
    {
     "data": {
      "text/html": [
       "<div>\n",
       "<style scoped>\n",
       "    .dataframe tbody tr th:only-of-type {\n",
       "        vertical-align: middle;\n",
       "    }\n",
       "\n",
       "    .dataframe tbody tr th {\n",
       "        vertical-align: top;\n",
       "    }\n",
       "\n",
       "    .dataframe thead th {\n",
       "        text-align: right;\n",
       "    }\n",
       "</style>\n",
       "<table border=\"1\" class=\"dataframe\">\n",
       "  <thead>\n",
       "    <tr style=\"text-align: right;\">\n",
       "      <th></th>\n",
       "      <th>bp (Diastolic)</th>\n",
       "      <th>bp limit</th>\n",
       "      <th>sg</th>\n",
       "      <th>al</th>\n",
       "      <th>class</th>\n",
       "      <th>rbc</th>\n",
       "      <th>su</th>\n",
       "      <th>pc</th>\n",
       "      <th>pcc</th>\n",
       "      <th>ba</th>\n",
       "      <th>bgr</th>\n",
       "      <th>bu</th>\n",
       "      <th>sod</th>\n",
       "      <th>sc</th>\n",
       "      <th>pot</th>\n",
       "      <th>hemo</th>\n",
       "      <th>pcv</th>\n",
       "      <th>rbcc</th>\n",
       "      <th>wbcc</th>\n",
       "      <th>htn</th>\n",
       "      <th>dm</th>\n",
       "      <th>cad</th>\n",
       "      <th>appet</th>\n",
       "      <th>pe</th>\n",
       "      <th>ane</th>\n",
       "      <th>grf</th>\n",
       "      <th>stage</th>\n",
       "      <th>affected</th>\n",
       "      <th>age</th>\n",
       "    </tr>\n",
       "  </thead>\n",
       "  <tbody>\n",
       "    <tr>\n",
       "      <th>1</th>\n",
       "      <td>NaN</td>\n",
       "      <td>NaN</td>\n",
       "      <td>NaN</td>\n",
       "      <td>NaN</td>\n",
       "      <td>NaN</td>\n",
       "      <td>NaN</td>\n",
       "      <td>NaN</td>\n",
       "      <td>NaN</td>\n",
       "      <td>NaN</td>\n",
       "      <td>NaN</td>\n",
       "      <td>NaN</td>\n",
       "      <td>NaN</td>\n",
       "      <td>NaN</td>\n",
       "      <td>NaN</td>\n",
       "      <td>NaN</td>\n",
       "      <td>NaN</td>\n",
       "      <td>NaN</td>\n",
       "      <td>NaN</td>\n",
       "      <td>NaN</td>\n",
       "      <td>NaN</td>\n",
       "      <td>NaN</td>\n",
       "      <td>NaN</td>\n",
       "      <td>NaN</td>\n",
       "      <td>NaN</td>\n",
       "      <td>NaN</td>\n",
       "      <td>NaN</td>\n",
       "      <td>NaN</td>\n",
       "      <td>class</td>\n",
       "      <td>meta</td>\n",
       "    </tr>\n",
       "    <tr>\n",
       "      <th>2</th>\n",
       "      <td>0</td>\n",
       "      <td>0</td>\n",
       "      <td>1.019 - 1.021</td>\n",
       "      <td>1 - 1</td>\n",
       "      <td>ckd</td>\n",
       "      <td>0</td>\n",
       "      <td>&lt; 0</td>\n",
       "      <td>0</td>\n",
       "      <td>0</td>\n",
       "      <td>0</td>\n",
       "      <td>&lt; 112</td>\n",
       "      <td>&lt; 48.1</td>\n",
       "      <td>138 - 143</td>\n",
       "      <td>&lt; 3.65</td>\n",
       "      <td>&lt; 7.31</td>\n",
       "      <td>11.3 - 12.6</td>\n",
       "      <td>33.5 - 37.4</td>\n",
       "      <td>4.46 - 5.05</td>\n",
       "      <td>7360 - 9740</td>\n",
       "      <td>0</td>\n",
       "      <td>0</td>\n",
       "      <td>0</td>\n",
       "      <td>0</td>\n",
       "      <td>0</td>\n",
       "      <td>0</td>\n",
       "      <td>≥ 227.944</td>\n",
       "      <td>s1</td>\n",
       "      <td>1</td>\n",
       "      <td>&lt; 12</td>\n",
       "    </tr>\n",
       "    <tr>\n",
       "      <th>3</th>\n",
       "      <td>0</td>\n",
       "      <td>0</td>\n",
       "      <td>1.009 - 1.011</td>\n",
       "      <td>&lt; 0</td>\n",
       "      <td>ckd</td>\n",
       "      <td>0</td>\n",
       "      <td>&lt; 0</td>\n",
       "      <td>0</td>\n",
       "      <td>0</td>\n",
       "      <td>0</td>\n",
       "      <td>112 - 154</td>\n",
       "      <td>&lt; 48.1</td>\n",
       "      <td>133 - 138</td>\n",
       "      <td>&lt; 3.65</td>\n",
       "      <td>&lt; 7.31</td>\n",
       "      <td>11.3 - 12.6</td>\n",
       "      <td>33.5 - 37.4</td>\n",
       "      <td>4.46 - 5.05</td>\n",
       "      <td>12120 - 14500</td>\n",
       "      <td>0</td>\n",
       "      <td>0</td>\n",
       "      <td>0</td>\n",
       "      <td>0</td>\n",
       "      <td>0</td>\n",
       "      <td>0</td>\n",
       "      <td>≥ 227.944</td>\n",
       "      <td>s1</td>\n",
       "      <td>1</td>\n",
       "      <td>&lt; 12</td>\n",
       "    </tr>\n",
       "    <tr>\n",
       "      <th>4</th>\n",
       "      <td>0</td>\n",
       "      <td>0</td>\n",
       "      <td>1.009 - 1.011</td>\n",
       "      <td>≥ 4</td>\n",
       "      <td>ckd</td>\n",
       "      <td>1</td>\n",
       "      <td>&lt; 0</td>\n",
       "      <td>1</td>\n",
       "      <td>0</td>\n",
       "      <td>1</td>\n",
       "      <td>&lt; 112</td>\n",
       "      <td>48.1 - 86.2</td>\n",
       "      <td>133 - 138</td>\n",
       "      <td>&lt; 3.65</td>\n",
       "      <td>&lt; 7.31</td>\n",
       "      <td>8.7 - 10</td>\n",
       "      <td>29.6 - 33.5</td>\n",
       "      <td>4.46 - 5.05</td>\n",
       "      <td>14500 - 16880</td>\n",
       "      <td>0</td>\n",
       "      <td>0</td>\n",
       "      <td>0</td>\n",
       "      <td>1</td>\n",
       "      <td>0</td>\n",
       "      <td>0</td>\n",
       "      <td>127.281 - 152.446</td>\n",
       "      <td>s1</td>\n",
       "      <td>1</td>\n",
       "      <td>&lt; 12</td>\n",
       "    </tr>\n",
       "    <tr>\n",
       "      <th>5</th>\n",
       "      <td>1</td>\n",
       "      <td>1</td>\n",
       "      <td>1.009 - 1.011</td>\n",
       "      <td>3 - 3</td>\n",
       "      <td>ckd</td>\n",
       "      <td>0</td>\n",
       "      <td>&lt; 0</td>\n",
       "      <td>0</td>\n",
       "      <td>0</td>\n",
       "      <td>0</td>\n",
       "      <td>112 - 154</td>\n",
       "      <td>&lt; 48.1</td>\n",
       "      <td>133 - 138</td>\n",
       "      <td>&lt; 3.65</td>\n",
       "      <td>&lt; 7.31</td>\n",
       "      <td>13.9 - 15.2</td>\n",
       "      <td>41.3 - 45.2</td>\n",
       "      <td>4.46 - 5.05</td>\n",
       "      <td>7360 - 9740</td>\n",
       "      <td>0</td>\n",
       "      <td>0</td>\n",
       "      <td>0</td>\n",
       "      <td>0</td>\n",
       "      <td>0</td>\n",
       "      <td>0</td>\n",
       "      <td>127.281 - 152.446</td>\n",
       "      <td>s1</td>\n",
       "      <td>1</td>\n",
       "      <td>&lt; 12</td>\n",
       "    </tr>\n",
       "    <tr>\n",
       "      <th>...</th>\n",
       "      <td>...</td>\n",
       "      <td>...</td>\n",
       "      <td>...</td>\n",
       "      <td>...</td>\n",
       "      <td>...</td>\n",
       "      <td>...</td>\n",
       "      <td>...</td>\n",
       "      <td>...</td>\n",
       "      <td>...</td>\n",
       "      <td>...</td>\n",
       "      <td>...</td>\n",
       "      <td>...</td>\n",
       "      <td>...</td>\n",
       "      <td>...</td>\n",
       "      <td>...</td>\n",
       "      <td>...</td>\n",
       "      <td>...</td>\n",
       "      <td>...</td>\n",
       "      <td>...</td>\n",
       "      <td>...</td>\n",
       "      <td>...</td>\n",
       "      <td>...</td>\n",
       "      <td>...</td>\n",
       "      <td>...</td>\n",
       "      <td>...</td>\n",
       "      <td>...</td>\n",
       "      <td>...</td>\n",
       "      <td>...</td>\n",
       "      <td>...</td>\n",
       "    </tr>\n",
       "    <tr>\n",
       "      <th>197</th>\n",
       "      <td>1</td>\n",
       "      <td>2</td>\n",
       "      <td>1.019 - 1.021</td>\n",
       "      <td>&lt; 0</td>\n",
       "      <td>ckd</td>\n",
       "      <td>0</td>\n",
       "      <td>&lt; 0</td>\n",
       "      <td>0</td>\n",
       "      <td>0</td>\n",
       "      <td>0</td>\n",
       "      <td>154 - 196</td>\n",
       "      <td>&lt; 48.1</td>\n",
       "      <td>138 - 143</td>\n",
       "      <td>&lt; 3.65</td>\n",
       "      <td>&lt; 7.31</td>\n",
       "      <td>8.7 - 10</td>\n",
       "      <td>29.6 - 33.5</td>\n",
       "      <td>4.46 - 5.05</td>\n",
       "      <td>7360 - 9740</td>\n",
       "      <td>1</td>\n",
       "      <td>1</td>\n",
       "      <td>0</td>\n",
       "      <td>0</td>\n",
       "      <td>0</td>\n",
       "      <td>1</td>\n",
       "      <td>26.6175 - 51.7832</td>\n",
       "      <td>s3</td>\n",
       "      <td>1</td>\n",
       "      <td>≥ 74</td>\n",
       "    </tr>\n",
       "    <tr>\n",
       "      <th>198</th>\n",
       "      <td>0</td>\n",
       "      <td>0</td>\n",
       "      <td>1.019 - 1.021</td>\n",
       "      <td>&lt; 0</td>\n",
       "      <td>ckd</td>\n",
       "      <td>0</td>\n",
       "      <td>&lt; 0</td>\n",
       "      <td>0</td>\n",
       "      <td>0</td>\n",
       "      <td>0</td>\n",
       "      <td>112 - 154</td>\n",
       "      <td>48.1 - 86.2</td>\n",
       "      <td>133 - 138</td>\n",
       "      <td>&lt; 3.65</td>\n",
       "      <td>&lt; 7.31</td>\n",
       "      <td>7.4 - 8.7</td>\n",
       "      <td>21.8 - 25.7</td>\n",
       "      <td>4.46 - 5.05</td>\n",
       "      <td>7360 - 9740</td>\n",
       "      <td>0</td>\n",
       "      <td>1</td>\n",
       "      <td>0</td>\n",
       "      <td>0</td>\n",
       "      <td>0</td>\n",
       "      <td>1</td>\n",
       "      <td>&lt; 26.6175</td>\n",
       "      <td>s4</td>\n",
       "      <td>1</td>\n",
       "      <td>≥ 74</td>\n",
       "    </tr>\n",
       "    <tr>\n",
       "      <th>199</th>\n",
       "      <td>1</td>\n",
       "      <td>1</td>\n",
       "      <td>≥ 1.023</td>\n",
       "      <td>&lt; 0</td>\n",
       "      <td>notckd</td>\n",
       "      <td>0</td>\n",
       "      <td>&lt; 0</td>\n",
       "      <td>0</td>\n",
       "      <td>0</td>\n",
       "      <td>0</td>\n",
       "      <td>&lt; 112</td>\n",
       "      <td>&lt; 48.1</td>\n",
       "      <td>143 - 148</td>\n",
       "      <td>&lt; 3.65</td>\n",
       "      <td>&lt; 7.31</td>\n",
       "      <td>15.2 - 16.5</td>\n",
       "      <td>37.4 - 41.3</td>\n",
       "      <td>6.23 - 6.82</td>\n",
       "      <td>7360 - 9740</td>\n",
       "      <td>0</td>\n",
       "      <td>0</td>\n",
       "      <td>0</td>\n",
       "      <td>0</td>\n",
       "      <td>0</td>\n",
       "      <td>0</td>\n",
       "      <td>51.7832 - 76.949</td>\n",
       "      <td>s2</td>\n",
       "      <td>0</td>\n",
       "      <td>≥ 74</td>\n",
       "    </tr>\n",
       "    <tr>\n",
       "      <th>200</th>\n",
       "      <td>1</td>\n",
       "      <td>1</td>\n",
       "      <td>≥ 1.023</td>\n",
       "      <td>&lt; 0</td>\n",
       "      <td>notckd</td>\n",
       "      <td>0</td>\n",
       "      <td>&lt; 0</td>\n",
       "      <td>0</td>\n",
       "      <td>0</td>\n",
       "      <td>0</td>\n",
       "      <td>112 - 154</td>\n",
       "      <td>&lt; 48.1</td>\n",
       "      <td>138 - 143</td>\n",
       "      <td>&lt; 3.65</td>\n",
       "      <td>&lt; 7.31</td>\n",
       "      <td>13.9 - 15.2</td>\n",
       "      <td>45.2 - 49.1</td>\n",
       "      <td>4.46 - 5.05</td>\n",
       "      <td>4980 - 7360</td>\n",
       "      <td>0</td>\n",
       "      <td>0</td>\n",
       "      <td>0</td>\n",
       "      <td>0</td>\n",
       "      <td>0</td>\n",
       "      <td>0</td>\n",
       "      <td>102.115 - 127.281</td>\n",
       "      <td>s1</td>\n",
       "      <td>0</td>\n",
       "      <td>≥ 74</td>\n",
       "    </tr>\n",
       "    <tr>\n",
       "      <th>201</th>\n",
       "      <td>1</td>\n",
       "      <td>1</td>\n",
       "      <td>1.009 - 1.011</td>\n",
       "      <td>2 - 2</td>\n",
       "      <td>ckd</td>\n",
       "      <td>0</td>\n",
       "      <td>2 - 2</td>\n",
       "      <td>0</td>\n",
       "      <td>0</td>\n",
       "      <td>0</td>\n",
       "      <td>112 - 154</td>\n",
       "      <td>48.1 - 86.2</td>\n",
       "      <td>133 - 138</td>\n",
       "      <td>&lt; 3.65</td>\n",
       "      <td>&lt; 7.31</td>\n",
       "      <td>12.6 - 13.9</td>\n",
       "      <td>37.4 - 41.3</td>\n",
       "      <td>3.87 - 4.46</td>\n",
       "      <td>9740 - 12120</td>\n",
       "      <td>1</td>\n",
       "      <td>1</td>\n",
       "      <td>0</td>\n",
       "      <td>0</td>\n",
       "      <td>0</td>\n",
       "      <td>0</td>\n",
       "      <td>&lt; 26.6175</td>\n",
       "      <td>s4</td>\n",
       "      <td>1</td>\n",
       "      <td>≥ 74</td>\n",
       "    </tr>\n",
       "  </tbody>\n",
       "</table>\n",
       "<p>201 rows × 29 columns</p>\n",
       "</div>"
      ],
      "text/plain": [
       "    bp (Diastolic) bp limit             sg     al   class  rbc     su   pc  \\\n",
       "1              NaN      NaN            NaN    NaN     NaN  NaN    NaN  NaN   \n",
       "2                0        0  1.019 - 1.021  1 - 1     ckd    0    < 0    0   \n",
       "3                0        0  1.009 - 1.011    < 0     ckd    0    < 0    0   \n",
       "4                0        0  1.009 - 1.011    ≥ 4     ckd    1    < 0    1   \n",
       "5                1        1  1.009 - 1.011  3 - 3     ckd    0    < 0    0   \n",
       "..             ...      ...            ...    ...     ...  ...    ...  ...   \n",
       "197              1        2  1.019 - 1.021    < 0     ckd    0    < 0    0   \n",
       "198              0        0  1.019 - 1.021    < 0     ckd    0    < 0    0   \n",
       "199              1        1        ≥ 1.023    < 0  notckd    0    < 0    0   \n",
       "200              1        1        ≥ 1.023    < 0  notckd    0    < 0    0   \n",
       "201              1        1  1.009 - 1.011  2 - 2     ckd    0  2 - 2    0   \n",
       "\n",
       "     pcc   ba        bgr           bu        sod      sc     pot         hemo  \\\n",
       "1    NaN  NaN        NaN          NaN        NaN     NaN     NaN          NaN   \n",
       "2      0    0      < 112       < 48.1  138 - 143  < 3.65  < 7.31  11.3 - 12.6   \n",
       "3      0    0  112 - 154       < 48.1  133 - 138  < 3.65  < 7.31  11.3 - 12.6   \n",
       "4      0    1      < 112  48.1 - 86.2  133 - 138  < 3.65  < 7.31     8.7 - 10   \n",
       "5      0    0  112 - 154       < 48.1  133 - 138  < 3.65  < 7.31  13.9 - 15.2   \n",
       "..   ...  ...        ...          ...        ...     ...     ...          ...   \n",
       "197    0    0  154 - 196       < 48.1  138 - 143  < 3.65  < 7.31     8.7 - 10   \n",
       "198    0    0  112 - 154  48.1 - 86.2  133 - 138  < 3.65  < 7.31    7.4 - 8.7   \n",
       "199    0    0      < 112       < 48.1  143 - 148  < 3.65  < 7.31  15.2 - 16.5   \n",
       "200    0    0  112 - 154       < 48.1  138 - 143  < 3.65  < 7.31  13.9 - 15.2   \n",
       "201    0    0  112 - 154  48.1 - 86.2  133 - 138  < 3.65  < 7.31  12.6 - 13.9   \n",
       "\n",
       "             pcv         rbcc           wbcc  htn   dm  cad appet   pe  ane  \\\n",
       "1            NaN          NaN            NaN  NaN  NaN  NaN   NaN  NaN  NaN   \n",
       "2    33.5 - 37.4  4.46 - 5.05    7360 - 9740    0    0    0     0    0    0   \n",
       "3    33.5 - 37.4  4.46 - 5.05  12120 - 14500    0    0    0     0    0    0   \n",
       "4    29.6 - 33.5  4.46 - 5.05  14500 - 16880    0    0    0     1    0    0   \n",
       "5    41.3 - 45.2  4.46 - 5.05    7360 - 9740    0    0    0     0    0    0   \n",
       "..           ...          ...            ...  ...  ...  ...   ...  ...  ...   \n",
       "197  29.6 - 33.5  4.46 - 5.05    7360 - 9740    1    1    0     0    0    1   \n",
       "198  21.8 - 25.7  4.46 - 5.05    7360 - 9740    0    1    0     0    0    1   \n",
       "199  37.4 - 41.3  6.23 - 6.82    7360 - 9740    0    0    0     0    0    0   \n",
       "200  45.2 - 49.1  4.46 - 5.05    4980 - 7360    0    0    0     0    0    0   \n",
       "201  37.4 - 41.3  3.87 - 4.46   9740 - 12120    1    1    0     0    0    0   \n",
       "\n",
       "                   grf stage affected   age  \n",
       "1                  NaN   NaN    class  meta  \n",
       "2            ≥ 227.944    s1        1  < 12  \n",
       "3            ≥ 227.944    s1        1  < 12  \n",
       "4    127.281 - 152.446    s1        1  < 12  \n",
       "5    127.281 - 152.446    s1        1  < 12  \n",
       "..                 ...   ...      ...   ...  \n",
       "197  26.6175 - 51.7832    s3        1  ≥ 74  \n",
       "198          < 26.6175    s4        1  ≥ 74  \n",
       "199   51.7832 - 76.949    s2        0  ≥ 74  \n",
       "200  102.115 - 127.281    s1        0  ≥ 74  \n",
       "201          < 26.6175    s4        1  ≥ 74  \n",
       "\n",
       "[201 rows x 29 columns]"
      ]
     },
     "execution_count": 8,
     "metadata": {},
     "output_type": "execute_result"
    }
   ],
   "source": [
    " df  # here we can see that  row number 2 is deleted  sucessfully "
   ]
  },
  {
   "cell_type": "code",
   "execution_count": 9,
   "id": "59ed417c",
   "metadata": {},
   "outputs": [],
   "source": [
    "df.dropna(inplace = True) # drop NAN  => it would deleted data 2 "
   ]
  },
  {
   "cell_type": "code",
   "execution_count": 10,
   "id": "dfdcb4ec",
   "metadata": {},
   "outputs": [
    {
     "data": {
      "text/html": [
       "<div>\n",
       "<style scoped>\n",
       "    .dataframe tbody tr th:only-of-type {\n",
       "        vertical-align: middle;\n",
       "    }\n",
       "\n",
       "    .dataframe tbody tr th {\n",
       "        vertical-align: top;\n",
       "    }\n",
       "\n",
       "    .dataframe thead th {\n",
       "        text-align: right;\n",
       "    }\n",
       "</style>\n",
       "<table border=\"1\" class=\"dataframe\">\n",
       "  <thead>\n",
       "    <tr style=\"text-align: right;\">\n",
       "      <th></th>\n",
       "      <th>bp (Diastolic)</th>\n",
       "      <th>bp limit</th>\n",
       "      <th>sg</th>\n",
       "      <th>al</th>\n",
       "      <th>class</th>\n",
       "      <th>rbc</th>\n",
       "      <th>su</th>\n",
       "      <th>pc</th>\n",
       "      <th>pcc</th>\n",
       "      <th>ba</th>\n",
       "      <th>bgr</th>\n",
       "      <th>bu</th>\n",
       "      <th>sod</th>\n",
       "      <th>sc</th>\n",
       "      <th>pot</th>\n",
       "      <th>hemo</th>\n",
       "      <th>pcv</th>\n",
       "      <th>rbcc</th>\n",
       "      <th>wbcc</th>\n",
       "      <th>htn</th>\n",
       "      <th>dm</th>\n",
       "      <th>cad</th>\n",
       "      <th>appet</th>\n",
       "      <th>pe</th>\n",
       "      <th>ane</th>\n",
       "      <th>grf</th>\n",
       "      <th>stage</th>\n",
       "      <th>affected</th>\n",
       "      <th>age</th>\n",
       "    </tr>\n",
       "  </thead>\n",
       "  <tbody>\n",
       "    <tr>\n",
       "      <th>2</th>\n",
       "      <td>0</td>\n",
       "      <td>0</td>\n",
       "      <td>1.019 - 1.021</td>\n",
       "      <td>1 - 1</td>\n",
       "      <td>ckd</td>\n",
       "      <td>0</td>\n",
       "      <td>&lt; 0</td>\n",
       "      <td>0</td>\n",
       "      <td>0</td>\n",
       "      <td>0</td>\n",
       "      <td>&lt; 112</td>\n",
       "      <td>&lt; 48.1</td>\n",
       "      <td>138 - 143</td>\n",
       "      <td>&lt; 3.65</td>\n",
       "      <td>&lt; 7.31</td>\n",
       "      <td>11.3 - 12.6</td>\n",
       "      <td>33.5 - 37.4</td>\n",
       "      <td>4.46 - 5.05</td>\n",
       "      <td>7360 - 9740</td>\n",
       "      <td>0</td>\n",
       "      <td>0</td>\n",
       "      <td>0</td>\n",
       "      <td>0</td>\n",
       "      <td>0</td>\n",
       "      <td>0</td>\n",
       "      <td>≥ 227.944</td>\n",
       "      <td>s1</td>\n",
       "      <td>1</td>\n",
       "      <td>&lt; 12</td>\n",
       "    </tr>\n",
       "    <tr>\n",
       "      <th>3</th>\n",
       "      <td>0</td>\n",
       "      <td>0</td>\n",
       "      <td>1.009 - 1.011</td>\n",
       "      <td>&lt; 0</td>\n",
       "      <td>ckd</td>\n",
       "      <td>0</td>\n",
       "      <td>&lt; 0</td>\n",
       "      <td>0</td>\n",
       "      <td>0</td>\n",
       "      <td>0</td>\n",
       "      <td>112 - 154</td>\n",
       "      <td>&lt; 48.1</td>\n",
       "      <td>133 - 138</td>\n",
       "      <td>&lt; 3.65</td>\n",
       "      <td>&lt; 7.31</td>\n",
       "      <td>11.3 - 12.6</td>\n",
       "      <td>33.5 - 37.4</td>\n",
       "      <td>4.46 - 5.05</td>\n",
       "      <td>12120 - 14500</td>\n",
       "      <td>0</td>\n",
       "      <td>0</td>\n",
       "      <td>0</td>\n",
       "      <td>0</td>\n",
       "      <td>0</td>\n",
       "      <td>0</td>\n",
       "      <td>≥ 227.944</td>\n",
       "      <td>s1</td>\n",
       "      <td>1</td>\n",
       "      <td>&lt; 12</td>\n",
       "    </tr>\n",
       "    <tr>\n",
       "      <th>4</th>\n",
       "      <td>0</td>\n",
       "      <td>0</td>\n",
       "      <td>1.009 - 1.011</td>\n",
       "      <td>≥ 4</td>\n",
       "      <td>ckd</td>\n",
       "      <td>1</td>\n",
       "      <td>&lt; 0</td>\n",
       "      <td>1</td>\n",
       "      <td>0</td>\n",
       "      <td>1</td>\n",
       "      <td>&lt; 112</td>\n",
       "      <td>48.1 - 86.2</td>\n",
       "      <td>133 - 138</td>\n",
       "      <td>&lt; 3.65</td>\n",
       "      <td>&lt; 7.31</td>\n",
       "      <td>8.7 - 10</td>\n",
       "      <td>29.6 - 33.5</td>\n",
       "      <td>4.46 - 5.05</td>\n",
       "      <td>14500 - 16880</td>\n",
       "      <td>0</td>\n",
       "      <td>0</td>\n",
       "      <td>0</td>\n",
       "      <td>1</td>\n",
       "      <td>0</td>\n",
       "      <td>0</td>\n",
       "      <td>127.281 - 152.446</td>\n",
       "      <td>s1</td>\n",
       "      <td>1</td>\n",
       "      <td>&lt; 12</td>\n",
       "    </tr>\n",
       "    <tr>\n",
       "      <th>5</th>\n",
       "      <td>1</td>\n",
       "      <td>1</td>\n",
       "      <td>1.009 - 1.011</td>\n",
       "      <td>3 - 3</td>\n",
       "      <td>ckd</td>\n",
       "      <td>0</td>\n",
       "      <td>&lt; 0</td>\n",
       "      <td>0</td>\n",
       "      <td>0</td>\n",
       "      <td>0</td>\n",
       "      <td>112 - 154</td>\n",
       "      <td>&lt; 48.1</td>\n",
       "      <td>133 - 138</td>\n",
       "      <td>&lt; 3.65</td>\n",
       "      <td>&lt; 7.31</td>\n",
       "      <td>13.9 - 15.2</td>\n",
       "      <td>41.3 - 45.2</td>\n",
       "      <td>4.46 - 5.05</td>\n",
       "      <td>7360 - 9740</td>\n",
       "      <td>0</td>\n",
       "      <td>0</td>\n",
       "      <td>0</td>\n",
       "      <td>0</td>\n",
       "      <td>0</td>\n",
       "      <td>0</td>\n",
       "      <td>127.281 - 152.446</td>\n",
       "      <td>s1</td>\n",
       "      <td>1</td>\n",
       "      <td>&lt; 12</td>\n",
       "    </tr>\n",
       "    <tr>\n",
       "      <th>6</th>\n",
       "      <td>0</td>\n",
       "      <td>0</td>\n",
       "      <td>1.015 - 1.017</td>\n",
       "      <td>&lt; 0</td>\n",
       "      <td>ckd</td>\n",
       "      <td>0</td>\n",
       "      <td>&lt; 0</td>\n",
       "      <td>0</td>\n",
       "      <td>0</td>\n",
       "      <td>0</td>\n",
       "      <td>154 - 196</td>\n",
       "      <td>&lt; 48.1</td>\n",
       "      <td>133 - 138</td>\n",
       "      <td>&lt; 3.65</td>\n",
       "      <td>&lt; 7.31</td>\n",
       "      <td>13.9 - 15.2</td>\n",
       "      <td>37.4 - 41.3</td>\n",
       "      <td>5.05 - 5.64</td>\n",
       "      <td>7360 - 9740</td>\n",
       "      <td>0</td>\n",
       "      <td>1</td>\n",
       "      <td>0</td>\n",
       "      <td>1</td>\n",
       "      <td>1</td>\n",
       "      <td>0</td>\n",
       "      <td>127.281 - 152.446</td>\n",
       "      <td>s1</td>\n",
       "      <td>1</td>\n",
       "      <td>12 - 20</td>\n",
       "    </tr>\n",
       "  </tbody>\n",
       "</table>\n",
       "</div>"
      ],
      "text/plain": [
       "  bp (Diastolic) bp limit             sg     al class rbc   su pc pcc ba  \\\n",
       "2              0        0  1.019 - 1.021  1 - 1   ckd   0  < 0  0   0  0   \n",
       "3              0        0  1.009 - 1.011    < 0   ckd   0  < 0  0   0  0   \n",
       "4              0        0  1.009 - 1.011    ≥ 4   ckd   1  < 0  1   0  1   \n",
       "5              1        1  1.009 - 1.011  3 - 3   ckd   0  < 0  0   0  0   \n",
       "6              0        0  1.015 - 1.017    < 0   ckd   0  < 0  0   0  0   \n",
       "\n",
       "         bgr           bu        sod      sc     pot         hemo  \\\n",
       "2      < 112       < 48.1  138 - 143  < 3.65  < 7.31  11.3 - 12.6   \n",
       "3  112 - 154       < 48.1  133 - 138  < 3.65  < 7.31  11.3 - 12.6   \n",
       "4      < 112  48.1 - 86.2  133 - 138  < 3.65  < 7.31     8.7 - 10   \n",
       "5  112 - 154       < 48.1  133 - 138  < 3.65  < 7.31  13.9 - 15.2   \n",
       "6  154 - 196       < 48.1  133 - 138  < 3.65  < 7.31  13.9 - 15.2   \n",
       "\n",
       "           pcv         rbcc           wbcc htn dm cad appet pe ane  \\\n",
       "2  33.5 - 37.4  4.46 - 5.05    7360 - 9740   0  0   0     0  0   0   \n",
       "3  33.5 - 37.4  4.46 - 5.05  12120 - 14500   0  0   0     0  0   0   \n",
       "4  29.6 - 33.5  4.46 - 5.05  14500 - 16880   0  0   0     1  0   0   \n",
       "5  41.3 - 45.2  4.46 - 5.05    7360 - 9740   0  0   0     0  0   0   \n",
       "6  37.4 - 41.3  5.05 - 5.64    7360 - 9740   0  1   0     1  1   0   \n",
       "\n",
       "                 grf stage affected      age  \n",
       "2          ≥ 227.944    s1        1     < 12  \n",
       "3          ≥ 227.944    s1        1     < 12  \n",
       "4  127.281 - 152.446    s1        1     < 12  \n",
       "5  127.281 - 152.446    s1        1     < 12  \n",
       "6  127.281 - 152.446    s1        1  12 - 20  "
      ]
     },
     "execution_count": 10,
     "metadata": {},
     "output_type": "execute_result"
    }
   ],
   "source": [
    "df.head() # Now 0 and 1 row/data/tuples has deleted "
   ]
  },
  {
   "cell_type": "code",
   "execution_count": 11,
   "id": "ca5a6854",
   "metadata": {},
   "outputs": [
    {
     "data": {
      "text/plain": [
       "bp (Diastolic)    0\n",
       "bp limit          0\n",
       "sg                0\n",
       "al                0\n",
       "class             0\n",
       "rbc               0\n",
       "su                0\n",
       "pc                0\n",
       "pcc               0\n",
       "ba                0\n",
       "bgr               0\n",
       "bu                0\n",
       "sod               0\n",
       "sc                0\n",
       "pot               0\n",
       "hemo              0\n",
       "pcv               0\n",
       "rbcc              0\n",
       "wbcc              0\n",
       "htn               0\n",
       "dm                0\n",
       "cad               0\n",
       "appet             0\n",
       "pe                0\n",
       "ane               0\n",
       "grf               0\n",
       "stage             0\n",
       "affected          0\n",
       "age               0\n",
       "dtype: int64"
      ]
     },
     "execution_count": 11,
     "metadata": {},
     "output_type": "execute_result"
    }
   ],
   "source": [
    "df.isnull().sum() # here we can see that there is no null value in any attribute"
   ]
  },
  {
   "cell_type": "code",
   "execution_count": 12,
   "id": "1db06540",
   "metadata": {},
   "outputs": [
    {
     "data": {
      "text/plain": [
       "(200, 29)"
      ]
     },
     "execution_count": 12,
     "metadata": {},
     "output_type": "execute_result"
    }
   ],
   "source": [
    "df.shape # after removing data 1 and 2 we have 200 reaming data/tuple/rows"
   ]
  },
  {
   "cell_type": "markdown",
   "id": "4d52684b",
   "metadata": {},
   "source": [
    "handle the ranges/alphabetic "
   ]
  },
  {
   "cell_type": "markdown",
   "id": "6b66514d",
   "metadata": {},
   "source": [
    "For class atrribute"
   ]
  },
  {
   "cell_type": "code",
   "execution_count": 13,
   "id": "5619efff",
   "metadata": {},
   "outputs": [
    {
     "data": {
      "text/plain": [
       "ckd       128\n",
       "notckd     72\n",
       "Name: class, dtype: int64"
      ]
     },
     "execution_count": 13,
     "metadata": {},
     "output_type": "execute_result"
    }
   ],
   "source": [
    "# handle CKD and notCKD  of class attribute to make it 1 & 0 =>  make CKD to 1 and notCKD to 0\n",
    "df['class'].value_counts()"
   ]
  },
  {
   "cell_type": "code",
   "execution_count": 14,
   "id": "07566ba2",
   "metadata": {},
   "outputs": [],
   "source": [
    "df['class'] = df['class'].map({'ckd': 1, 'notckd': 0}) # map the ckd or notckd in 1 and 0 form"
   ]
  },
  {
   "cell_type": "code",
   "execution_count": 15,
   "id": "fe7d8b13",
   "metadata": {},
   "outputs": [
    {
     "data": {
      "text/plain": [
       "2    1\n",
       "3    1\n",
       "4    1\n",
       "5    1\n",
       "6    1\n",
       "Name: class, dtype: int64"
      ]
     },
     "execution_count": 15,
     "metadata": {},
     "output_type": "execute_result"
    }
   ],
   "source": [
    "df['class'].head()"
   ]
  },
  {
   "cell_type": "code",
   "execution_count": 16,
   "id": "287c352e",
   "metadata": {},
   "outputs": [
    {
     "data": {
      "text/plain": [
       "<AxesSubplot:xlabel='class', ylabel='count'>"
      ]
     },
     "execution_count": 16,
     "metadata": {},
     "output_type": "execute_result"
    },
    {
     "data": {
      "image/png": "[encoded data removed]",
      "text/plain": [
       "<Figure size 432x288 with 1 Axes>"
      ]
     },
     "metadata": {
      "needs_background": "light"
     },
     "output_type": "display_data"
    }
   ],
   "source": [
    "sns.countplot(df['class'])"
   ]
  },
  {
   "cell_type": "markdown",
   "id": "2d2a8838",
   "metadata": {},
   "source": [
    " handle the structing problem in stage attribute ( Remove charater S in stage attribute)"
   ]
  },
  {
   "cell_type": "code",
   "execution_count": 17,
   "id": "5b2d1afe",
   "metadata": {},
   "outputs": [
    {
     "data": {
      "text/plain": [
       "s1    54\n",
       "s4    45\n",
       "s5    35\n",
       "s2    35\n",
       "s3    31\n",
       "Name: stage, dtype: int64"
      ]
     },
     "execution_count": 17,
     "metadata": {},
     "output_type": "execute_result"
    }
   ],
   "source": [
    "df['stage'].value_counts() # In satage there are structing problem "
   ]
  },
  {
   "cell_type": "code",
   "execution_count": 18,
   "id": "76f27645",
   "metadata": {},
   "outputs": [],
   "source": [
    "df['stage'] = df.stage.str.extract('([0-9]+)' , expand = False )   # remove s from stage attribute"
   ]
  },
  {
   "cell_type": "code",
   "execution_count": 19,
   "id": "718c639a",
   "metadata": {},
   "outputs": [
    {
     "data": {
      "text/plain": [
       "1    54\n",
       "4    45\n",
       "5    35\n",
       "2    35\n",
       "3    31\n",
       "Name: stage, dtype: int64"
      ]
     },
     "execution_count": 19,
     "metadata": {},
     "output_type": "execute_result"
    }
   ],
   "source": [
    "df['stage'].value_counts() # so , removed the S in hole data"
   ]
  },
  {
   "cell_type": "code",
   "execution_count": 20,
   "id": "28ce6349",
   "metadata": {},
   "outputs": [
    {
     "data": {
      "text/plain": [
       "<AxesSubplot:xlabel='stage', ylabel='count'>"
      ]
     },
     "execution_count": 20,
     "metadata": {},
     "output_type": "execute_result"
    },
    {
     "data": {
      "image/png": "[encoded data removed]",
      "text/plain": [
       "<Figure size 432x288 with 1 Axes>"
      ]
     },
     "metadata": {
      "needs_background": "light"
     },
     "output_type": "display_data"
    }
   ],
   "source": [
    "sns.countplot(df['stage'])\n"
   ]
  },
  {
   "cell_type": "markdown",
   "id": "3969828e",
   "metadata": {},
   "source": [
    "handle the ranges of grf attribute"
   ]
  },
  {
   "cell_type": "code",
   "execution_count": 21,
   "id": "75352e6f",
   "metadata": {},
   "outputs": [
    {
     "data": {
      "text/plain": [
       "< 26.6175            68\n",
       "26.6175 - 51.7832    38\n",
       "51.7832 - 76.949     28\n",
       "76.949 - 102.115     17\n",
       "102.115 - 127.281    15\n",
       "127.281 - 152.446    11\n",
       "152.446 - 177.612     9\n",
       "177.612 - 202.778     8\n",
       "202.778 - 227.944     3\n",
       "≥ 227.944             2\n",
       " p                    1\n",
       "Name: grf, dtype: int64"
      ]
     },
     "execution_count": 21,
     "metadata": {},
     "output_type": "execute_result"
    }
   ],
   "source": [
    "df['grf'].value_counts()   # grf attribute has p so we find the index the remove/drop it because it's is useless"
   ]
  },
  {
   "cell_type": "code",
   "execution_count": 22,
   "id": "2f6bfec4",
   "metadata": {},
   "outputs": [
    {
     "data": {
      "text/plain": [
       "<bound method IndexOpsMixin.tolist of Int64Index([181], dtype='int64')>"
      ]
     },
     "execution_count": 22,
     "metadata": {},
     "output_type": "execute_result"
    }
   ],
   "source": [
    "df.index[df['grf']==' p '].tolist # find the location of p  index number id 181 so, we drop it "
   ]
  },
  {
   "cell_type": "code",
   "execution_count": 23,
   "id": "dfe1a544",
   "metadata": {},
   "outputs": [],
   "source": [
    "df['grf'].replace(' p ', np.nan , inplace=True) "
   ]
  },
  {
   "cell_type": "code",
   "execution_count": 24,
   "id": "7a8cb081",
   "metadata": {},
   "outputs": [
    {
     "data": {
      "text/plain": [
       "< 26.6175            68\n",
       "26.6175 - 51.7832    38\n",
       "51.7832 - 76.949     28\n",
       "76.949 - 102.115     17\n",
       "102.115 - 127.281    15\n",
       "127.281 - 152.446    11\n",
       "152.446 - 177.612     9\n",
       "177.612 - 202.778     8\n",
       "202.778 - 227.944     3\n",
       "≥ 227.944             2\n",
       "Name: grf, dtype: int64"
      ]
     },
     "execution_count": 24,
     "metadata": {},
     "output_type": "execute_result"
    }
   ],
   "source": [
    "df['grf'].value_counts() "
   ]
  },
  {
   "cell_type": "code",
   "execution_count": 25,
   "id": "63d69036",
   "metadata": {},
   "outputs": [
    {
     "data": {
      "text/plain": [
       "1"
      ]
     },
     "execution_count": 25,
     "metadata": {},
     "output_type": "execute_result"
    }
   ],
   "source": [
    "df['grf'].isnull().sum()  # here we can see that there is olny one null value which we maded (make p to NaN)"
   ]
  },
  {
   "cell_type": "code",
   "execution_count": 26,
   "id": "06e171bc",
   "metadata": {},
   "outputs": [],
   "source": [
    "df['grf'].fillna(method = 'ffill' , inplace = True) # so fill nan to forward fill or we can drop it as well"
   ]
  },
  {
   "cell_type": "code",
   "execution_count": 27,
   "id": "fd0454f3",
   "metadata": {},
   "outputs": [
    {
     "data": {
      "text/plain": [
       "0"
      ]
     },
     "execution_count": 27,
     "metadata": {},
     "output_type": "execute_result"
    }
   ],
   "source": [
    "df['grf'].isnull().sum()"
   ]
  },
  {
   "cell_type": "code",
   "execution_count": 28,
   "id": "433c2d1f",
   "metadata": {},
   "outputs": [
    {
     "data": {
      "text/plain": [
       "< 26.6175            69\n",
       "26.6175 - 51.7832    38\n",
       "51.7832 - 76.949     28\n",
       "76.949 - 102.115     17\n",
       "102.115 - 127.281    15\n",
       "127.281 - 152.446    11\n",
       "152.446 - 177.612     9\n",
       "177.612 - 202.778     8\n",
       "202.778 - 227.944     3\n",
       "≥ 227.944             2\n",
       "Name: grf, dtype: int64"
      ]
     },
     "execution_count": 28,
     "metadata": {},
     "output_type": "execute_result"
    }
   ],
   "source": [
    "df['grf'].value_counts()"
   ]
  },
  {
   "cell_type": "code",
   "execution_count": 29,
   "id": "8cacf584",
   "metadata": {},
   "outputs": [],
   "source": [
    "# n=df['grf'].unique()   # handle the ranges of grf  \n",
    "\n",
    "# for i in range(0,len(n)):\n",
    "#     df['grf'].replace(n[i],i,inplace=True)  "
   ]
  },
  {
   "cell_type": "code",
   "execution_count": 30,
   "id": "965d9cd7",
   "metadata": {},
   "outputs": [],
   "source": [
    "df['grf'] = df['grf'].replace(['< 26.6175'], '0' )  # hanlde the ranges of grf\n",
    "df['grf'] = df['grf'].replace(['26.6175 - 51.7832'], '1' )\n",
    "df['grf'] = df['grf'].replace(['51.7832 - 76.949'], '2' )\n",
    "df['grf'] = df['grf'].replace(['76.949 - 102.115'], '3' )\n",
    "df['grf'] = df['grf'].replace(['102.115 - 127.281'], '4' )\n",
    "df['grf'] = df['grf'].replace(['127.281 - 152.446'], '5' )\n",
    "df['grf'] = df['grf'].replace(['152.446 - 177.612'], '6' )\n",
    "df['grf'] = df['grf'].replace(['177.612 - 202.778'], '7' )\n",
    "df['grf'] = df['grf'].replace(['202.778 - 227.944'], '8' )\n",
    "df['grf'] = df['grf'].replace(['≥ 227.944'], '9' )"
   ]
  },
  {
   "cell_type": "code",
   "execution_count": 31,
   "id": "d6e4adb2",
   "metadata": {},
   "outputs": [
    {
     "data": {
      "text/plain": [
       "0    69\n",
       "1    38\n",
       "2    28\n",
       "3    17\n",
       "4    15\n",
       "5    11\n",
       "6     9\n",
       "7     8\n",
       "8     3\n",
       "9     2\n",
       "Name: grf, dtype: int64"
      ]
     },
     "execution_count": 31,
     "metadata": {},
     "output_type": "execute_result"
    }
   ],
   "source": [
    "df['grf'].value_counts()"
   ]
  },
  {
   "cell_type": "markdown",
   "id": "73994859",
   "metadata": {},
   "source": [
    "handle the age attribute"
   ]
  },
  {
   "cell_type": "code",
   "execution_count": 32,
   "id": "42123421",
   "metadata": {},
   "outputs": [
    {
     "data": {
      "text/plain": [
       "59 - 66    48\n",
       "66 - 74    34\n",
       "51 - 59    33\n",
       "43 - 51    31\n",
       "27 - 35    14\n",
       "35 - 43    12\n",
       "≥ 74       10\n",
       "20 - 27    10\n",
       "< 12        4\n",
       "12 - 20     4\n",
       "Name: age, dtype: int64"
      ]
     },
     "execution_count": 32,
     "metadata": {},
     "output_type": "execute_result"
    }
   ],
   "source": [
    "df['age'].value_counts()"
   ]
  },
  {
   "cell_type": "code",
   "execution_count": 33,
   "id": "fab382c5",
   "metadata": {},
   "outputs": [],
   "source": [
    "df['age'] = df['age'].replace(['59 - 66'], '0' )\n",
    "df['age'] = df['age'].replace(['66 - 74'], '1' )\n",
    "df['age'] = df['age'].replace(['51 - 59'], '2' )\n",
    "df['age'] = df['age'].replace(['43 - 51'], '3' )\n",
    "df['age'] = df['age'].replace(['27 - 35'], '4' )\n",
    "df['age'] = df['age'].replace(['35 - 43'], '5' )\n",
    "df['age'] = df['age'].replace(['20 - 27'], '6' )\n",
    "df['age'] = df['age'].replace(['≥ 74'], '7' )\n",
    "df['age'] = df['age'].replace(['12 - 20'], '8' )\n",
    "df['age'] = df['age'].replace(['< 12'], '9' )\n"
   ]
  },
  {
   "cell_type": "code",
   "execution_count": 34,
   "id": "f398f77a",
   "metadata": {},
   "outputs": [],
   "source": [
    "# n=df['age'].unique()   # handle the ranges age\n",
    "\n",
    "# for i in range(0,len(n)):\n",
    "#     df['age'].replace(n[i],i,inplace=True) "
   ]
  },
  {
   "cell_type": "code",
   "execution_count": 35,
   "id": "8513a231",
   "metadata": {},
   "outputs": [
    {
     "data": {
      "text/plain": [
       "0    48\n",
       "1    34\n",
       "2    33\n",
       "3    31\n",
       "4    14\n",
       "5    12\n",
       "7    10\n",
       "6    10\n",
       "9     4\n",
       "8     4\n",
       "Name: age, dtype: int64"
      ]
     },
     "execution_count": 35,
     "metadata": {},
     "output_type": "execute_result"
    }
   ],
   "source": [
    "df['age'].value_counts()"
   ]
  },
  {
   "cell_type": "markdown",
   "id": "e2b13b48",
   "metadata": {},
   "source": [
    "handle the sugar(su) attribute"
   ]
  },
  {
   "cell_type": "code",
   "execution_count": 36,
   "id": "4ad39fed",
   "metadata": {},
   "outputs": [
    {
     "data": {
      "text/plain": [
       "< 0      170\n",
       "2 - 2      9\n",
       "3 - 4      8\n",
       "1 - 2      6\n",
       "4 - 4      6\n",
       "≥ 4        1\n",
       "Name: su, dtype: int64"
      ]
     },
     "execution_count": 36,
     "metadata": {},
     "output_type": "execute_result"
    }
   ],
   "source": [
    "df['su'].value_counts()"
   ]
  },
  {
   "cell_type": "code",
   "execution_count": 37,
   "id": "e85e0597",
   "metadata": {},
   "outputs": [],
   "source": [
    "# n=df['su'].unique()   # handle the ranges su\n",
    "\n",
    "# for i in range(0,len(n)):\n",
    "#     df['su'].replace(n[i],i,inplace=True)  "
   ]
  },
  {
   "cell_type": "code",
   "execution_count": 38,
   "id": "83d2f57e",
   "metadata": {},
   "outputs": [],
   "source": [
    "df['su'] = df['su'].replace(['< 0'], '0' )\n",
    "df['su'] = df['su'].replace(['2 - 2'], '1' )\n",
    "df['su'] = df['su'].replace(['3 - 4'], '2' )\n",
    "df['su'] = df['su'].replace(['4 - 4'], '3' )\n",
    "df['su'] = df['su'].replace(['1 - 2'], '4' )\n",
    "df['su'] = df['su'].replace(['≥ 4'], '5' )"
   ]
  },
  {
   "cell_type": "code",
   "execution_count": 39,
   "id": "25601252",
   "metadata": {},
   "outputs": [
    {
     "data": {
      "text/plain": [
       "0    170\n",
       "1      9\n",
       "2      8\n",
       "4      6\n",
       "3      6\n",
       "5      1\n",
       "Name: su, dtype: int64"
      ]
     },
     "execution_count": 39,
     "metadata": {},
     "output_type": "execute_result"
    }
   ],
   "source": [
    "df['su'].value_counts()"
   ]
  },
  {
   "cell_type": "markdown",
   "id": "1216f57c",
   "metadata": {},
   "source": [
    "handle the al attribute"
   ]
  },
  {
   "cell_type": "code",
   "execution_count": 40,
   "id": "f1706c00",
   "metadata": {},
   "outputs": [
    {
     "data": {
      "text/plain": [
       "< 0      116\n",
       "2 - 2     27\n",
       "3 - 3     23\n",
       "1 - 1     21\n",
       "≥ 4       13\n",
       "Name: al, dtype: int64"
      ]
     },
     "execution_count": 40,
     "metadata": {},
     "output_type": "execute_result"
    }
   ],
   "source": [
    "df['al'].value_counts()"
   ]
  },
  {
   "cell_type": "code",
   "execution_count": 41,
   "id": "3ce9c957",
   "metadata": {},
   "outputs": [],
   "source": [
    "df['al'] = df['al'].replace(['< 0'], '0' )  # handle the ranges of al \n",
    "df['al'] = df['al'].replace(['2 - 2'], '1' )\n",
    "df['al'] = df['al'].replace(['3 - 3'], '2' )\n",
    "df['al'] = df['al'].replace(['1 - 1'], '3' )\n",
    "df['al'] = df['al'].replace(['≥ 4'], '4' )"
   ]
  },
  {
   "cell_type": "code",
   "execution_count": 42,
   "id": "8853445b",
   "metadata": {},
   "outputs": [],
   "source": [
    "# n=df['al'].unique()   # handle the ranges  al\n",
    "\n",
    "# for i in range(0,len(n)):\n",
    "#     df['al'].replace(n[i],i,inplace=True)  "
   ]
  },
  {
   "cell_type": "code",
   "execution_count": 43,
   "id": "4d7a21a6",
   "metadata": {},
   "outputs": [
    {
     "data": {
      "text/plain": [
       "0    116\n",
       "1     27\n",
       "2     23\n",
       "3     21\n",
       "4     13\n",
       "Name: al, dtype: int64"
      ]
     },
     "execution_count": 43,
     "metadata": {},
     "output_type": "execute_result"
    }
   ],
   "source": [
    "df['al'].value_counts()"
   ]
  },
  {
   "cell_type": "markdown",
   "id": "c70c5627",
   "metadata": {},
   "source": [
    "handle the sg attribute"
   ]
  },
  {
   "cell_type": "code",
   "execution_count": 44,
   "id": "24abf763",
   "metadata": {},
   "outputs": [
    {
     "data": {
      "text/plain": [
       "1.019 - 1.021    75\n",
       "1.009 - 1.011    45\n",
       "≥ 1.023          41\n",
       "1.015 - 1.017    36\n",
       "< 1.007           3\n",
       "Name: sg, dtype: int64"
      ]
     },
     "execution_count": 44,
     "metadata": {},
     "output_type": "execute_result"
    }
   ],
   "source": [
    "df['sg'].value_counts()"
   ]
  },
  {
   "cell_type": "code",
   "execution_count": 45,
   "id": "15b1e6e0",
   "metadata": {},
   "outputs": [],
   "source": [
    "# n=df['sg'].unique()   # handle the ranges  sg\n",
    "\n",
    "# for i in range(0,len(n)):\n",
    "#     df['sg'].replace(n[i],i,inplace=True)  "
   ]
  },
  {
   "cell_type": "code",
   "execution_count": 46,
   "id": "fddfe7f7",
   "metadata": {},
   "outputs": [],
   "source": [
    "df['sg'] = df['sg'].replace(['1.019 - 1.021'], '0' ) # handle the ranges of sg\n",
    "df['sg'] = df['sg'].replace(['1.009 - 1.011'], '0' ) \n",
    "df['sg'] = df['sg'].replace(['≥ 1.023'], '0' ) \n",
    "df['sg'] = df['sg'].replace(['1.015 - 1.017'], '0' )\n",
    "df['sg'] = df['sg'].replace(['< 1.007'], '0' ) \n"
   ]
  },
  {
   "cell_type": "code",
   "execution_count": 47,
   "id": "bef2a96e",
   "metadata": {},
   "outputs": [
    {
     "data": {
      "text/plain": [
       "0    200\n",
       "Name: sg, dtype: int64"
      ]
     },
     "execution_count": 47,
     "metadata": {},
     "output_type": "execute_result"
    }
   ],
   "source": [
    "df['sg'].value_counts()"
   ]
  },
  {
   "cell_type": "markdown",
   "id": "31d29d56",
   "metadata": {},
   "source": [
    "handle the brg"
   ]
  },
  {
   "cell_type": "code",
   "execution_count": 48,
   "id": "3bae9813",
   "metadata": {},
   "outputs": [
    {
     "data": {
      "text/plain": [
       "112 - 154    79\n",
       "< 112        70\n",
       "196 - 238    14\n",
       "154 - 196    13\n",
       "238 - 280    11\n",
       "280 - 322     4\n",
       "406 - 448     4\n",
       "≥ 448         3\n",
       "322 - 364     1\n",
       "364 - 406     1\n",
       "Name: bgr, dtype: int64"
      ]
     },
     "execution_count": 48,
     "metadata": {},
     "output_type": "execute_result"
    }
   ],
   "source": [
    "df['bgr'].value_counts()"
   ]
  },
  {
   "cell_type": "code",
   "execution_count": 49,
   "id": "1e040f68",
   "metadata": {},
   "outputs": [],
   "source": [
    "# n=df['bgr'].unique()   # handle the ranges  bgr\n",
    "\n",
    "# for i in range(0,len(n)):\n",
    "#     df['bgr'].replace(n[i],i,inplace=True)  "
   ]
  },
  {
   "cell_type": "code",
   "execution_count": 50,
   "id": "402ea6db",
   "metadata": {},
   "outputs": [],
   "source": [
    "df['bgr'] = df['bgr'].replace(['112 - 154'],'0')  # handle the ranegs of brg\n",
    "df['bgr'] = df['bgr'].replace(['< 112'],'1') \n",
    "df['bgr'] = df['bgr'].replace(['196 - 238'],'2') \n",
    "df['bgr'] = df['bgr'].replace(['154 - 196'],'3') \n",
    "df['bgr'] = df['bgr'].replace(['238 - 280'],'4') \n",
    "df['bgr'] = df['bgr'].replace(['280 - 322'],'5') \n",
    "df['bgr'] = df['bgr'].replace(['406 - 448'],'6') \n",
    "df['bgr'] = df['bgr'].replace(['≥ 448'],'7') \n",
    "df['bgr'] = df['bgr'].replace(['364 - 406'],'8') \n",
    "df['bgr'] = df['bgr'].replace(['322 - 364'],'9')"
   ]
  },
  {
   "cell_type": "code",
   "execution_count": 51,
   "id": "ab96b96a",
   "metadata": {},
   "outputs": [
    {
     "data": {
      "text/plain": [
       "0    79\n",
       "1    70\n",
       "2    14\n",
       "3    13\n",
       "4    11\n",
       "5     4\n",
       "6     4\n",
       "7     3\n",
       "9     1\n",
       "8     1\n",
       "Name: bgr, dtype: int64"
      ]
     },
     "execution_count": 51,
     "metadata": {},
     "output_type": "execute_result"
    }
   ],
   "source": [
    "df['bgr'].value_counts()"
   ]
  },
  {
   "cell_type": "markdown",
   "id": "7bb90f55",
   "metadata": {},
   "source": [
    "handle bug attribute"
   ]
  },
  {
   "cell_type": "code",
   "execution_count": 52,
   "id": "44cbe356",
   "metadata": {},
   "outputs": [
    {
     "data": {
      "text/plain": [
       "< 48.1           108\n",
       "48.1 - 86.2       53\n",
       "86.2 - 124.3      16\n",
       "124.3 - 162.4     11\n",
       "200.5 - 238.6      5\n",
       "162.4 - 200.5      5\n",
       "238.6 - 276.7      1\n",
       "≥ 352.9            1\n",
       "Name: bu, dtype: int64"
      ]
     },
     "execution_count": 52,
     "metadata": {},
     "output_type": "execute_result"
    }
   ],
   "source": [
    "df['bu'].value_counts()"
   ]
  },
  {
   "cell_type": "code",
   "execution_count": 53,
   "id": "10dee860",
   "metadata": {},
   "outputs": [],
   "source": [
    "# n=df['bu'].unique()   # handle the ranges  bu\n",
    "\n",
    "# for i in range(0,len(n)):\n",
    "#     df['bu'].replace(n[i],i,inplace=True)  "
   ]
  },
  {
   "cell_type": "code",
   "execution_count": 54,
   "id": "76996bfd",
   "metadata": {},
   "outputs": [],
   "source": [
    "df['bu'] = df['bu'].replace(['< 48.1'],'0') # handle the ranges of bu\n",
    "df['bu'] = df['bu'].replace(['48.1 - 86.2'],'1')\n",
    "df['bu'] = df['bu'].replace(['86.2 - 124.3'],'2')\n",
    "df['bu'] = df['bu'].replace(['124.3 - 162.4'],'3')\n",
    "df['bu'] = df['bu'].replace(['162.4 - 200.5'],'4')\n",
    "df['bu'] = df['bu'].replace(['200.5 - 238.6'],'5')\n",
    "df['bu'] = df['bu'].replace(['≥ 352.9'],'6')\n",
    "df['bu'] = df['bu'].replace(['238.6 - 276.7'],'7')"
   ]
  },
  {
   "cell_type": "code",
   "execution_count": 55,
   "id": "c2de713a",
   "metadata": {},
   "outputs": [
    {
     "data": {
      "text/plain": [
       "0    108\n",
       "1     53\n",
       "2     16\n",
       "3     11\n",
       "5      5\n",
       "4      5\n",
       "7      1\n",
       "6      1\n",
       "Name: bu, dtype: int64"
      ]
     },
     "execution_count": 55,
     "metadata": {},
     "output_type": "execute_result"
    }
   ],
   "source": [
    "df['bu'].value_counts()"
   ]
  },
  {
   "cell_type": "markdown",
   "id": "e019ebb5",
   "metadata": {},
   "source": [
    "handle the sod"
   ]
  },
  {
   "cell_type": "code",
   "execution_count": 56,
   "id": "293ab252",
   "metadata": {},
   "outputs": [
    {
     "data": {
      "text/plain": [
       "133 - 138    92\n",
       "138 - 143    49\n",
       "143 - 148    22\n",
       "128 - 133    14\n",
       "148 - 153     9\n",
       "123 - 128     6\n",
       "< 118         4\n",
       "118 - 123     3\n",
       "≥ 158         1\n",
       "Name: sod, dtype: int64"
      ]
     },
     "execution_count": 56,
     "metadata": {},
     "output_type": "execute_result"
    }
   ],
   "source": [
    "df['sod'].value_counts()"
   ]
  },
  {
   "cell_type": "code",
   "execution_count": 57,
   "id": "2910c96d",
   "metadata": {},
   "outputs": [],
   "source": [
    "# n=df['sod'].unique()   # handle the ranges  sod\n",
    "\n",
    "# for i in range(0,len(n)):\n",
    "#     df['sod'].replace(n[i],i,inplace=True)  "
   ]
  },
  {
   "cell_type": "code",
   "execution_count": 58,
   "id": "26b9cd88",
   "metadata": {},
   "outputs": [],
   "source": [
    "df['sod'] = df['sod'].replace(['133 - 138'],'0') # handle the ranges if sod\n",
    "df['sod'] = df['sod'].replace(['138 - 143'],'1')\n",
    "df['sod'] = df['sod'].replace(['143 - 148'],'2')\n",
    "df['sod'] = df['sod'].replace(['128 - 133'],'3')\n",
    "df['sod'] = df['sod'].replace(['148 - 153'],'4')\n",
    "df['sod'] = df['sod'].replace(['123 - 128'],'5')\n",
    "df['sod'] = df['sod'].replace(['< 118'],'6')\n",
    "df['sod'] = df['sod'].replace(['118 - 123'],'7')\n",
    "df['sod'] = df['sod'].replace(['≥ 158'],'8')\n"
   ]
  },
  {
   "cell_type": "code",
   "execution_count": 59,
   "id": "847f39c8",
   "metadata": {},
   "outputs": [
    {
     "data": {
      "text/plain": [
       "0    92\n",
       "1    49\n",
       "2    22\n",
       "3    14\n",
       "4     9\n",
       "5     6\n",
       "6     4\n",
       "7     3\n",
       "8     1\n",
       "Name: sod, dtype: int64"
      ]
     },
     "execution_count": 59,
     "metadata": {},
     "output_type": "execute_result"
    }
   ],
   "source": [
    "df['sod'].value_counts()"
   ]
  },
  {
   "cell_type": "markdown",
   "id": "fe608b25",
   "metadata": {},
   "source": [
    "handle the sc"
   ]
  },
  {
   "cell_type": "code",
   "execution_count": 60,
   "id": "2927bdb2",
   "metadata": {},
   "outputs": [
    {
     "data": {
      "text/plain": [
       "< 3.65          159\n",
       "3.65 - 6.8       22\n",
       "6.8 - 9.95        9\n",
       "13.1 - 16.25      4\n",
       "9.95 - 13.1       4\n",
       "16.25 - 19.4      1\n",
       "≥ 28.85           1\n",
       "Name: sc, dtype: int64"
      ]
     },
     "execution_count": 60,
     "metadata": {},
     "output_type": "execute_result"
    }
   ],
   "source": [
    "df['sc'].value_counts()"
   ]
  },
  {
   "cell_type": "code",
   "execution_count": 61,
   "id": "90e1844b",
   "metadata": {},
   "outputs": [],
   "source": [
    "# n=df['sc'].unique()   # handle the ranges sc  \n",
    "\n",
    "# for i in range(0,len(n)):\n",
    "#     df['sc'].replace(n[i],i,inplace=True)  "
   ]
  },
  {
   "cell_type": "code",
   "execution_count": 62,
   "id": "2b37b3c9",
   "metadata": {},
   "outputs": [],
   "source": [
    "df['sc'] = df['sc'].replace(['< 3.65'],'0')    # handle the ranges sc\n",
    "df['sc'] = df['sc'].replace(['3.65 - 6.8'],'1')\n",
    "df['sc'] = df['sc'].replace(['6.8 - 9.95'],'2')\n",
    "df['sc'] = df['sc'].replace(['9.95 - 13.1'],'3')\n",
    "df['sc'] = df['sc'].replace(['13.1 - 16.25'],'4')\n",
    "df['sc'] = df['sc'].replace(['≥ 28.85'],'5')\n",
    "df['sc'] = df['sc'].replace(['16.25 - 19.4'],'6')"
   ]
  },
  {
   "cell_type": "code",
   "execution_count": 63,
   "id": "fce2f5ce",
   "metadata": {},
   "outputs": [
    {
     "data": {
      "text/plain": [
       "0    159\n",
       "1     22\n",
       "2      9\n",
       "4      4\n",
       "3      4\n",
       "5      1\n",
       "6      1\n",
       "Name: sc, dtype: int64"
      ]
     },
     "execution_count": 63,
     "metadata": {},
     "output_type": "execute_result"
    }
   ],
   "source": [
    "df['sc'].value_counts()"
   ]
  },
  {
   "cell_type": "markdown",
   "id": "212904e1",
   "metadata": {},
   "source": [
    "handle the pot"
   ]
  },
  {
   "cell_type": "code",
   "execution_count": 64,
   "id": "f2167cca",
   "metadata": {},
   "outputs": [
    {
     "data": {
      "text/plain": [
       "< 7.31           197\n",
       "≥ 42.59            1\n",
       "7.31 - 11.72       1\n",
       "38.18 - 42.59      1\n",
       "Name: pot, dtype: int64"
      ]
     },
     "execution_count": 64,
     "metadata": {},
     "output_type": "execute_result"
    }
   ],
   "source": [
    "df['pot'].value_counts()"
   ]
  },
  {
   "cell_type": "code",
   "execution_count": 65,
   "id": "118b6f9a",
   "metadata": {},
   "outputs": [],
   "source": [
    "# n=df['pot'].unique()   # handle the ranges  pot\n",
    "\n",
    "# for i in range(0,len(n)):\n",
    "#     df['pot'].replace(n[i],i,inplace=True)  "
   ]
  },
  {
   "cell_type": "code",
   "execution_count": 66,
   "id": "2327a8f1",
   "metadata": {},
   "outputs": [],
   "source": [
    "df['pot'] = df['pot'].replace(['< 7.31'],'0')  # handle the ranges  pot\n",
    "df['pot'] = df['pot'].replace(['38.18 - 42.59'],'0')\n",
    "df['pot'] = df['pot'].replace(['7.31 - 11.72'],'0')\n",
    "df['pot'] = df['pot'].replace(['≥ 42.59'],'0')"
   ]
  },
  {
   "cell_type": "code",
   "execution_count": 67,
   "id": "ca74e64e",
   "metadata": {},
   "outputs": [
    {
     "data": {
      "text/plain": [
       "0    200\n",
       "Name: pot, dtype: int64"
      ]
     },
     "execution_count": 67,
     "metadata": {},
     "output_type": "execute_result"
    }
   ],
   "source": [
    "df['pot'].value_counts()"
   ]
  },
  {
   "cell_type": "markdown",
   "id": "efe5f88b",
   "metadata": {},
   "source": [
    "handle the hemo"
   ]
  },
  {
   "cell_type": "code",
   "execution_count": 68,
   "id": "4b98cf35",
   "metadata": {},
   "outputs": [
    {
     "data": {
      "text/plain": [
       "11.3 - 12.6    49\n",
       "10 - 11.3      28\n",
       "13.9 - 15.2    26\n",
       "8.7 - 10       23\n",
       "15.2 - 16.5    20\n",
       "12.6 - 13.9    19\n",
       "≥ 16.5         15\n",
       "7.4 - 8.7      12\n",
       "6.1 - 7.4       4\n",
       "< 6.1           4\n",
       "Name: hemo, dtype: int64"
      ]
     },
     "execution_count": 68,
     "metadata": {},
     "output_type": "execute_result"
    }
   ],
   "source": [
    "df['hemo'].value_counts()"
   ]
  },
  {
   "cell_type": "code",
   "execution_count": 69,
   "id": "39ebed59",
   "metadata": {},
   "outputs": [],
   "source": [
    "# n=df['hemo'].unique()   # handle the ranges  hemo\n",
    "\n",
    "# for i in range(0,len(n)):\n",
    "#     df['hemo'].replace(n[i],i,inplace=True)  "
   ]
  },
  {
   "cell_type": "code",
   "execution_count": 70,
   "id": "c257e678",
   "metadata": {},
   "outputs": [],
   "source": [
    "df['hemo'] = df['hemo'].replace(['11.3 - 12.6'],'0')  # handle the ranges  hemo\n",
    "df['hemo'] = df['hemo'].replace(['10 - 11.3'],'1') \n",
    "df['hemo'] = df['hemo'].replace(['13.9 - 15.2'],'2') \n",
    "df['hemo'] = df['hemo'].replace(['8.7 - 10'],'3') \n",
    "df['hemo'] = df['hemo'].replace(['15.2 - 16.5'],'4') \n",
    "df['hemo'] = df['hemo'].replace(['12.6 - 13.9'],'5') \n",
    "df['hemo'] = df['hemo'].replace(['≥ 16.5'],'6') \n",
    "df['hemo'] = df['hemo'].replace(['7.4 - 8.7'],'7') \n",
    "df['hemo'] = df['hemo'].replace(['6.1 - 7.4'],'8') \n",
    "df['hemo'] = df['hemo'].replace(['< 6.1'],'9') "
   ]
  },
  {
   "cell_type": "code",
   "execution_count": 71,
   "id": "dae0d74e",
   "metadata": {},
   "outputs": [
    {
     "data": {
      "text/plain": [
       "0    49\n",
       "1    28\n",
       "2    26\n",
       "3    23\n",
       "4    20\n",
       "5    19\n",
       "6    15\n",
       "7    12\n",
       "9     4\n",
       "8     4\n",
       "Name: hemo, dtype: int64"
      ]
     },
     "execution_count": 71,
     "metadata": {},
     "output_type": "execute_result"
    }
   ],
   "source": [
    "df['hemo'].value_counts()"
   ]
  },
  {
   "cell_type": "markdown",
   "id": "8bd54df6",
   "metadata": {},
   "source": [
    "handle the pcv"
   ]
  },
  {
   "cell_type": "code",
   "execution_count": 72,
   "id": "4184579d",
   "metadata": {},
   "outputs": [
    {
     "data": {
      "text/plain": [
       "37.4 - 41.3    56\n",
       "41.3 - 45.2    29\n",
       "33.5 - 37.4    23\n",
       "29.6 - 33.5    22\n",
       "≥ 49.1         19\n",
       "25.7 - 29.6    18\n",
       "45.2 - 49.1    17\n",
       "21.8 - 25.7    10\n",
       "< 17.9          3\n",
       "17.9 - 21.8     3\n",
       "Name: pcv, dtype: int64"
      ]
     },
     "execution_count": 72,
     "metadata": {},
     "output_type": "execute_result"
    }
   ],
   "source": [
    "df['pcv'].value_counts()"
   ]
  },
  {
   "cell_type": "code",
   "execution_count": 73,
   "id": "56b2a47c",
   "metadata": {},
   "outputs": [],
   "source": [
    "# n=df['pcv'].unique()   # handle the ranges pcv\n",
    "\n",
    "# for i in range(0,len(n)):\n",
    "#     df['pcv'].replace(n[i],i,inplace=True)  "
   ]
  },
  {
   "cell_type": "code",
   "execution_count": 74,
   "id": "fbb099d9",
   "metadata": {},
   "outputs": [],
   "source": [
    "df['pcv'] = df['pcv'].replace(['37.4 - 41.3'],'0') #handle the ranges of pcv\n",
    "df['pcv'] = df['pcv'].replace(['41.3 - 45.2'],'1') \n",
    "df['pcv'] = df['pcv'].replace(['33.5 - 37.4'],'2') \n",
    "df['pcv'] = df['pcv'].replace(['29.6 - 33.5'],'3') \n",
    "df['pcv'] = df['pcv'].replace(['≥ 49.1'],'4') \n",
    "df['pcv'] = df['pcv'].replace(['25.7 - 29.6'],'5') \n",
    "df['pcv'] = df['pcv'].replace(['45.2 - 49.1'],'6') \n",
    "df['pcv'] = df['pcv'].replace(['21.8 - 25.7'],'7') \n",
    "df['pcv'] = df['pcv'].replace(['17.9 - 21.8'],'8') \n",
    "df['pcv'] = df['pcv'].replace(['< 17.9'],'9') "
   ]
  },
  {
   "cell_type": "code",
   "execution_count": 75,
   "id": "aa2ab4af",
   "metadata": {},
   "outputs": [
    {
     "data": {
      "text/plain": [
       "0    56\n",
       "1    29\n",
       "2    23\n",
       "3    22\n",
       "4    19\n",
       "5    18\n",
       "6    17\n",
       "7    10\n",
       "9     3\n",
       "8     3\n",
       "Name: pcv, dtype: int64"
      ]
     },
     "execution_count": 75,
     "metadata": {},
     "output_type": "execute_result"
    }
   ],
   "source": [
    "df['pcv'].value_counts()"
   ]
  },
  {
   "cell_type": "markdown",
   "id": "cddb26cd",
   "metadata": {},
   "source": [
    "handle the rbcc"
   ]
  },
  {
   "cell_type": "code",
   "execution_count": 76,
   "id": "64209ef4",
   "metadata": {},
   "outputs": [
    {
     "data": {
      "text/plain": [
       "4.46 - 5.05    96\n",
       "5.05 - 5.64    23\n",
       "3.87 - 4.46    21\n",
       "3.28 - 3.87    21\n",
       "5.64 - 6.23    18\n",
       "6.23 - 6.82     9\n",
       "2.69 - 3.28     7\n",
       "< 2.69          4\n",
       "≥ 7.41          1\n",
       "Name: rbcc, dtype: int64"
      ]
     },
     "execution_count": 76,
     "metadata": {},
     "output_type": "execute_result"
    }
   ],
   "source": [
    "df['rbcc'].value_counts()"
   ]
  },
  {
   "cell_type": "code",
   "execution_count": 77,
   "id": "07bac934",
   "metadata": {},
   "outputs": [],
   "source": [
    "# n=df['rbcc'].unique()   # handle the ranges rbcc\n",
    "\n",
    "# for i in range(0,len(n)):\n",
    "#     df['rbcc'].replace(n[i],i,inplace=True)  "
   ]
  },
  {
   "cell_type": "code",
   "execution_count": 78,
   "id": "16a50568",
   "metadata": {},
   "outputs": [],
   "source": [
    "df['rbcc'] = df['rbcc'].replace(['4.46 - 5.05'],'0') # handle the ranges of rbcc\n",
    "df['rbcc'] = df['rbcc'].replace(['5.05 - 5.64'],'1')\n",
    "df['rbcc'] = df['rbcc'].replace(['3.28 - 3.87'],'2')\n",
    "df['rbcc'] = df['rbcc'].replace(['3.87 - 4.46'],'3')\n",
    "df['rbcc'] = df['rbcc'].replace(['5.64 - 6.23'],'4')\n",
    "df['rbcc'] = df['rbcc'].replace(['6.23 - 6.82'],'5')\n",
    "df['rbcc'] = df['rbcc'].replace(['2.69 - 3.28'],'6')\n",
    "df['rbcc'] = df['rbcc'].replace(['< 2.69'],'7')\n",
    "df['rbcc'] = df['rbcc'].replace(['≥ 7.41'],'8')"
   ]
  },
  {
   "cell_type": "code",
   "execution_count": 79,
   "id": "1236aabd",
   "metadata": {},
   "outputs": [
    {
     "data": {
      "text/plain": [
       "0    96\n",
       "1    23\n",
       "3    21\n",
       "2    21\n",
       "4    18\n",
       "5     9\n",
       "6     7\n",
       "7     4\n",
       "8     1\n",
       "Name: rbcc, dtype: int64"
      ]
     },
     "execution_count": 79,
     "metadata": {},
     "output_type": "execute_result"
    }
   ],
   "source": [
    "df['rbcc'].value_counts()"
   ]
  },
  {
   "cell_type": "markdown",
   "id": "0db4d53d",
   "metadata": {},
   "source": [
    "handle the wbcc"
   ]
  },
  {
   "cell_type": "code",
   "execution_count": 80,
   "id": "225fcacd",
   "metadata": {},
   "outputs": [
    {
     "data": {
      "text/plain": [
       "7360 - 9740      98\n",
       "4980 - 7360      47\n",
       "9740 - 12120     29\n",
       "< 4980           10\n",
       "14500 - 16880     6\n",
       "12120 - 14500     6\n",
       "16880 - 19260     2\n",
       "≥ 24020           1\n",
       "19260 - 21640     1\n",
       "Name: wbcc, dtype: int64"
      ]
     },
     "execution_count": 80,
     "metadata": {},
     "output_type": "execute_result"
    }
   ],
   "source": [
    "df['wbcc'].value_counts()"
   ]
  },
  {
   "cell_type": "code",
   "execution_count": 81,
   "id": "7263da8a",
   "metadata": {},
   "outputs": [],
   "source": [
    "# n=df['wbcc'].unique()   # handle the ranges  wbcc\n",
    "\n",
    "# for i in range(0,len(n)):\n",
    "#     df['wbcc'].replace(n[i],i,inplace=True)  "
   ]
  },
  {
   "cell_type": "code",
   "execution_count": 82,
   "id": "5d6aa0f9",
   "metadata": {},
   "outputs": [],
   "source": [
    "df['wbcc'] = df['wbcc'].replace(['7360 - 9740'],'0')           # hanle the ranegs of wbcC\n",
    "df['wbcc'] = df['wbcc'].replace(['4980 - 7360'],'1')\n",
    "df['wbcc'] = df['wbcc'].replace(['9740 - 12120'],'2')\n",
    "df['wbcc'] = df['wbcc'].replace(['< 4980'],'3')\n",
    "df['wbcc'] = df['wbcc'].replace(['12120 - 14500'],'4')\n",
    "df['wbcc'] = df['wbcc'].replace(['14500 - 16880'],'5')\n",
    "df['wbcc'] = df['wbcc'].replace(['16880 - 19260'],'6')\n",
    "df['wbcc'] = df['wbcc'].replace(['≥ 24020'],'7')\n",
    "df['wbcc'] = df['wbcc'].replace(['19260 - 21640'],'8')"
   ]
  },
  {
   "cell_type": "code",
   "execution_count": 83,
   "id": "7e44352e",
   "metadata": {},
   "outputs": [
    {
     "data": {
      "text/plain": [
       "0    98\n",
       "1    47\n",
       "2    29\n",
       "3    10\n",
       "5     6\n",
       "4     6\n",
       "6     2\n",
       "7     1\n",
       "8     1\n",
       "Name: wbcc, dtype: int64"
      ]
     },
     "execution_count": 83,
     "metadata": {},
     "output_type": "execute_result"
    }
   ],
   "source": [
    "df['wbcc'].value_counts()"
   ]
  },
  {
   "cell_type": "code",
   "execution_count": 84,
   "id": "a87737b3",
   "metadata": {},
   "outputs": [
    {
     "data": {
      "text/html": [
       "<div>\n",
       "<style scoped>\n",
       "    .dataframe tbody tr th:only-of-type {\n",
       "        vertical-align: middle;\n",
       "    }\n",
       "\n",
       "    .dataframe tbody tr th {\n",
       "        vertical-align: top;\n",
       "    }\n",
       "\n",
       "    .dataframe thead th {\n",
       "        text-align: right;\n",
       "    }\n",
       "</style>\n",
       "<table border=\"1\" class=\"dataframe\">\n",
       "  <thead>\n",
       "    <tr style=\"text-align: right;\">\n",
       "      <th></th>\n",
       "      <th>bp (Diastolic)</th>\n",
       "      <th>bp limit</th>\n",
       "      <th>sg</th>\n",
       "      <th>al</th>\n",
       "      <th>class</th>\n",
       "      <th>rbc</th>\n",
       "      <th>su</th>\n",
       "      <th>pc</th>\n",
       "      <th>pcc</th>\n",
       "      <th>ba</th>\n",
       "      <th>bgr</th>\n",
       "      <th>bu</th>\n",
       "      <th>sod</th>\n",
       "      <th>sc</th>\n",
       "      <th>pot</th>\n",
       "      <th>hemo</th>\n",
       "      <th>pcv</th>\n",
       "      <th>rbcc</th>\n",
       "      <th>wbcc</th>\n",
       "      <th>htn</th>\n",
       "      <th>dm</th>\n",
       "      <th>cad</th>\n",
       "      <th>appet</th>\n",
       "      <th>pe</th>\n",
       "      <th>ane</th>\n",
       "      <th>grf</th>\n",
       "      <th>stage</th>\n",
       "      <th>affected</th>\n",
       "      <th>age</th>\n",
       "    </tr>\n",
       "  </thead>\n",
       "  <tbody>\n",
       "    <tr>\n",
       "      <th>2</th>\n",
       "      <td>0</td>\n",
       "      <td>0</td>\n",
       "      <td>0</td>\n",
       "      <td>3</td>\n",
       "      <td>1</td>\n",
       "      <td>0</td>\n",
       "      <td>0</td>\n",
       "      <td>0</td>\n",
       "      <td>0</td>\n",
       "      <td>0</td>\n",
       "      <td>1</td>\n",
       "      <td>0</td>\n",
       "      <td>1</td>\n",
       "      <td>0</td>\n",
       "      <td>0</td>\n",
       "      <td>0</td>\n",
       "      <td>2</td>\n",
       "      <td>0</td>\n",
       "      <td>0</td>\n",
       "      <td>0</td>\n",
       "      <td>0</td>\n",
       "      <td>0</td>\n",
       "      <td>0</td>\n",
       "      <td>0</td>\n",
       "      <td>0</td>\n",
       "      <td>9</td>\n",
       "      <td>1</td>\n",
       "      <td>1</td>\n",
       "      <td>9</td>\n",
       "    </tr>\n",
       "    <tr>\n",
       "      <th>3</th>\n",
       "      <td>0</td>\n",
       "      <td>0</td>\n",
       "      <td>0</td>\n",
       "      <td>0</td>\n",
       "      <td>1</td>\n",
       "      <td>0</td>\n",
       "      <td>0</td>\n",
       "      <td>0</td>\n",
       "      <td>0</td>\n",
       "      <td>0</td>\n",
       "      <td>0</td>\n",
       "      <td>0</td>\n",
       "      <td>0</td>\n",
       "      <td>0</td>\n",
       "      <td>0</td>\n",
       "      <td>0</td>\n",
       "      <td>2</td>\n",
       "      <td>0</td>\n",
       "      <td>4</td>\n",
       "      <td>0</td>\n",
       "      <td>0</td>\n",
       "      <td>0</td>\n",
       "      <td>0</td>\n",
       "      <td>0</td>\n",
       "      <td>0</td>\n",
       "      <td>9</td>\n",
       "      <td>1</td>\n",
       "      <td>1</td>\n",
       "      <td>9</td>\n",
       "    </tr>\n",
       "    <tr>\n",
       "      <th>4</th>\n",
       "      <td>0</td>\n",
       "      <td>0</td>\n",
       "      <td>0</td>\n",
       "      <td>4</td>\n",
       "      <td>1</td>\n",
       "      <td>1</td>\n",
       "      <td>0</td>\n",
       "      <td>1</td>\n",
       "      <td>0</td>\n",
       "      <td>1</td>\n",
       "      <td>1</td>\n",
       "      <td>1</td>\n",
       "      <td>0</td>\n",
       "      <td>0</td>\n",
       "      <td>0</td>\n",
       "      <td>3</td>\n",
       "      <td>3</td>\n",
       "      <td>0</td>\n",
       "      <td>5</td>\n",
       "      <td>0</td>\n",
       "      <td>0</td>\n",
       "      <td>0</td>\n",
       "      <td>1</td>\n",
       "      <td>0</td>\n",
       "      <td>0</td>\n",
       "      <td>5</td>\n",
       "      <td>1</td>\n",
       "      <td>1</td>\n",
       "      <td>9</td>\n",
       "    </tr>\n",
       "    <tr>\n",
       "      <th>5</th>\n",
       "      <td>1</td>\n",
       "      <td>1</td>\n",
       "      <td>0</td>\n",
       "      <td>2</td>\n",
       "      <td>1</td>\n",
       "      <td>0</td>\n",
       "      <td>0</td>\n",
       "      <td>0</td>\n",
       "      <td>0</td>\n",
       "      <td>0</td>\n",
       "      <td>0</td>\n",
       "      <td>0</td>\n",
       "      <td>0</td>\n",
       "      <td>0</td>\n",
       "      <td>0</td>\n",
       "      <td>2</td>\n",
       "      <td>1</td>\n",
       "      <td>0</td>\n",
       "      <td>0</td>\n",
       "      <td>0</td>\n",
       "      <td>0</td>\n",
       "      <td>0</td>\n",
       "      <td>0</td>\n",
       "      <td>0</td>\n",
       "      <td>0</td>\n",
       "      <td>5</td>\n",
       "      <td>1</td>\n",
       "      <td>1</td>\n",
       "      <td>9</td>\n",
       "    </tr>\n",
       "    <tr>\n",
       "      <th>6</th>\n",
       "      <td>0</td>\n",
       "      <td>0</td>\n",
       "      <td>0</td>\n",
       "      <td>0</td>\n",
       "      <td>1</td>\n",
       "      <td>0</td>\n",
       "      <td>0</td>\n",
       "      <td>0</td>\n",
       "      <td>0</td>\n",
       "      <td>0</td>\n",
       "      <td>3</td>\n",
       "      <td>0</td>\n",
       "      <td>0</td>\n",
       "      <td>0</td>\n",
       "      <td>0</td>\n",
       "      <td>2</td>\n",
       "      <td>0</td>\n",
       "      <td>1</td>\n",
       "      <td>0</td>\n",
       "      <td>0</td>\n",
       "      <td>1</td>\n",
       "      <td>0</td>\n",
       "      <td>1</td>\n",
       "      <td>1</td>\n",
       "      <td>0</td>\n",
       "      <td>5</td>\n",
       "      <td>1</td>\n",
       "      <td>1</td>\n",
       "      <td>8</td>\n",
       "    </tr>\n",
       "    <tr>\n",
       "      <th>7</th>\n",
       "      <td>1</td>\n",
       "      <td>1</td>\n",
       "      <td>0</td>\n",
       "      <td>0</td>\n",
       "      <td>0</td>\n",
       "      <td>0</td>\n",
       "      <td>0</td>\n",
       "      <td>0</td>\n",
       "      <td>0</td>\n",
       "      <td>0</td>\n",
       "      <td>1</td>\n",
       "      <td>0</td>\n",
       "      <td>0</td>\n",
       "      <td>0</td>\n",
       "      <td>0</td>\n",
       "      <td>6</td>\n",
       "      <td>4</td>\n",
       "      <td>1</td>\n",
       "      <td>1</td>\n",
       "      <td>0</td>\n",
       "      <td>0</td>\n",
       "      <td>0</td>\n",
       "      <td>0</td>\n",
       "      <td>0</td>\n",
       "      <td>0</td>\n",
       "      <td>4</td>\n",
       "      <td>1</td>\n",
       "      <td>0</td>\n",
       "      <td>8</td>\n",
       "    </tr>\n",
       "    <tr>\n",
       "      <th>8</th>\n",
       "      <td>0</td>\n",
       "      <td>0</td>\n",
       "      <td>0</td>\n",
       "      <td>2</td>\n",
       "      <td>1</td>\n",
       "      <td>0</td>\n",
       "      <td>0</td>\n",
       "      <td>0</td>\n",
       "      <td>0</td>\n",
       "      <td>0</td>\n",
       "      <td>1</td>\n",
       "      <td>0</td>\n",
       "      <td>1</td>\n",
       "      <td>0</td>\n",
       "      <td>0</td>\n",
       "      <td>1</td>\n",
       "      <td>3</td>\n",
       "      <td>2</td>\n",
       "      <td>0</td>\n",
       "      <td>1</td>\n",
       "      <td>1</td>\n",
       "      <td>0</td>\n",
       "      <td>0</td>\n",
       "      <td>0</td>\n",
       "      <td>0</td>\n",
       "      <td>7</td>\n",
       "      <td>1</td>\n",
       "      <td>1</td>\n",
       "      <td>8</td>\n",
       "    </tr>\n",
       "    <tr>\n",
       "      <th>9</th>\n",
       "      <td>0</td>\n",
       "      <td>0</td>\n",
       "      <td>0</td>\n",
       "      <td>0</td>\n",
       "      <td>1</td>\n",
       "      <td>0</td>\n",
       "      <td>0</td>\n",
       "      <td>0</td>\n",
       "      <td>0</td>\n",
       "      <td>0</td>\n",
       "      <td>0</td>\n",
       "      <td>1</td>\n",
       "      <td>0</td>\n",
       "      <td>0</td>\n",
       "      <td>0</td>\n",
       "      <td>0</td>\n",
       "      <td>0</td>\n",
       "      <td>0</td>\n",
       "      <td>1</td>\n",
       "      <td>0</td>\n",
       "      <td>0</td>\n",
       "      <td>0</td>\n",
       "      <td>0</td>\n",
       "      <td>0</td>\n",
       "      <td>0</td>\n",
       "      <td>1</td>\n",
       "      <td>4</td>\n",
       "      <td>1</td>\n",
       "      <td>8</td>\n",
       "    </tr>\n",
       "    <tr>\n",
       "      <th>10</th>\n",
       "      <td>0</td>\n",
       "      <td>0</td>\n",
       "      <td>0</td>\n",
       "      <td>0</td>\n",
       "      <td>0</td>\n",
       "      <td>0</td>\n",
       "      <td>0</td>\n",
       "      <td>0</td>\n",
       "      <td>0</td>\n",
       "      <td>0</td>\n",
       "      <td>0</td>\n",
       "      <td>1</td>\n",
       "      <td>0</td>\n",
       "      <td>0</td>\n",
       "      <td>0</td>\n",
       "      <td>2</td>\n",
       "      <td>0</td>\n",
       "      <td>1</td>\n",
       "      <td>3</td>\n",
       "      <td>0</td>\n",
       "      <td>0</td>\n",
       "      <td>0</td>\n",
       "      <td>0</td>\n",
       "      <td>0</td>\n",
       "      <td>0</td>\n",
       "      <td>1</td>\n",
       "      <td>4</td>\n",
       "      <td>0</td>\n",
       "      <td>6</td>\n",
       "    </tr>\n",
       "    <tr>\n",
       "      <th>11</th>\n",
       "      <td>1</td>\n",
       "      <td>2</td>\n",
       "      <td>0</td>\n",
       "      <td>4</td>\n",
       "      <td>1</td>\n",
       "      <td>0</td>\n",
       "      <td>0</td>\n",
       "      <td>1</td>\n",
       "      <td>1</td>\n",
       "      <td>1</td>\n",
       "      <td>1</td>\n",
       "      <td>0</td>\n",
       "      <td>5</td>\n",
       "      <td>0</td>\n",
       "      <td>0</td>\n",
       "      <td>7</td>\n",
       "      <td>7</td>\n",
       "      <td>3</td>\n",
       "      <td>4</td>\n",
       "      <td>0</td>\n",
       "      <td>0</td>\n",
       "      <td>0</td>\n",
       "      <td>0</td>\n",
       "      <td>0</td>\n",
       "      <td>1</td>\n",
       "      <td>2</td>\n",
       "      <td>3</td>\n",
       "      <td>1</td>\n",
       "      <td>6</td>\n",
       "    </tr>\n",
       "  </tbody>\n",
       "</table>\n",
       "</div>"
      ],
      "text/plain": [
       "   bp (Diastolic) bp limit sg al  class rbc su pc pcc ba bgr bu sod sc pot  \\\n",
       "2               0        0  0  3      1   0  0  0   0  0   1  0   1  0   0   \n",
       "3               0        0  0  0      1   0  0  0   0  0   0  0   0  0   0   \n",
       "4               0        0  0  4      1   1  0  1   0  1   1  1   0  0   0   \n",
       "5               1        1  0  2      1   0  0  0   0  0   0  0   0  0   0   \n",
       "6               0        0  0  0      1   0  0  0   0  0   3  0   0  0   0   \n",
       "7               1        1  0  0      0   0  0  0   0  0   1  0   0  0   0   \n",
       "8               0        0  0  2      1   0  0  0   0  0   1  0   1  0   0   \n",
       "9               0        0  0  0      1   0  0  0   0  0   0  1   0  0   0   \n",
       "10              0        0  0  0      0   0  0  0   0  0   0  1   0  0   0   \n",
       "11              1        2  0  4      1   0  0  1   1  1   1  0   5  0   0   \n",
       "\n",
       "   hemo pcv rbcc wbcc htn dm cad appet pe ane grf stage affected age  \n",
       "2     0   2    0    0   0  0   0     0  0   0   9     1        1   9  \n",
       "3     0   2    0    4   0  0   0     0  0   0   9     1        1   9  \n",
       "4     3   3    0    5   0  0   0     1  0   0   5     1        1   9  \n",
       "5     2   1    0    0   0  0   0     0  0   0   5     1        1   9  \n",
       "6     2   0    1    0   0  1   0     1  1   0   5     1        1   8  \n",
       "7     6   4    1    1   0  0   0     0  0   0   4     1        0   8  \n",
       "8     1   3    2    0   1  1   0     0  0   0   7     1        1   8  \n",
       "9     0   0    0    1   0  0   0     0  0   0   1     4        1   8  \n",
       "10    2   0    1    3   0  0   0     0  0   0   1     4        0   6  \n",
       "11    7   7    3    4   0  0   0     0  0   1   2     3        1   6  "
      ]
     },
     "execution_count": 84,
     "metadata": {},
     "output_type": "execute_result"
    }
   ],
   "source": [
    "df.head(10)"
   ]
  },
  {
   "cell_type": "code",
   "execution_count": 85,
   "id": "39c3058a",
   "metadata": {},
   "outputs": [
    {
     "data": {
      "text/plain": [
       "0    98\n",
       "1    47\n",
       "2    29\n",
       "3    10\n",
       "5     6\n",
       "4     6\n",
       "6     2\n",
       "7     1\n",
       "8     1\n",
       "Name: wbcc, dtype: int64"
      ]
     },
     "execution_count": 85,
     "metadata": {},
     "output_type": "execute_result"
    }
   ],
   "source": [
    "df['wbcc'].value_counts()"
   ]
  },
  {
   "cell_type": "markdown",
   "id": "322c92e3",
   "metadata": {},
   "source": [
    "# Limit the colums"
   ]
  },
  {
   "cell_type": "code",
   "execution_count": 86,
   "id": "9c4e10ad",
   "metadata": {},
   "outputs": [
    {
     "data": {
      "text/plain": [
       "1    108\n",
       "0     92\n",
       "Name: bp (Diastolic), dtype: int64"
      ]
     },
     "execution_count": 86,
     "metadata": {},
     "output_type": "execute_result"
    }
   ],
   "source": [
    "df['bp (Diastolic)'].value_counts()  # this we will not apply the "
   ]
  },
  {
   "cell_type": "markdown",
   "id": "dae6b473",
   "metadata": {},
   "source": [
    "handle the column of bo_limit"
   ]
  },
  {
   "cell_type": "code",
   "execution_count": 87,
   "id": "3f4bf616",
   "metadata": {},
   "outputs": [
    {
     "data": {
      "text/plain": [
       "0    95\n",
       "1    59\n",
       "2    46\n",
       "Name: bp limit, dtype: int64"
      ]
     },
     "execution_count": 87,
     "metadata": {},
     "output_type": "execute_result"
    }
   ],
   "source": [
    "df['bp limit'].value_counts()  # this we will  apply the colum limit"
   ]
  },
  {
   "cell_type": "code",
   "execution_count": 88,
   "id": "bc0ee11f",
   "metadata": {},
   "outputs": [],
   "source": [
    "Counts = df['bp limit'].value_counts()\n",
    "mask = df['bp limit'].isin(Counts[Counts<95].index)\n",
    "df['bp limit'][mask] = 1"
   ]
  },
  {
   "cell_type": "code",
   "execution_count": 89,
   "id": "231dd45d",
   "metadata": {},
   "outputs": [
    {
     "data": {
      "text/plain": [
       "1    105\n",
       "0     95\n",
       "Name: bp limit, dtype: int64"
      ]
     },
     "execution_count": 89,
     "metadata": {},
     "output_type": "execute_result"
    }
   ],
   "source": [
    "df['bp limit'].value_counts() "
   ]
  },
  {
   "cell_type": "code",
   "execution_count": 90,
   "id": "b9dcb0d5",
   "metadata": {},
   "outputs": [
    {
     "data": {
      "text/plain": [
       "0    200\n",
       "Name: sg, dtype: int64"
      ]
     },
     "execution_count": 90,
     "metadata": {},
     "output_type": "execute_result"
    }
   ],
   "source": [
    "df['sg'].value_counts()   # check value count of sg"
   ]
  },
  {
   "cell_type": "markdown",
   "id": "4b846923",
   "metadata": {},
   "source": [
    "handle the count limit of al"
   ]
  },
  {
   "cell_type": "code",
   "execution_count": 91,
   "id": "0acf03ad",
   "metadata": {},
   "outputs": [
    {
     "data": {
      "text/plain": [
       "0    116\n",
       "1     27\n",
       "2     23\n",
       "3     21\n",
       "4     13\n",
       "Name: al, dtype: int64"
      ]
     },
     "execution_count": 91,
     "metadata": {},
     "output_type": "execute_result"
    }
   ],
   "source": [
    "df['al'].value_counts()  # this we will not apply the "
   ]
  },
  {
   "cell_type": "code",
   "execution_count": 92,
   "id": "ca645265",
   "metadata": {},
   "outputs": [],
   "source": [
    "Counts = df['al'].value_counts()\n",
    "mask = df['al'].isin(Counts[Counts<116].index)\n",
    "df['al'][mask] = 1"
   ]
  },
  {
   "cell_type": "code",
   "execution_count": 93,
   "id": "c16df766",
   "metadata": {},
   "outputs": [
    {
     "data": {
      "text/plain": [
       "0    116\n",
       "1     84\n",
       "Name: al, dtype: int64"
      ]
     },
     "execution_count": 93,
     "metadata": {},
     "output_type": "execute_result"
    }
   ],
   "source": [
    "df['al'].value_counts()"
   ]
  },
  {
   "cell_type": "code",
   "execution_count": 94,
   "id": "72ecb5bd",
   "metadata": {},
   "outputs": [
    {
     "data": {
      "text/plain": [
       "1    128\n",
       "0     72\n",
       "Name: class, dtype: int64"
      ]
     },
     "execution_count": 94,
     "metadata": {},
     "output_type": "execute_result"
    }
   ],
   "source": [
    "df['class'].value_counts()   # check value count of class"
   ]
  },
  {
   "cell_type": "markdown",
   "id": "0a94869c",
   "metadata": {},
   "source": [
    "handle the count limit of rbcc"
   ]
  },
  {
   "cell_type": "code",
   "execution_count": 95,
   "id": "4a6cb4e1",
   "metadata": {},
   "outputs": [
    {
     "data": {
      "text/plain": [
       "0    96\n",
       "1    23\n",
       "3    21\n",
       "2    21\n",
       "4    18\n",
       "5     9\n",
       "6     7\n",
       "7     4\n",
       "8     1\n",
       "Name: rbcc, dtype: int64"
      ]
     },
     "execution_count": 95,
     "metadata": {},
     "output_type": "execute_result"
    }
   ],
   "source": [
    "df['rbcc'].value_counts()"
   ]
  },
  {
   "cell_type": "code",
   "execution_count": 96,
   "id": "4c1aabba",
   "metadata": {},
   "outputs": [],
   "source": [
    "Counts = df['rbcc'].value_counts()\n",
    "mask = df['rbcc'].isin(Counts[Counts<96].index)\n",
    "df['rbcc'][mask] = 1"
   ]
  },
  {
   "cell_type": "code",
   "execution_count": 97,
   "id": "1615db1a",
   "metadata": {},
   "outputs": [
    {
     "data": {
      "text/plain": [
       "1    104\n",
       "0     96\n",
       "Name: rbcc, dtype: int64"
      ]
     },
     "execution_count": 97,
     "metadata": {},
     "output_type": "execute_result"
    }
   ],
   "source": [
    "df.rbcc.value_counts()"
   ]
  },
  {
   "cell_type": "markdown",
   "id": "3eced83b",
   "metadata": {},
   "source": [
    "handle the su"
   ]
  },
  {
   "cell_type": "code",
   "execution_count": 98,
   "id": "b93c0f49",
   "metadata": {},
   "outputs": [
    {
     "data": {
      "text/plain": [
       "0    170\n",
       "1      9\n",
       "2      8\n",
       "4      6\n",
       "3      6\n",
       "5      1\n",
       "Name: su, dtype: int64"
      ]
     },
     "execution_count": 98,
     "metadata": {},
     "output_type": "execute_result"
    }
   ],
   "source": [
    "df['su'].value_counts()   # check value count of su"
   ]
  },
  {
   "cell_type": "code",
   "execution_count": 99,
   "id": "5b96d27d",
   "metadata": {},
   "outputs": [],
   "source": [
    "Counts = df['su'].value_counts()\n",
    "mask = df['su'].isin(Counts[Counts<170].index)\n",
    "df['su'][mask] = 1"
   ]
  },
  {
   "cell_type": "code",
   "execution_count": 100,
   "id": "8ea32a7f",
   "metadata": {},
   "outputs": [
    {
     "data": {
      "text/plain": [
       "0    170\n",
       "1     30\n",
       "Name: su, dtype: int64"
      ]
     },
     "execution_count": 100,
     "metadata": {},
     "output_type": "execute_result"
    }
   ],
   "source": [
    "df['su'].value_counts()  "
   ]
  },
  {
   "cell_type": "code",
   "execution_count": 101,
   "id": "a271bece",
   "metadata": {},
   "outputs": [
    {
     "data": {
      "text/plain": [
       "0    155\n",
       "1     45\n",
       "Name: pc, dtype: int64"
      ]
     },
     "execution_count": 101,
     "metadata": {},
     "output_type": "execute_result"
    }
   ],
   "source": [
    "df['pc'].value_counts()   # check value count of pc"
   ]
  },
  {
   "cell_type": "code",
   "execution_count": 102,
   "id": "8fa39390",
   "metadata": {},
   "outputs": [
    {
     "data": {
      "text/plain": [
       "0    173\n",
       "1     27\n",
       "Name: pcc, dtype: int64"
      ]
     },
     "execution_count": 102,
     "metadata": {},
     "output_type": "execute_result"
    }
   ],
   "source": [
    "df['pcc'].value_counts()   # check value count of pcc"
   ]
  },
  {
   "cell_type": "code",
   "execution_count": 103,
   "id": "c2271e22",
   "metadata": {},
   "outputs": [
    {
     "data": {
      "text/plain": [
       "0    189\n",
       "1     11\n",
       "Name: ba, dtype: int64"
      ]
     },
     "execution_count": 103,
     "metadata": {},
     "output_type": "execute_result"
    }
   ],
   "source": [
    "df['ba'].value_counts()   # check value count of ba"
   ]
  },
  {
   "cell_type": "markdown",
   "id": "e95551c9",
   "metadata": {},
   "source": [
    "handle the limit of bgr"
   ]
  },
  {
   "cell_type": "code",
   "execution_count": 104,
   "id": "29ef5030",
   "metadata": {},
   "outputs": [
    {
     "data": {
      "text/plain": [
       "0    79\n",
       "1    70\n",
       "2    14\n",
       "3    13\n",
       "4    11\n",
       "5     4\n",
       "6     4\n",
       "7     3\n",
       "9     1\n",
       "8     1\n",
       "Name: bgr, dtype: int64"
      ]
     },
     "execution_count": 104,
     "metadata": {},
     "output_type": "execute_result"
    }
   ],
   "source": [
    "df['bgr'].value_counts()"
   ]
  },
  {
   "cell_type": "code",
   "execution_count": 105,
   "id": "689f9118",
   "metadata": {},
   "outputs": [],
   "source": [
    "Counts = df['bgr'].value_counts()\n",
    "mask = df['bgr'].isin(Counts[Counts<70].index)\n",
    "df['bgr'][mask] = 2"
   ]
  },
  {
   "cell_type": "code",
   "execution_count": 106,
   "id": "e4f3f363",
   "metadata": {},
   "outputs": [
    {
     "data": {
      "text/plain": [
       "0    79\n",
       "1    70\n",
       "2    51\n",
       "Name: bgr, dtype: int64"
      ]
     },
     "execution_count": 106,
     "metadata": {},
     "output_type": "execute_result"
    }
   ],
   "source": [
    "df['bgr'].value_counts()"
   ]
  },
  {
   "cell_type": "markdown",
   "id": "6fab815b",
   "metadata": {},
   "source": [
    "handle the bu"
   ]
  },
  {
   "cell_type": "code",
   "execution_count": 107,
   "id": "a6184074",
   "metadata": {},
   "outputs": [
    {
     "data": {
      "text/plain": [
       "0    108\n",
       "1     53\n",
       "2     16\n",
       "3     11\n",
       "5      5\n",
       "4      5\n",
       "7      1\n",
       "6      1\n",
       "Name: bu, dtype: int64"
      ]
     },
     "execution_count": 107,
     "metadata": {},
     "output_type": "execute_result"
    }
   ],
   "source": [
    "df['bu'].value_counts()   # check value count of bu"
   ]
  },
  {
   "cell_type": "code",
   "execution_count": 108,
   "id": "369f917f",
   "metadata": {},
   "outputs": [],
   "source": [
    "Counts = df['bu'].value_counts()\n",
    "mask = df['bu'].isin(Counts[Counts<108].index)\n",
    "df['bu'][mask] = 1"
   ]
  },
  {
   "cell_type": "code",
   "execution_count": 109,
   "id": "48e2d0b5",
   "metadata": {},
   "outputs": [
    {
     "data": {
      "text/plain": [
       "0    108\n",
       "1     92\n",
       "Name: bu, dtype: int64"
      ]
     },
     "execution_count": 109,
     "metadata": {},
     "output_type": "execute_result"
    }
   ],
   "source": [
    "df['bu'].value_counts()   # check value count of bu"
   ]
  },
  {
   "cell_type": "markdown",
   "id": "f4528a45",
   "metadata": {},
   "source": [
    "handle the sod"
   ]
  },
  {
   "cell_type": "code",
   "execution_count": 110,
   "id": "f9f5665b",
   "metadata": {},
   "outputs": [
    {
     "data": {
      "text/plain": [
       "0    92\n",
       "1    49\n",
       "2    22\n",
       "3    14\n",
       "4     9\n",
       "5     6\n",
       "6     4\n",
       "7     3\n",
       "8     1\n",
       "Name: sod, dtype: int64"
      ]
     },
     "execution_count": 110,
     "metadata": {},
     "output_type": "execute_result"
    }
   ],
   "source": [
    "df['sod'].value_counts()   # check value count of sod"
   ]
  },
  {
   "cell_type": "code",
   "execution_count": 111,
   "id": "20fe4415",
   "metadata": {},
   "outputs": [],
   "source": [
    "Counts = df['sod'].value_counts()\n",
    "mask = df['sod'].isin(Counts[Counts<92].index)\n",
    "df['sod'][mask] = 1"
   ]
  },
  {
   "cell_type": "code",
   "execution_count": 112,
   "id": "b9a9858d",
   "metadata": {},
   "outputs": [
    {
     "data": {
      "text/plain": [
       "1    108\n",
       "0     92\n",
       "Name: sod, dtype: int64"
      ]
     },
     "execution_count": 112,
     "metadata": {},
     "output_type": "execute_result"
    }
   ],
   "source": [
    "df['sod'].value_counts()"
   ]
  },
  {
   "cell_type": "markdown",
   "id": "c222df7b",
   "metadata": {},
   "source": [
    "handle the sc"
   ]
  },
  {
   "cell_type": "code",
   "execution_count": 113,
   "id": "162848a9",
   "metadata": {},
   "outputs": [
    {
     "data": {
      "text/plain": [
       "0    159\n",
       "1     22\n",
       "2      9\n",
       "4      4\n",
       "3      4\n",
       "5      1\n",
       "6      1\n",
       "Name: sc, dtype: int64"
      ]
     },
     "execution_count": 113,
     "metadata": {},
     "output_type": "execute_result"
    }
   ],
   "source": [
    "df['sc'].value_counts()   # check value count of sc"
   ]
  },
  {
   "cell_type": "code",
   "execution_count": 114,
   "id": "498bffa4",
   "metadata": {},
   "outputs": [],
   "source": [
    "Counts = df['sc'].value_counts()\n",
    "mask = df['sc'].isin(Counts[Counts<159].index)\n",
    "df['sc'][mask] = 1"
   ]
  },
  {
   "cell_type": "code",
   "execution_count": 115,
   "id": "93c64015",
   "metadata": {},
   "outputs": [
    {
     "data": {
      "text/plain": [
       "0    159\n",
       "1     41\n",
       "Name: sc, dtype: int64"
      ]
     },
     "execution_count": 115,
     "metadata": {},
     "output_type": "execute_result"
    }
   ],
   "source": [
    "df['sc'].value_counts()"
   ]
  },
  {
   "cell_type": "code",
   "execution_count": 116,
   "id": "4527ff83",
   "metadata": {},
   "outputs": [
    {
     "data": {
      "text/plain": [
       "0    200\n",
       "Name: pot, dtype: int64"
      ]
     },
     "execution_count": 116,
     "metadata": {},
     "output_type": "execute_result"
    }
   ],
   "source": [
    "df['pot'].value_counts()  # check value count of pot"
   ]
  },
  {
   "cell_type": "markdown",
   "id": "3335b43b",
   "metadata": {},
   "source": [
    "handle the limit of hemo"
   ]
  },
  {
   "cell_type": "code",
   "execution_count": 117,
   "id": "7e5c5d41",
   "metadata": {},
   "outputs": [
    {
     "data": {
      "text/plain": [
       "0    49\n",
       "1    28\n",
       "2    26\n",
       "3    23\n",
       "4    20\n",
       "5    19\n",
       "6    15\n",
       "7    12\n",
       "9     4\n",
       "8     4\n",
       "Name: hemo, dtype: int64"
      ]
     },
     "execution_count": 117,
     "metadata": {},
     "output_type": "execute_result"
    }
   ],
   "source": [
    "df['hemo'].value_counts()"
   ]
  },
  {
   "cell_type": "code",
   "execution_count": 118,
   "id": "13d968ab",
   "metadata": {},
   "outputs": [],
   "source": [
    "Counts = df['hemo'].value_counts()\n",
    "mask = df['hemo'].isin(Counts[Counts<49].index)\n",
    "df['hemo'][mask] = 1"
   ]
  },
  {
   "cell_type": "code",
   "execution_count": 119,
   "id": "4fd04887",
   "metadata": {},
   "outputs": [
    {
     "data": {
      "text/plain": [
       "1    151\n",
       "0     49\n",
       "Name: hemo, dtype: int64"
      ]
     },
     "execution_count": 119,
     "metadata": {},
     "output_type": "execute_result"
    }
   ],
   "source": [
    "df['hemo'].value_counts()"
   ]
  },
  {
   "cell_type": "markdown",
   "id": "2e154181",
   "metadata": {},
   "source": [
    "handel the pcv"
   ]
  },
  {
   "cell_type": "code",
   "execution_count": 120,
   "id": "1c926f28",
   "metadata": {},
   "outputs": [
    {
     "data": {
      "text/plain": [
       "0    56\n",
       "1    29\n",
       "2    23\n",
       "3    22\n",
       "4    19\n",
       "5    18\n",
       "6    17\n",
       "7    10\n",
       "9     3\n",
       "8     3\n",
       "Name: pcv, dtype: int64"
      ]
     },
     "execution_count": 120,
     "metadata": {},
     "output_type": "execute_result"
    }
   ],
   "source": [
    "df['pcv'].value_counts()"
   ]
  },
  {
   "cell_type": "code",
   "execution_count": 121,
   "id": "671674ef",
   "metadata": {},
   "outputs": [],
   "source": [
    "Counts = df['pcv'].value_counts()\n",
    "mask = df['pcv'].isin(Counts[Counts<56].index)\n",
    "df['pcv'][mask] = 1"
   ]
  },
  {
   "cell_type": "code",
   "execution_count": 122,
   "id": "5d2e7bf1",
   "metadata": {},
   "outputs": [
    {
     "data": {
      "text/plain": [
       "1    144\n",
       "0     56\n",
       "Name: pcv, dtype: int64"
      ]
     },
     "execution_count": 122,
     "metadata": {},
     "output_type": "execute_result"
    }
   ],
   "source": [
    "df['pcv'].value_counts()"
   ]
  },
  {
   "cell_type": "code",
   "execution_count": 123,
   "id": "fd81908c",
   "metadata": {},
   "outputs": [
    {
     "data": {
      "text/plain": [
       "1    104\n",
       "0     96\n",
       "Name: rbcc, dtype: int64"
      ]
     },
     "execution_count": 123,
     "metadata": {},
     "output_type": "execute_result"
    }
   ],
   "source": [
    "df['rbcc'].value_counts() # check value count of rbcc"
   ]
  },
  {
   "cell_type": "markdown",
   "id": "4bbe86eb",
   "metadata": {},
   "source": [
    "handle the wbcc"
   ]
  },
  {
   "cell_type": "code",
   "execution_count": 124,
   "id": "b0101e23",
   "metadata": {},
   "outputs": [
    {
     "data": {
      "text/plain": [
       "0    98\n",
       "1    47\n",
       "2    29\n",
       "3    10\n",
       "5     6\n",
       "4     6\n",
       "6     2\n",
       "7     1\n",
       "8     1\n",
       "Name: wbcc, dtype: int64"
      ]
     },
     "execution_count": 124,
     "metadata": {},
     "output_type": "execute_result"
    }
   ],
   "source": [
    "df['wbcc'].value_counts()"
   ]
  },
  {
   "cell_type": "code",
   "execution_count": 125,
   "id": "b25cd563",
   "metadata": {},
   "outputs": [],
   "source": [
    "Counts = df['wbcc'].value_counts()\n",
    "mask = df['wbcc'].isin(Counts[Counts<98].index)\n",
    "df['wbcc'][mask] = 1"
   ]
  },
  {
   "cell_type": "code",
   "execution_count": 126,
   "id": "17b0a256",
   "metadata": {},
   "outputs": [
    {
     "data": {
      "text/plain": [
       "1    102\n",
       "0     98\n",
       "Name: wbcc, dtype: int64"
      ]
     },
     "execution_count": 126,
     "metadata": {},
     "output_type": "execute_result"
    }
   ],
   "source": [
    "df['wbcc'].value_counts()"
   ]
  },
  {
   "cell_type": "code",
   "execution_count": 127,
   "id": "38766661",
   "metadata": {},
   "outputs": [
    {
     "data": {
      "text/plain": [
       "0    122\n",
       "1     78\n",
       "Name: htn, dtype: int64"
      ]
     },
     "execution_count": 127,
     "metadata": {},
     "output_type": "execute_result"
    }
   ],
   "source": [
    "df['htn'].value_counts()"
   ]
  },
  {
   "cell_type": "code",
   "execution_count": 128,
   "id": "bee5f7f3",
   "metadata": {},
   "outputs": [
    {
     "data": {
      "text/plain": [
       "0    130\n",
       "1     70\n",
       "Name: dm, dtype: int64"
      ]
     },
     "execution_count": 128,
     "metadata": {},
     "output_type": "execute_result"
    }
   ],
   "source": [
    "df['dm'].value_counts()"
   ]
  },
  {
   "cell_type": "code",
   "execution_count": 129,
   "id": "1c76def6",
   "metadata": {},
   "outputs": [
    {
     "data": {
      "text/plain": [
       "0    178\n",
       "1     22\n",
       "Name: cad, dtype: int64"
      ]
     },
     "execution_count": 129,
     "metadata": {},
     "output_type": "execute_result"
    }
   ],
   "source": [
    "df['cad'].value_counts()"
   ]
  },
  {
   "cell_type": "code",
   "execution_count": 130,
   "id": "3d67e23d",
   "metadata": {},
   "outputs": [
    {
     "data": {
      "text/plain": [
       "0    160\n",
       "1     40\n",
       "Name: appet, dtype: int64"
      ]
     },
     "execution_count": 130,
     "metadata": {},
     "output_type": "execute_result"
    }
   ],
   "source": [
    "df['appet'].value_counts()"
   ]
  },
  {
   "cell_type": "code",
   "execution_count": 131,
   "id": "386f43ab",
   "metadata": {},
   "outputs": [
    {
     "data": {
      "text/plain": [
       "0    165\n",
       "1     35\n",
       "Name: pe, dtype: int64"
      ]
     },
     "execution_count": 131,
     "metadata": {},
     "output_type": "execute_result"
    }
   ],
   "source": [
    "df['pe'].value_counts()"
   ]
  },
  {
   "cell_type": "code",
   "execution_count": 132,
   "id": "4b1141ee",
   "metadata": {},
   "outputs": [
    {
     "data": {
      "text/plain": [
       "0    168\n",
       "1     32\n",
       "Name: ane, dtype: int64"
      ]
     },
     "execution_count": 132,
     "metadata": {},
     "output_type": "execute_result"
    }
   ],
   "source": [
    "df['ane'].value_counts()"
   ]
  },
  {
   "cell_type": "markdown",
   "id": "b3ac7199",
   "metadata": {},
   "source": [
    "hande the grf"
   ]
  },
  {
   "cell_type": "code",
   "execution_count": 133,
   "id": "46ebf71f",
   "metadata": {},
   "outputs": [
    {
     "data": {
      "text/plain": [
       "0    69\n",
       "1    38\n",
       "2    28\n",
       "3    17\n",
       "4    15\n",
       "5    11\n",
       "6     9\n",
       "7     8\n",
       "8     3\n",
       "9     2\n",
       "Name: grf, dtype: int64"
      ]
     },
     "execution_count": 133,
     "metadata": {},
     "output_type": "execute_result"
    }
   ],
   "source": [
    "df['grf'].value_counts()"
   ]
  },
  {
   "cell_type": "code",
   "execution_count": 134,
   "id": "77cbb041",
   "metadata": {},
   "outputs": [],
   "source": [
    "Counts = df['grf'].value_counts()\n",
    "mask = df['grf'].isin(Counts[Counts<66].index)\n",
    "df['grf'][mask] = 1"
   ]
  },
  {
   "cell_type": "code",
   "execution_count": 135,
   "id": "c4b8fbd7",
   "metadata": {},
   "outputs": [
    {
     "data": {
      "text/plain": [
       "1    131\n",
       "0     69\n",
       "Name: grf, dtype: int64"
      ]
     },
     "execution_count": 135,
     "metadata": {},
     "output_type": "execute_result"
    }
   ],
   "source": [
    "df['grf'].value_counts()"
   ]
  },
  {
   "cell_type": "markdown",
   "id": "158fa9c9",
   "metadata": {},
   "source": [
    "handle the stage"
   ]
  },
  {
   "cell_type": "code",
   "execution_count": 136,
   "id": "4e17d9f4",
   "metadata": {},
   "outputs": [
    {
     "data": {
      "text/plain": [
       "1    54\n",
       "4    45\n",
       "5    35\n",
       "2    35\n",
       "3    31\n",
       "Name: stage, dtype: int64"
      ]
     },
     "execution_count": 136,
     "metadata": {},
     "output_type": "execute_result"
    }
   ],
   "source": [
    "df['stage'].value_counts()"
   ]
  },
  {
   "cell_type": "code",
   "execution_count": 137,
   "id": "0ed1563e",
   "metadata": {},
   "outputs": [],
   "source": [
    "# Counts = df['stage'].value_counts()\n",
    "# mask = df['stage'].isin(Counts[Counts<35].index)\n",
    "# df['stage'][mask] = 0"
   ]
  },
  {
   "cell_type": "code",
   "execution_count": 138,
   "id": "64575ba4",
   "metadata": {},
   "outputs": [
    {
     "data": {
      "text/plain": [
       "1    54\n",
       "4    45\n",
       "5    35\n",
       "2    35\n",
       "3    31\n",
       "Name: stage, dtype: int64"
      ]
     },
     "execution_count": 138,
     "metadata": {},
     "output_type": "execute_result"
    }
   ],
   "source": [
    "df['stage'].value_counts()"
   ]
  },
  {
   "cell_type": "markdown",
   "id": "6fc13b4f",
   "metadata": {},
   "source": [
    "handle the age"
   ]
  },
  {
   "cell_type": "code",
   "execution_count": 139,
   "id": "52de6c3d",
   "metadata": {},
   "outputs": [
    {
     "data": {
      "text/plain": [
       "0    48\n",
       "1    34\n",
       "2    33\n",
       "3    31\n",
       "4    14\n",
       "5    12\n",
       "7    10\n",
       "6    10\n",
       "9     4\n",
       "8     4\n",
       "Name: age, dtype: int64"
      ]
     },
     "execution_count": 139,
     "metadata": {},
     "output_type": "execute_result"
    }
   ],
   "source": [
    "df['age'].value_counts()"
   ]
  },
  {
   "cell_type": "code",
   "execution_count": 140,
   "id": "a23a2d45",
   "metadata": {},
   "outputs": [],
   "source": [
    "Counts = df['age'].value_counts()\n",
    "mask = df['age'].isin(Counts[Counts<31].index)\n",
    "df['age'][mask] = 4"
   ]
  },
  {
   "cell_type": "code",
   "execution_count": 141,
   "id": "be50a87f",
   "metadata": {},
   "outputs": [
    {
     "data": {
      "text/plain": [
       "4    54\n",
       "0    48\n",
       "1    34\n",
       "2    33\n",
       "3    31\n",
       "Name: age, dtype: int64"
      ]
     },
     "execution_count": 141,
     "metadata": {},
     "output_type": "execute_result"
    }
   ],
   "source": [
    "df['age'].value_counts()"
   ]
  },
  {
   "cell_type": "code",
   "execution_count": 142,
   "id": "d25dc706",
   "metadata": {},
   "outputs": [
    {
     "data": {
      "text/html": [
       "<div>\n",
       "<style scoped>\n",
       "    .dataframe tbody tr th:only-of-type {\n",
       "        vertical-align: middle;\n",
       "    }\n",
       "\n",
       "    .dataframe tbody tr th {\n",
       "        vertical-align: top;\n",
       "    }\n",
       "\n",
       "    .dataframe thead th {\n",
       "        text-align: right;\n",
       "    }\n",
       "</style>\n",
       "<table border=\"1\" class=\"dataframe\">\n",
       "  <thead>\n",
       "    <tr style=\"text-align: right;\">\n",
       "      <th></th>\n",
       "      <th>bp (Diastolic)</th>\n",
       "      <th>bp limit</th>\n",
       "      <th>sg</th>\n",
       "      <th>al</th>\n",
       "      <th>class</th>\n",
       "      <th>rbc</th>\n",
       "      <th>su</th>\n",
       "      <th>pc</th>\n",
       "      <th>pcc</th>\n",
       "      <th>ba</th>\n",
       "      <th>bgr</th>\n",
       "      <th>bu</th>\n",
       "      <th>sod</th>\n",
       "      <th>sc</th>\n",
       "      <th>pot</th>\n",
       "      <th>hemo</th>\n",
       "      <th>pcv</th>\n",
       "      <th>rbcc</th>\n",
       "      <th>wbcc</th>\n",
       "      <th>htn</th>\n",
       "      <th>dm</th>\n",
       "      <th>cad</th>\n",
       "      <th>appet</th>\n",
       "      <th>pe</th>\n",
       "      <th>ane</th>\n",
       "      <th>grf</th>\n",
       "      <th>stage</th>\n",
       "      <th>affected</th>\n",
       "      <th>age</th>\n",
       "    </tr>\n",
       "  </thead>\n",
       "  <tbody>\n",
       "    <tr>\n",
       "      <th>2</th>\n",
       "      <td>0</td>\n",
       "      <td>0</td>\n",
       "      <td>0</td>\n",
       "      <td>1</td>\n",
       "      <td>1</td>\n",
       "      <td>0</td>\n",
       "      <td>0</td>\n",
       "      <td>0</td>\n",
       "      <td>0</td>\n",
       "      <td>0</td>\n",
       "      <td>1</td>\n",
       "      <td>0</td>\n",
       "      <td>1</td>\n",
       "      <td>0</td>\n",
       "      <td>0</td>\n",
       "      <td>0</td>\n",
       "      <td>1</td>\n",
       "      <td>0</td>\n",
       "      <td>0</td>\n",
       "      <td>0</td>\n",
       "      <td>0</td>\n",
       "      <td>0</td>\n",
       "      <td>0</td>\n",
       "      <td>0</td>\n",
       "      <td>0</td>\n",
       "      <td>1</td>\n",
       "      <td>1</td>\n",
       "      <td>1</td>\n",
       "      <td>4</td>\n",
       "    </tr>\n",
       "    <tr>\n",
       "      <th>3</th>\n",
       "      <td>0</td>\n",
       "      <td>0</td>\n",
       "      <td>0</td>\n",
       "      <td>0</td>\n",
       "      <td>1</td>\n",
       "      <td>0</td>\n",
       "      <td>0</td>\n",
       "      <td>0</td>\n",
       "      <td>0</td>\n",
       "      <td>0</td>\n",
       "      <td>0</td>\n",
       "      <td>0</td>\n",
       "      <td>0</td>\n",
       "      <td>0</td>\n",
       "      <td>0</td>\n",
       "      <td>0</td>\n",
       "      <td>1</td>\n",
       "      <td>0</td>\n",
       "      <td>1</td>\n",
       "      <td>0</td>\n",
       "      <td>0</td>\n",
       "      <td>0</td>\n",
       "      <td>0</td>\n",
       "      <td>0</td>\n",
       "      <td>0</td>\n",
       "      <td>1</td>\n",
       "      <td>1</td>\n",
       "      <td>1</td>\n",
       "      <td>4</td>\n",
       "    </tr>\n",
       "    <tr>\n",
       "      <th>4</th>\n",
       "      <td>0</td>\n",
       "      <td>0</td>\n",
       "      <td>0</td>\n",
       "      <td>1</td>\n",
       "      <td>1</td>\n",
       "      <td>1</td>\n",
       "      <td>0</td>\n",
       "      <td>1</td>\n",
       "      <td>0</td>\n",
       "      <td>1</td>\n",
       "      <td>1</td>\n",
       "      <td>1</td>\n",
       "      <td>0</td>\n",
       "      <td>0</td>\n",
       "      <td>0</td>\n",
       "      <td>1</td>\n",
       "      <td>1</td>\n",
       "      <td>0</td>\n",
       "      <td>1</td>\n",
       "      <td>0</td>\n",
       "      <td>0</td>\n",
       "      <td>0</td>\n",
       "      <td>1</td>\n",
       "      <td>0</td>\n",
       "      <td>0</td>\n",
       "      <td>1</td>\n",
       "      <td>1</td>\n",
       "      <td>1</td>\n",
       "      <td>4</td>\n",
       "    </tr>\n",
       "    <tr>\n",
       "      <th>5</th>\n",
       "      <td>1</td>\n",
       "      <td>1</td>\n",
       "      <td>0</td>\n",
       "      <td>1</td>\n",
       "      <td>1</td>\n",
       "      <td>0</td>\n",
       "      <td>0</td>\n",
       "      <td>0</td>\n",
       "      <td>0</td>\n",
       "      <td>0</td>\n",
       "      <td>0</td>\n",
       "      <td>0</td>\n",
       "      <td>0</td>\n",
       "      <td>0</td>\n",
       "      <td>0</td>\n",
       "      <td>1</td>\n",
       "      <td>1</td>\n",
       "      <td>0</td>\n",
       "      <td>0</td>\n",
       "      <td>0</td>\n",
       "      <td>0</td>\n",
       "      <td>0</td>\n",
       "      <td>0</td>\n",
       "      <td>0</td>\n",
       "      <td>0</td>\n",
       "      <td>1</td>\n",
       "      <td>1</td>\n",
       "      <td>1</td>\n",
       "      <td>4</td>\n",
       "    </tr>\n",
       "    <tr>\n",
       "      <th>6</th>\n",
       "      <td>0</td>\n",
       "      <td>0</td>\n",
       "      <td>0</td>\n",
       "      <td>0</td>\n",
       "      <td>1</td>\n",
       "      <td>0</td>\n",
       "      <td>0</td>\n",
       "      <td>0</td>\n",
       "      <td>0</td>\n",
       "      <td>0</td>\n",
       "      <td>2</td>\n",
       "      <td>0</td>\n",
       "      <td>0</td>\n",
       "      <td>0</td>\n",
       "      <td>0</td>\n",
       "      <td>1</td>\n",
       "      <td>0</td>\n",
       "      <td>1</td>\n",
       "      <td>0</td>\n",
       "      <td>0</td>\n",
       "      <td>1</td>\n",
       "      <td>0</td>\n",
       "      <td>1</td>\n",
       "      <td>1</td>\n",
       "      <td>0</td>\n",
       "      <td>1</td>\n",
       "      <td>1</td>\n",
       "      <td>1</td>\n",
       "      <td>4</td>\n",
       "    </tr>\n",
       "    <tr>\n",
       "      <th>...</th>\n",
       "      <td>...</td>\n",
       "      <td>...</td>\n",
       "      <td>...</td>\n",
       "      <td>...</td>\n",
       "      <td>...</td>\n",
       "      <td>...</td>\n",
       "      <td>...</td>\n",
       "      <td>...</td>\n",
       "      <td>...</td>\n",
       "      <td>...</td>\n",
       "      <td>...</td>\n",
       "      <td>...</td>\n",
       "      <td>...</td>\n",
       "      <td>...</td>\n",
       "      <td>...</td>\n",
       "      <td>...</td>\n",
       "      <td>...</td>\n",
       "      <td>...</td>\n",
       "      <td>...</td>\n",
       "      <td>...</td>\n",
       "      <td>...</td>\n",
       "      <td>...</td>\n",
       "      <td>...</td>\n",
       "      <td>...</td>\n",
       "      <td>...</td>\n",
       "      <td>...</td>\n",
       "      <td>...</td>\n",
       "      <td>...</td>\n",
       "      <td>...</td>\n",
       "    </tr>\n",
       "    <tr>\n",
       "      <th>197</th>\n",
       "      <td>1</td>\n",
       "      <td>1</td>\n",
       "      <td>0</td>\n",
       "      <td>0</td>\n",
       "      <td>1</td>\n",
       "      <td>0</td>\n",
       "      <td>0</td>\n",
       "      <td>0</td>\n",
       "      <td>0</td>\n",
       "      <td>0</td>\n",
       "      <td>2</td>\n",
       "      <td>0</td>\n",
       "      <td>1</td>\n",
       "      <td>0</td>\n",
       "      <td>0</td>\n",
       "      <td>1</td>\n",
       "      <td>1</td>\n",
       "      <td>0</td>\n",
       "      <td>0</td>\n",
       "      <td>1</td>\n",
       "      <td>1</td>\n",
       "      <td>0</td>\n",
       "      <td>0</td>\n",
       "      <td>0</td>\n",
       "      <td>1</td>\n",
       "      <td>1</td>\n",
       "      <td>3</td>\n",
       "      <td>1</td>\n",
       "      <td>4</td>\n",
       "    </tr>\n",
       "    <tr>\n",
       "      <th>198</th>\n",
       "      <td>0</td>\n",
       "      <td>0</td>\n",
       "      <td>0</td>\n",
       "      <td>0</td>\n",
       "      <td>1</td>\n",
       "      <td>0</td>\n",
       "      <td>0</td>\n",
       "      <td>0</td>\n",
       "      <td>0</td>\n",
       "      <td>0</td>\n",
       "      <td>0</td>\n",
       "      <td>1</td>\n",
       "      <td>0</td>\n",
       "      <td>0</td>\n",
       "      <td>0</td>\n",
       "      <td>1</td>\n",
       "      <td>1</td>\n",
       "      <td>0</td>\n",
       "      <td>0</td>\n",
       "      <td>0</td>\n",
       "      <td>1</td>\n",
       "      <td>0</td>\n",
       "      <td>0</td>\n",
       "      <td>0</td>\n",
       "      <td>1</td>\n",
       "      <td>0</td>\n",
       "      <td>4</td>\n",
       "      <td>1</td>\n",
       "      <td>4</td>\n",
       "    </tr>\n",
       "    <tr>\n",
       "      <th>199</th>\n",
       "      <td>1</td>\n",
       "      <td>1</td>\n",
       "      <td>0</td>\n",
       "      <td>0</td>\n",
       "      <td>0</td>\n",
       "      <td>0</td>\n",
       "      <td>0</td>\n",
       "      <td>0</td>\n",
       "      <td>0</td>\n",
       "      <td>0</td>\n",
       "      <td>1</td>\n",
       "      <td>0</td>\n",
       "      <td>1</td>\n",
       "      <td>0</td>\n",
       "      <td>0</td>\n",
       "      <td>1</td>\n",
       "      <td>0</td>\n",
       "      <td>1</td>\n",
       "      <td>0</td>\n",
       "      <td>0</td>\n",
       "      <td>0</td>\n",
       "      <td>0</td>\n",
       "      <td>0</td>\n",
       "      <td>0</td>\n",
       "      <td>0</td>\n",
       "      <td>1</td>\n",
       "      <td>2</td>\n",
       "      <td>0</td>\n",
       "      <td>4</td>\n",
       "    </tr>\n",
       "    <tr>\n",
       "      <th>200</th>\n",
       "      <td>1</td>\n",
       "      <td>1</td>\n",
       "      <td>0</td>\n",
       "      <td>0</td>\n",
       "      <td>0</td>\n",
       "      <td>0</td>\n",
       "      <td>0</td>\n",
       "      <td>0</td>\n",
       "      <td>0</td>\n",
       "      <td>0</td>\n",
       "      <td>0</td>\n",
       "      <td>0</td>\n",
       "      <td>1</td>\n",
       "      <td>0</td>\n",
       "      <td>0</td>\n",
       "      <td>1</td>\n",
       "      <td>1</td>\n",
       "      <td>0</td>\n",
       "      <td>1</td>\n",
       "      <td>0</td>\n",
       "      <td>0</td>\n",
       "      <td>0</td>\n",
       "      <td>0</td>\n",
       "      <td>0</td>\n",
       "      <td>0</td>\n",
       "      <td>1</td>\n",
       "      <td>1</td>\n",
       "      <td>0</td>\n",
       "      <td>4</td>\n",
       "    </tr>\n",
       "    <tr>\n",
       "      <th>201</th>\n",
       "      <td>1</td>\n",
       "      <td>1</td>\n",
       "      <td>0</td>\n",
       "      <td>1</td>\n",
       "      <td>1</td>\n",
       "      <td>0</td>\n",
       "      <td>1</td>\n",
       "      <td>0</td>\n",
       "      <td>0</td>\n",
       "      <td>0</td>\n",
       "      <td>0</td>\n",
       "      <td>1</td>\n",
       "      <td>0</td>\n",
       "      <td>0</td>\n",
       "      <td>0</td>\n",
       "      <td>1</td>\n",
       "      <td>0</td>\n",
       "      <td>1</td>\n",
       "      <td>1</td>\n",
       "      <td>1</td>\n",
       "      <td>1</td>\n",
       "      <td>0</td>\n",
       "      <td>0</td>\n",
       "      <td>0</td>\n",
       "      <td>0</td>\n",
       "      <td>0</td>\n",
       "      <td>4</td>\n",
       "      <td>1</td>\n",
       "      <td>4</td>\n",
       "    </tr>\n",
       "  </tbody>\n",
       "</table>\n",
       "<p>200 rows × 29 columns</p>\n",
       "</div>"
      ],
      "text/plain": [
       "    bp (Diastolic) bp limit sg al  class rbc su pc pcc ba bgr bu sod sc pot  \\\n",
       "2                0        0  0  1      1   0  0  0   0  0   1  0   1  0   0   \n",
       "3                0        0  0  0      1   0  0  0   0  0   0  0   0  0   0   \n",
       "4                0        0  0  1      1   1  0  1   0  1   1  1   0  0   0   \n",
       "5                1        1  0  1      1   0  0  0   0  0   0  0   0  0   0   \n",
       "6                0        0  0  0      1   0  0  0   0  0   2  0   0  0   0   \n",
       "..             ...      ... .. ..    ...  .. .. ..  .. ..  .. ..  .. ..  ..   \n",
       "197              1        1  0  0      1   0  0  0   0  0   2  0   1  0   0   \n",
       "198              0        0  0  0      1   0  0  0   0  0   0  1   0  0   0   \n",
       "199              1        1  0  0      0   0  0  0   0  0   1  0   1  0   0   \n",
       "200              1        1  0  0      0   0  0  0   0  0   0  0   1  0   0   \n",
       "201              1        1  0  1      1   0  1  0   0  0   0  1   0  0   0   \n",
       "\n",
       "    hemo pcv rbcc wbcc htn dm cad appet pe ane grf stage affected age  \n",
       "2      0   1    0    0   0  0   0     0  0   0   1     1        1   4  \n",
       "3      0   1    0    1   0  0   0     0  0   0   1     1        1   4  \n",
       "4      1   1    0    1   0  0   0     1  0   0   1     1        1   4  \n",
       "5      1   1    0    0   0  0   0     0  0   0   1     1        1   4  \n",
       "6      1   0    1    0   0  1   0     1  1   0   1     1        1   4  \n",
       "..   ...  ..  ...  ...  .. ..  ..   ... ..  ..  ..   ...      ...  ..  \n",
       "197    1   1    0    0   1  1   0     0  0   1   1     3        1   4  \n",
       "198    1   1    0    0   0  1   0     0  0   1   0     4        1   4  \n",
       "199    1   0    1    0   0  0   0     0  0   0   1     2        0   4  \n",
       "200    1   1    0    1   0  0   0     0  0   0   1     1        0   4  \n",
       "201    1   0    1    1   1  1   0     0  0   0   0     4        1   4  \n",
       "\n",
       "[200 rows x 29 columns]"
      ]
     },
     "execution_count": 142,
     "metadata": {},
     "output_type": "execute_result"
    }
   ],
   "source": [
    "df"
   ]
  },
  {
   "cell_type": "markdown",
   "id": "46f4b785",
   "metadata": {},
   "source": [
    "# One Hot encoding"
   ]
  },
  {
   "cell_type": "code",
   "execution_count": 143,
   "id": "d2852a6c",
   "metadata": {},
   "outputs": [],
   "source": [
    "# we will  apply one hot encoding on some attribute which are as follow ..\n",
    "# bgr , brf  , stage and age"
   ]
  },
  {
   "cell_type": "code",
   "execution_count": 144,
   "id": "51d99a47",
   "metadata": {},
   "outputs": [
    {
     "data": {
      "text/plain": [
       "0    79\n",
       "1    70\n",
       "2    51\n",
       "Name: bgr, dtype: int64"
      ]
     },
     "execution_count": 144,
     "metadata": {},
     "output_type": "execute_result"
    }
   ],
   "source": [
    "df['bgr'].value_counts()"
   ]
  },
  {
   "cell_type": "code",
   "execution_count": 145,
   "id": "574ad972",
   "metadata": {},
   "outputs": [
    {
     "data": {
      "text/plain": [
       "1    131\n",
       "0     69\n",
       "Name: grf, dtype: int64"
      ]
     },
     "execution_count": 145,
     "metadata": {},
     "output_type": "execute_result"
    }
   ],
   "source": [
    "df['grf'].value_counts()"
   ]
  },
  {
   "cell_type": "code",
   "execution_count": 146,
   "id": "d17786aa",
   "metadata": {},
   "outputs": [
    {
     "data": {
      "text/plain": [
       "1    54\n",
       "4    45\n",
       "5    35\n",
       "2    35\n",
       "3    31\n",
       "Name: stage, dtype: int64"
      ]
     },
     "execution_count": 146,
     "metadata": {},
     "output_type": "execute_result"
    }
   ],
   "source": [
    "df['stage'].value_counts()"
   ]
  },
  {
   "cell_type": "code",
   "execution_count": 147,
   "id": "b2b7d000",
   "metadata": {},
   "outputs": [
    {
     "data": {
      "text/plain": [
       "4    54\n",
       "0    48\n",
       "1    34\n",
       "2    33\n",
       "3    31\n",
       "Name: age, dtype: int64"
      ]
     },
     "execution_count": 147,
     "metadata": {},
     "output_type": "execute_result"
    }
   ],
   "source": [
    "df['age'].value_counts()"
   ]
  },
  {
   "cell_type": "code",
   "execution_count": 148,
   "id": "b9ac92be",
   "metadata": {},
   "outputs": [],
   "source": [
    "# colm = ['bgr', 'grf', 'stage', 'age']    # apply one hot encoding in bgr,grf,stage,age\n",
    "# dfnew = pd.get_dummies(df, columns=colm)\n",
    "# dfnew"
   ]
  },
  {
   "cell_type": "code",
   "execution_count": 149,
   "id": "d84e89a4",
   "metadata": {},
   "outputs": [
    {
     "name": "stdout",
     "output_type": "stream",
     "text": [
      "<class 'pandas.core.frame.DataFrame'>\n",
      "Int64Index: 200 entries, 2 to 201\n",
      "Data columns (total 29 columns):\n",
      " #   Column          Non-Null Count  Dtype \n",
      "---  ------          --------------  ----- \n",
      " 0   bp (Diastolic)  200 non-null    object\n",
      " 1   bp limit        200 non-null    object\n",
      " 2   sg              200 non-null    object\n",
      " 3   al              200 non-null    object\n",
      " 4   class           200 non-null    int64 \n",
      " 5   rbc             200 non-null    object\n",
      " 6   su              200 non-null    object\n",
      " 7   pc              200 non-null    object\n",
      " 8   pcc             200 non-null    object\n",
      " 9   ba              200 non-null    object\n",
      " 10  bgr             200 non-null    object\n",
      " 11  bu              200 non-null    object\n",
      " 12  sod             200 non-null    object\n",
      " 13  sc              200 non-null    object\n",
      " 14  pot             200 non-null    object\n",
      " 15  hemo            200 non-null    object\n",
      " 16  pcv             200 non-null    object\n",
      " 17  rbcc            200 non-null    object\n",
      " 18  wbcc            200 non-null    object\n",
      " 19  htn             200 non-null    object\n",
      " 20  dm              200 non-null    object\n",
      " 21  cad             200 non-null    object\n",
      " 22  appet           200 non-null    object\n",
      " 23  pe              200 non-null    object\n",
      " 24  ane             200 non-null    object\n",
      " 25  grf             200 non-null    object\n",
      " 26  stage           200 non-null    object\n",
      " 27  affected        200 non-null    object\n",
      " 28  age             200 non-null    object\n",
      "dtypes: int64(1), object(28)\n",
      "memory usage: 55.0+ KB\n"
     ]
    }
   ],
   "source": [
    "df.info()"
   ]
  },
  {
   "cell_type": "code",
   "execution_count": 150,
   "id": "9fb5fec6",
   "metadata": {},
   "outputs": [],
   "source": [
    "attribute = ['bp (Diastolic)', 'bp limit', 'sg', 'al', 'class', 'rbc', 'su', 'pc', 'pcc', 'ba', 'bgr', 'bu', 'sod', 'sc', 'pot', 'hemo', 'pcv', 'rbcc', 'wbcc', 'htn', 'dm', 'cad', 'appet', 'pe', 'ane', 'grf', 'stage', 'affected', 'age']\n",
    "\n",
    "for i in range(len(attribute)):\n",
    "    df[attribute[i]] = df[attribute[i]].astype(int)\n",
    "    \n",
    "    # make the datatype to intger"
   ]
  },
  {
   "cell_type": "code",
   "execution_count": 151,
   "id": "0a0cc12c",
   "metadata": {},
   "outputs": [
    {
     "name": "stdout",
     "output_type": "stream",
     "text": [
      "<class 'pandas.core.frame.DataFrame'>\n",
      "Int64Index: 200 entries, 2 to 201\n",
      "Data columns (total 29 columns):\n",
      " #   Column          Non-Null Count  Dtype\n",
      "---  ------          --------------  -----\n",
      " 0   bp (Diastolic)  200 non-null    int32\n",
      " 1   bp limit        200 non-null    int32\n",
      " 2   sg              200 non-null    int32\n",
      " 3   al              200 non-null    int32\n",
      " 4   class           200 non-null    int32\n",
      " 5   rbc             200 non-null    int32\n",
      " 6   su              200 non-null    int32\n",
      " 7   pc              200 non-null    int32\n",
      " 8   pcc             200 non-null    int32\n",
      " 9   ba              200 non-null    int32\n",
      " 10  bgr             200 non-null    int32\n",
      " 11  bu              200 non-null    int32\n",
      " 12  sod             200 non-null    int32\n",
      " 13  sc              200 non-null    int32\n",
      " 14  pot             200 non-null    int32\n",
      " 15  hemo            200 non-null    int32\n",
      " 16  pcv             200 non-null    int32\n",
      " 17  rbcc            200 non-null    int32\n",
      " 18  wbcc            200 non-null    int32\n",
      " 19  htn             200 non-null    int32\n",
      " 20  dm              200 non-null    int32\n",
      " 21  cad             200 non-null    int32\n",
      " 22  appet           200 non-null    int32\n",
      " 23  pe              200 non-null    int32\n",
      " 24  ane             200 non-null    int32\n",
      " 25  grf             200 non-null    int32\n",
      " 26  stage           200 non-null    int32\n",
      " 27  affected        200 non-null    int32\n",
      " 28  age             200 non-null    int32\n",
      "dtypes: int32(29)\n",
      "memory usage: 32.3 KB\n"
     ]
    }
   ],
   "source": [
    "df.info()"
   ]
  },
  {
   "cell_type": "markdown",
   "id": "fb5949b9",
   "metadata": {},
   "source": [
    "# apply heat map  of co relation  , apply logistic regresion and random forestaccuracy , presesion , recall , f1 score for both"
   ]
  },
  {
   "cell_type": "code",
   "execution_count": 152,
   "id": "fe4a9a63",
   "metadata": {},
   "outputs": [
    {
     "name": "stdout",
     "output_type": "stream",
     "text": [
      "                bp (Diastolic)  bp limit  sg        al     class  \\\n",
      "bp (Diastolic)        1.000000  0.970320 NaN  0.073987  0.101994   \n",
      "bp limit              0.970320  1.000000 NaN  0.058831  0.100125   \n",
      "sg                         NaN       NaN NaN       NaN       NaN   \n",
      "al                    0.073987  0.058831 NaN  1.000000  0.638222   \n",
      "class                 0.101994  0.100125 NaN  0.638222  1.000000   \n",
      "rbc                   0.197173  0.208141 NaN  0.413529  0.283473   \n",
      "su                    0.134859  0.147214 NaN  0.380173  0.315063   \n",
      "pc                    0.088890  0.104901 NaN  0.633184  0.404112   \n",
      "pcc                  -0.075742 -0.063728 NaN  0.464246  0.296292   \n",
      "ba                    0.090649  0.097718 NaN  0.283501  0.180937   \n",
      "bgr                   0.014152  0.008827 NaN  0.290399  0.340060   \n",
      "bu                    0.066828  0.054241 NaN  0.413841  0.504116   \n",
      "sod                   0.013688  0.046206 NaN -0.129274 -0.232412   \n",
      "sc                    0.095923  0.086186 NaN  0.320702  0.380851   \n",
      "pot                        NaN       NaN NaN       NaN       NaN   \n",
      "hemo                  0.010730  0.040158 NaN -0.104111 -0.330359   \n",
      "pcv                   0.005362  0.008920 NaN -0.010830 -0.166110   \n",
      "rbcc                 -0.043374 -0.052107 NaN -0.013789 -0.220176   \n",
      "wbcc                  0.038531  0.029042 NaN  0.043773 -0.089185   \n",
      "htn                   0.079805  0.062610 NaN  0.461922  0.599693   \n",
      "dm                    0.004207  0.005248 NaN  0.352573  0.550350   \n",
      "cad                   0.003848  0.014400 NaN  0.251247  0.263671   \n",
      "appet                 0.110354  0.125157 NaN  0.334307  0.375000   \n",
      "pe                   -0.023762 -0.009882 NaN  0.301275  0.345425   \n",
      "ane                   0.129163  0.142019 NaN  0.264174  0.327327   \n",
      "grf                  -0.142241 -0.142700 NaN -0.426644 -0.500489   \n",
      "stage                 0.150978  0.147821 NaN  0.535945  0.701045   \n",
      "affected              0.101994  0.100125 NaN  0.638222  1.000000   \n",
      "age                   0.059650  0.053899 NaN -0.222619 -0.276206   \n",
      "\n",
      "                         rbc        su        pc       pcc        ba  \\\n",
      "bp (Diastolic)  1.971735e-01  0.134859  0.088890 -0.075742  0.090649   \n",
      "bp limit        2.081408e-01  0.147214  0.104901 -0.063728  0.097718   \n",
      "sg                       NaN       NaN       NaN       NaN       NaN   \n",
      "al              4.135291e-01  0.380173  0.633184  0.464246  0.283501   \n",
      "class           2.834734e-01  0.315063  0.404112  0.296292  0.180937   \n",
      "rbc             1.000000e+00  0.095266  0.375627  0.027651  0.174078   \n",
      "su              9.526610e-02  1.000000  0.142515  0.161859  0.144340   \n",
      "pc              3.756271e-01  0.142515  1.000000  0.522959  0.342698   \n",
      "pcc             2.765133e-02  0.161859  0.522959  1.000000  0.225592   \n",
      "ba              1.740777e-01  0.144340  0.342698  0.225592  1.000000   \n",
      "bgr             2.856236e-02  0.462070  0.185492  0.180229  0.125407   \n",
      "bu              3.488454e-01  0.146097  0.391597  0.222530  0.173378   \n",
      "sod             1.061703e-01 -0.005619 -0.031232 -0.075742  0.090649   \n",
      "sc              2.574680e-01  0.098855  0.378903  0.125585  0.094800   \n",
      "pot                      NaN       NaN       NaN       NaN       NaN   \n",
      "hemo            3.954640e-02 -0.053721  0.000696  0.088963 -0.015553   \n",
      "pcv             1.010153e-01 -0.143459  0.042668  0.083424  0.003908   \n",
      "rbcc            3.212701e-17 -0.044845  0.086280  0.057402  0.012292   \n",
      "wbcc            6.804722e-02  0.019608  0.097006  0.123809  0.060982   \n",
      "htn             2.557218e-01  0.266993  0.330182  0.224088  0.076890   \n",
      "dm              1.347129e-01  0.455047  0.232209  0.200930  0.052879   \n",
      "cad             1.087182e-01  0.344599  0.116718  0.188455  0.125468   \n",
      "appet           1.889822e-01  0.070014  0.389145  0.204844  0.153522   \n",
      "pe              2.238141e-01  0.101345  0.350576  0.087605  0.062049   \n",
      "ane             2.061965e-01  0.045835  0.385399  0.266607  0.074181   \n",
      "grf            -2.981618e-01 -0.225344 -0.364600 -0.174983 -0.147867   \n",
      "stage           3.034352e-01  0.268656  0.442345  0.286496  0.157270   \n",
      "affected        2.834734e-01  0.315063  0.404112  0.296292  0.180937   \n",
      "age            -6.024035e-02 -0.249140 -0.085877 -0.116268 -0.021330   \n",
      "\n",
      "                     bgr        bu       sod        sc  pot      hemo  \\\n",
      "bp (Diastolic)  0.014152  0.066828  0.013688  0.095923  NaN  0.010730   \n",
      "bp limit        0.008827  0.054241  0.046206  0.086186  NaN  0.040158   \n",
      "sg                   NaN       NaN       NaN       NaN  NaN       NaN   \n",
      "al              0.290399  0.413841 -0.129274  0.320702  NaN -0.104111   \n",
      "class           0.340060  0.504116 -0.232412  0.380851  NaN -0.330359   \n",
      "rbc             0.028562  0.348845  0.106170  0.257468  NaN  0.039546   \n",
      "su              0.462070  0.146097 -0.005619  0.098855  NaN -0.053721   \n",
      "pc              0.185492  0.391597 -0.031232  0.378903  NaN  0.000696   \n",
      "pcc             0.180229  0.222530 -0.075742  0.125585  NaN  0.088963   \n",
      "ba              0.125407  0.173378  0.090649  0.094800  NaN -0.015553   \n",
      "bgr             1.000000  0.074296  0.102599  0.120738  NaN -0.071161   \n",
      "bu              0.074296  1.000000 -0.174718  0.525338  NaN -0.010730   \n",
      "sod             0.102599 -0.174718  1.000000  0.046222  NaN  0.080707   \n",
      "sc              0.120738  0.525338  0.046222  1.000000  NaN  0.030093   \n",
      "pot                  NaN       NaN       NaN       NaN  NaN       NaN   \n",
      "hemo           -0.071161 -0.010730  0.080707  0.030093  NaN  1.000000   \n",
      "pcv            -0.053858 -0.072393  0.050049  0.040825  NaN  0.421524   \n",
      "rbcc           -0.005546 -0.057028  0.077109  0.041648  NaN  0.267136   \n",
      "wbcc            0.028722  0.021674 -0.041742 -0.022546  NaN  0.162558   \n",
      "htn             0.334657  0.454969 -0.064173  0.431933  NaN  0.002622   \n",
      "dm              0.485869  0.311290 -0.100959  0.250580  NaN -0.069465   \n",
      "cad             0.223003  0.220593 -0.060278  0.217315  NaN  0.125957   \n",
      "appet           0.182625  0.165531 -0.040129  0.210552  NaN -0.034877   \n",
      "pe              0.164078  0.234984  0.002640  0.385447  NaN -0.013003   \n",
      "ane             0.008245  0.336042 -0.035027  0.487840  NaN  0.153483   \n",
      "grf            -0.154465 -0.680814  0.111007 -0.699688  NaN -0.022133   \n",
      "stage           0.231703  0.756799 -0.149339  0.688774  NaN -0.085897   \n",
      "affected        0.340060  0.504116 -0.232412  0.380851  NaN -0.330359   \n",
      "age            -0.265219 -0.209754  0.046598 -0.095437  NaN  0.107430   \n",
      "\n",
      "                     pcv          rbcc      wbcc       htn        dm  \\\n",
      "bp (Diastolic)  0.005362 -4.337362e-02  0.038531  0.079805  0.004207   \n",
      "bp limit        0.008920 -5.210682e-02  0.029042  0.062610  0.005248   \n",
      "sg                   NaN           NaN       NaN       NaN       NaN   \n",
      "al             -0.010830 -1.378853e-02  0.043773  0.461922  0.352573   \n",
      "class          -0.166110 -2.201762e-01 -0.089185  0.599693  0.550350   \n",
      "rbc             0.101015  3.212701e-17  0.068047  0.255722  0.134713   \n",
      "su             -0.143459 -4.484485e-02  0.019608  0.266993  0.455047   \n",
      "pc              0.042668  8.627960e-02  0.097006  0.330182  0.232209   \n",
      "pcc             0.083424  5.740224e-02  0.123809  0.224088  0.200930   \n",
      "ba              0.003908  1.229160e-02  0.060982  0.076890  0.052879   \n",
      "bgr            -0.053858 -5.546159e-03  0.028722  0.334657  0.485869   \n",
      "bu             -0.072393 -5.702828e-02  0.021674  0.454969  0.311290   \n",
      "sod             0.050049  7.710866e-02 -0.041742 -0.064173 -0.100959   \n",
      "sc              0.040825  4.164823e-02 -0.022546  0.431933  0.250580   \n",
      "pot                  NaN           NaN       NaN       NaN       NaN   \n",
      "hemo            0.421524  2.671364e-01  0.162558  0.002622 -0.069465   \n",
      "pcv             1.000000  3.147293e-01  0.368894 -0.003653 -0.056033   \n",
      "rbcc            0.314729  1.000000e+00  0.359560  0.091103 -0.029375   \n",
      "wbcc            0.368894  3.595596e-01  1.000000  0.086537 -0.014679   \n",
      "htn            -0.003653  9.110316e-02  0.086537  1.000000  0.616828   \n",
      "dm             -0.056033 -2.937549e-02 -0.014679  0.616828  1.000000   \n",
      "cad             0.076875  8.188349e-02  0.056900  0.341389  0.278078   \n",
      "appet          -0.077951  3.002403e-02 -0.010002  0.266530  0.262071   \n",
      "pe              0.052753  4.741047e-02  0.056595  0.279233  0.268991   \n",
      "ane             0.150663  3.712675e-02  0.100400  0.294164  0.223036   \n",
      "grf            -0.007496  1.852679e-02  0.003998 -0.497928 -0.393629   \n",
      "stage          -0.074551 -3.704073e-02 -0.018509  0.627136  0.469287   \n",
      "affected       -0.166110 -2.201762e-01 -0.089185  0.599693  0.550350   \n",
      "age             0.076210  2.812561e-02  0.002668 -0.323500 -0.301079   \n",
      "\n",
      "                     cad     appet        pe       ane       grf     stage  \\\n",
      "bp (Diastolic)  0.003848  0.110354 -0.023762  0.129163 -0.142241  0.150978   \n",
      "bp limit        0.014400  0.125157 -0.009882  0.142019 -0.142700  0.147821   \n",
      "sg                   NaN       NaN       NaN       NaN       NaN       NaN   \n",
      "al              0.251247  0.334307  0.301275  0.264174 -0.426644  0.535945   \n",
      "class           0.263671  0.375000  0.345425  0.327327 -0.500489  0.701045   \n",
      "rbc             0.108718  0.188982  0.223814  0.206197 -0.298162  0.303435   \n",
      "su              0.344599  0.070014  0.101345  0.045835 -0.225344  0.268656   \n",
      "pc              0.116718  0.389145  0.350576  0.385399 -0.364600  0.442345   \n",
      "pcc             0.188455  0.204844  0.087605  0.266607 -0.174983  0.286496   \n",
      "ba              0.125468  0.153522  0.062049  0.074181 -0.147867  0.157270   \n",
      "bgr             0.223003  0.182625  0.164078  0.008245 -0.154465  0.231703   \n",
      "bu              0.220593  0.165531  0.234984  0.336042 -0.680814  0.756799   \n",
      "sod            -0.060278 -0.040129  0.002640 -0.035027  0.111007 -0.149339   \n",
      "sc              0.217315  0.210552  0.385447  0.487840 -0.699688  0.688774   \n",
      "pot                  NaN       NaN       NaN       NaN       NaN       NaN   \n",
      "hemo            0.125957 -0.034877 -0.013003  0.153483 -0.022133 -0.085897   \n",
      "pcv             0.076875 -0.077951  0.052753  0.150663 -0.007496 -0.074551   \n",
      "rbcc            0.081883  0.030024  0.047410  0.037127  0.018527 -0.037041   \n",
      "wbcc            0.056900 -0.010002  0.056595  0.100400  0.003998 -0.018509   \n",
      "htn             0.341389  0.266530  0.279233  0.294164 -0.497928  0.627136   \n",
      "dm              0.278078  0.262071  0.268991  0.223036 -0.393629  0.469287   \n",
      "cad             1.000000  0.143821  0.174534  0.108101 -0.215480  0.283543   \n",
      "appet           0.143821  1.000000  0.427669  0.259134 -0.241918  0.328269   \n",
      "pe              0.174534  0.427669  1.000000  0.301511 -0.357787  0.375121   \n",
      "ane             0.108101  0.259134  0.301511  1.000000 -0.400521  0.440569   \n",
      "grf            -0.215480 -0.241918 -0.357787 -0.400521  1.000000 -0.813355   \n",
      "stage           0.283543  0.328269  0.375121  0.440569 -0.813355  1.000000   \n",
      "affected        0.263671  0.375000  0.345425  0.327327 -0.500489  0.701045   \n",
      "age            -0.249390 -0.039032 -0.081966  0.031586  0.192306 -0.311452   \n",
      "\n",
      "                affected       age  \n",
      "bp (Diastolic)  0.101994  0.059650  \n",
      "bp limit        0.100125  0.053899  \n",
      "sg                   NaN       NaN  \n",
      "al              0.638222 -0.222619  \n",
      "class           1.000000 -0.276206  \n",
      "rbc             0.283473 -0.060240  \n",
      "su              0.315063 -0.249140  \n",
      "pc              0.404112 -0.085877  \n",
      "pcc             0.296292 -0.116268  \n",
      "ba              0.180937 -0.021330  \n",
      "bgr             0.340060 -0.265219  \n",
      "bu              0.504116 -0.209754  \n",
      "sod            -0.232412  0.046598  \n",
      "sc              0.380851 -0.095437  \n",
      "pot                  NaN       NaN  \n",
      "hemo           -0.330359  0.107430  \n",
      "pcv            -0.166110  0.076210  \n",
      "rbcc           -0.220176  0.028126  \n",
      "wbcc           -0.089185  0.002668  \n",
      "htn             0.599693 -0.323500  \n",
      "dm              0.550350 -0.301079  \n",
      "cad             0.263671 -0.249390  \n",
      "appet           0.375000 -0.039032  \n",
      "pe              0.345425 -0.081966  \n",
      "ane             0.327327  0.031586  \n",
      "grf            -0.500489  0.192306  \n",
      "stage           0.701045 -0.311452  \n",
      "affected        1.000000 -0.276206  \n",
      "age            -0.276206  1.000000  \n"
     ]
    }
   ],
   "source": [
    "print(df.corr()) # it show the co-realion in dataFame"
   ]
  },
  {
   "cell_type": "code",
   "execution_count": 153,
   "id": "3981e15c",
   "metadata": {},
   "outputs": [
    {
     "data": {
      "text/html": [
       "<div>\n",
       "<style scoped>\n",
       "    .dataframe tbody tr th:only-of-type {\n",
       "        vertical-align: middle;\n",
       "    }\n",
       "\n",
       "    .dataframe tbody tr th {\n",
       "        vertical-align: top;\n",
       "    }\n",
       "\n",
       "    .dataframe thead th {\n",
       "        text-align: right;\n",
       "    }\n",
       "</style>\n",
       "<table border=\"1\" class=\"dataframe\">\n",
       "  <thead>\n",
       "    <tr style=\"text-align: right;\">\n",
       "      <th></th>\n",
       "      <th>bp (Diastolic)</th>\n",
       "      <th>bp limit</th>\n",
       "      <th>sg</th>\n",
       "      <th>al</th>\n",
       "      <th>class</th>\n",
       "      <th>rbc</th>\n",
       "      <th>su</th>\n",
       "      <th>pc</th>\n",
       "      <th>pcc</th>\n",
       "      <th>ba</th>\n",
       "      <th>bgr</th>\n",
       "      <th>bu</th>\n",
       "      <th>sod</th>\n",
       "      <th>sc</th>\n",
       "      <th>pot</th>\n",
       "      <th>hemo</th>\n",
       "      <th>pcv</th>\n",
       "      <th>rbcc</th>\n",
       "      <th>wbcc</th>\n",
       "      <th>htn</th>\n",
       "      <th>dm</th>\n",
       "      <th>cad</th>\n",
       "      <th>appet</th>\n",
       "      <th>pe</th>\n",
       "      <th>ane</th>\n",
       "      <th>grf</th>\n",
       "      <th>stage</th>\n",
       "      <th>affected</th>\n",
       "      <th>age</th>\n",
       "    </tr>\n",
       "  </thead>\n",
       "  <tbody>\n",
       "    <tr>\n",
       "      <th>2</th>\n",
       "      <td>0</td>\n",
       "      <td>0</td>\n",
       "      <td>0</td>\n",
       "      <td>1</td>\n",
       "      <td>1</td>\n",
       "      <td>0</td>\n",
       "      <td>0</td>\n",
       "      <td>0</td>\n",
       "      <td>0</td>\n",
       "      <td>0</td>\n",
       "      <td>1</td>\n",
       "      <td>0</td>\n",
       "      <td>1</td>\n",
       "      <td>0</td>\n",
       "      <td>0</td>\n",
       "      <td>0</td>\n",
       "      <td>1</td>\n",
       "      <td>0</td>\n",
       "      <td>0</td>\n",
       "      <td>0</td>\n",
       "      <td>0</td>\n",
       "      <td>0</td>\n",
       "      <td>0</td>\n",
       "      <td>0</td>\n",
       "      <td>0</td>\n",
       "      <td>1</td>\n",
       "      <td>1</td>\n",
       "      <td>1</td>\n",
       "      <td>4</td>\n",
       "    </tr>\n",
       "    <tr>\n",
       "      <th>3</th>\n",
       "      <td>0</td>\n",
       "      <td>0</td>\n",
       "      <td>0</td>\n",
       "      <td>0</td>\n",
       "      <td>1</td>\n",
       "      <td>0</td>\n",
       "      <td>0</td>\n",
       "      <td>0</td>\n",
       "      <td>0</td>\n",
       "      <td>0</td>\n",
       "      <td>0</td>\n",
       "      <td>0</td>\n",
       "      <td>0</td>\n",
       "      <td>0</td>\n",
       "      <td>0</td>\n",
       "      <td>0</td>\n",
       "      <td>1</td>\n",
       "      <td>0</td>\n",
       "      <td>1</td>\n",
       "      <td>0</td>\n",
       "      <td>0</td>\n",
       "      <td>0</td>\n",
       "      <td>0</td>\n",
       "      <td>0</td>\n",
       "      <td>0</td>\n",
       "      <td>1</td>\n",
       "      <td>1</td>\n",
       "      <td>1</td>\n",
       "      <td>4</td>\n",
       "    </tr>\n",
       "    <tr>\n",
       "      <th>4</th>\n",
       "      <td>0</td>\n",
       "      <td>0</td>\n",
       "      <td>0</td>\n",
       "      <td>1</td>\n",
       "      <td>1</td>\n",
       "      <td>1</td>\n",
       "      <td>0</td>\n",
       "      <td>1</td>\n",
       "      <td>0</td>\n",
       "      <td>1</td>\n",
       "      <td>1</td>\n",
       "      <td>1</td>\n",
       "      <td>0</td>\n",
       "      <td>0</td>\n",
       "      <td>0</td>\n",
       "      <td>1</td>\n",
       "      <td>1</td>\n",
       "      <td>0</td>\n",
       "      <td>1</td>\n",
       "      <td>0</td>\n",
       "      <td>0</td>\n",
       "      <td>0</td>\n",
       "      <td>1</td>\n",
       "      <td>0</td>\n",
       "      <td>0</td>\n",
       "      <td>1</td>\n",
       "      <td>1</td>\n",
       "      <td>1</td>\n",
       "      <td>4</td>\n",
       "    </tr>\n",
       "    <tr>\n",
       "      <th>5</th>\n",
       "      <td>1</td>\n",
       "      <td>1</td>\n",
       "      <td>0</td>\n",
       "      <td>1</td>\n",
       "      <td>1</td>\n",
       "      <td>0</td>\n",
       "      <td>0</td>\n",
       "      <td>0</td>\n",
       "      <td>0</td>\n",
       "      <td>0</td>\n",
       "      <td>0</td>\n",
       "      <td>0</td>\n",
       "      <td>0</td>\n",
       "      <td>0</td>\n",
       "      <td>0</td>\n",
       "      <td>1</td>\n",
       "      <td>1</td>\n",
       "      <td>0</td>\n",
       "      <td>0</td>\n",
       "      <td>0</td>\n",
       "      <td>0</td>\n",
       "      <td>0</td>\n",
       "      <td>0</td>\n",
       "      <td>0</td>\n",
       "      <td>0</td>\n",
       "      <td>1</td>\n",
       "      <td>1</td>\n",
       "      <td>1</td>\n",
       "      <td>4</td>\n",
       "    </tr>\n",
       "    <tr>\n",
       "      <th>6</th>\n",
       "      <td>0</td>\n",
       "      <td>0</td>\n",
       "      <td>0</td>\n",
       "      <td>0</td>\n",
       "      <td>1</td>\n",
       "      <td>0</td>\n",
       "      <td>0</td>\n",
       "      <td>0</td>\n",
       "      <td>0</td>\n",
       "      <td>0</td>\n",
       "      <td>2</td>\n",
       "      <td>0</td>\n",
       "      <td>0</td>\n",
       "      <td>0</td>\n",
       "      <td>0</td>\n",
       "      <td>1</td>\n",
       "      <td>0</td>\n",
       "      <td>1</td>\n",
       "      <td>0</td>\n",
       "      <td>0</td>\n",
       "      <td>1</td>\n",
       "      <td>0</td>\n",
       "      <td>1</td>\n",
       "      <td>1</td>\n",
       "      <td>0</td>\n",
       "      <td>1</td>\n",
       "      <td>1</td>\n",
       "      <td>1</td>\n",
       "      <td>4</td>\n",
       "    </tr>\n",
       "    <tr>\n",
       "      <th>...</th>\n",
       "      <td>...</td>\n",
       "      <td>...</td>\n",
       "      <td>...</td>\n",
       "      <td>...</td>\n",
       "      <td>...</td>\n",
       "      <td>...</td>\n",
       "      <td>...</td>\n",
       "      <td>...</td>\n",
       "      <td>...</td>\n",
       "      <td>...</td>\n",
       "      <td>...</td>\n",
       "      <td>...</td>\n",
       "      <td>...</td>\n",
       "      <td>...</td>\n",
       "      <td>...</td>\n",
       "      <td>...</td>\n",
       "      <td>...</td>\n",
       "      <td>...</td>\n",
       "      <td>...</td>\n",
       "      <td>...</td>\n",
       "      <td>...</td>\n",
       "      <td>...</td>\n",
       "      <td>...</td>\n",
       "      <td>...</td>\n",
       "      <td>...</td>\n",
       "      <td>...</td>\n",
       "      <td>...</td>\n",
       "      <td>...</td>\n",
       "      <td>...</td>\n",
       "    </tr>\n",
       "    <tr>\n",
       "      <th>197</th>\n",
       "      <td>1</td>\n",
       "      <td>1</td>\n",
       "      <td>0</td>\n",
       "      <td>0</td>\n",
       "      <td>1</td>\n",
       "      <td>0</td>\n",
       "      <td>0</td>\n",
       "      <td>0</td>\n",
       "      <td>0</td>\n",
       "      <td>0</td>\n",
       "      <td>2</td>\n",
       "      <td>0</td>\n",
       "      <td>1</td>\n",
       "      <td>0</td>\n",
       "      <td>0</td>\n",
       "      <td>1</td>\n",
       "      <td>1</td>\n",
       "      <td>0</td>\n",
       "      <td>0</td>\n",
       "      <td>1</td>\n",
       "      <td>1</td>\n",
       "      <td>0</td>\n",
       "      <td>0</td>\n",
       "      <td>0</td>\n",
       "      <td>1</td>\n",
       "      <td>1</td>\n",
       "      <td>3</td>\n",
       "      <td>1</td>\n",
       "      <td>4</td>\n",
       "    </tr>\n",
       "    <tr>\n",
       "      <th>198</th>\n",
       "      <td>0</td>\n",
       "      <td>0</td>\n",
       "      <td>0</td>\n",
       "      <td>0</td>\n",
       "      <td>1</td>\n",
       "      <td>0</td>\n",
       "      <td>0</td>\n",
       "      <td>0</td>\n",
       "      <td>0</td>\n",
       "      <td>0</td>\n",
       "      <td>0</td>\n",
       "      <td>1</td>\n",
       "      <td>0</td>\n",
       "      <td>0</td>\n",
       "      <td>0</td>\n",
       "      <td>1</td>\n",
       "      <td>1</td>\n",
       "      <td>0</td>\n",
       "      <td>0</td>\n",
       "      <td>0</td>\n",
       "      <td>1</td>\n",
       "      <td>0</td>\n",
       "      <td>0</td>\n",
       "      <td>0</td>\n",
       "      <td>1</td>\n",
       "      <td>0</td>\n",
       "      <td>4</td>\n",
       "      <td>1</td>\n",
       "      <td>4</td>\n",
       "    </tr>\n",
       "    <tr>\n",
       "      <th>199</th>\n",
       "      <td>1</td>\n",
       "      <td>1</td>\n",
       "      <td>0</td>\n",
       "      <td>0</td>\n",
       "      <td>0</td>\n",
       "      <td>0</td>\n",
       "      <td>0</td>\n",
       "      <td>0</td>\n",
       "      <td>0</td>\n",
       "      <td>0</td>\n",
       "      <td>1</td>\n",
       "      <td>0</td>\n",
       "      <td>1</td>\n",
       "      <td>0</td>\n",
       "      <td>0</td>\n",
       "      <td>1</td>\n",
       "      <td>0</td>\n",
       "      <td>1</td>\n",
       "      <td>0</td>\n",
       "      <td>0</td>\n",
       "      <td>0</td>\n",
       "      <td>0</td>\n",
       "      <td>0</td>\n",
       "      <td>0</td>\n",
       "      <td>0</td>\n",
       "      <td>1</td>\n",
       "      <td>2</td>\n",
       "      <td>0</td>\n",
       "      <td>4</td>\n",
       "    </tr>\n",
       "    <tr>\n",
       "      <th>200</th>\n",
       "      <td>1</td>\n",
       "      <td>1</td>\n",
       "      <td>0</td>\n",
       "      <td>0</td>\n",
       "      <td>0</td>\n",
       "      <td>0</td>\n",
       "      <td>0</td>\n",
       "      <td>0</td>\n",
       "      <td>0</td>\n",
       "      <td>0</td>\n",
       "      <td>0</td>\n",
       "      <td>0</td>\n",
       "      <td>1</td>\n",
       "      <td>0</td>\n",
       "      <td>0</td>\n",
       "      <td>1</td>\n",
       "      <td>1</td>\n",
       "      <td>0</td>\n",
       "      <td>1</td>\n",
       "      <td>0</td>\n",
       "      <td>0</td>\n",
       "      <td>0</td>\n",
       "      <td>0</td>\n",
       "      <td>0</td>\n",
       "      <td>0</td>\n",
       "      <td>1</td>\n",
       "      <td>1</td>\n",
       "      <td>0</td>\n",
       "      <td>4</td>\n",
       "    </tr>\n",
       "    <tr>\n",
       "      <th>201</th>\n",
       "      <td>1</td>\n",
       "      <td>1</td>\n",
       "      <td>0</td>\n",
       "      <td>1</td>\n",
       "      <td>1</td>\n",
       "      <td>0</td>\n",
       "      <td>1</td>\n",
       "      <td>0</td>\n",
       "      <td>0</td>\n",
       "      <td>0</td>\n",
       "      <td>0</td>\n",
       "      <td>1</td>\n",
       "      <td>0</td>\n",
       "      <td>0</td>\n",
       "      <td>0</td>\n",
       "      <td>1</td>\n",
       "      <td>0</td>\n",
       "      <td>1</td>\n",
       "      <td>1</td>\n",
       "      <td>1</td>\n",
       "      <td>1</td>\n",
       "      <td>0</td>\n",
       "      <td>0</td>\n",
       "      <td>0</td>\n",
       "      <td>0</td>\n",
       "      <td>0</td>\n",
       "      <td>4</td>\n",
       "      <td>1</td>\n",
       "      <td>4</td>\n",
       "    </tr>\n",
       "  </tbody>\n",
       "</table>\n",
       "<p>200 rows × 29 columns</p>\n",
       "</div>"
      ],
      "text/plain": [
       "     bp (Diastolic)  bp limit  sg  al  class  rbc  su  pc  pcc  ba  bgr  bu  \\\n",
       "2                 0         0   0   1      1    0   0   0    0   0    1   0   \n",
       "3                 0         0   0   0      1    0   0   0    0   0    0   0   \n",
       "4                 0         0   0   1      1    1   0   1    0   1    1   1   \n",
       "5                 1         1   0   1      1    0   0   0    0   0    0   0   \n",
       "6                 0         0   0   0      1    0   0   0    0   0    2   0   \n",
       "..              ...       ...  ..  ..    ...  ...  ..  ..  ...  ..  ...  ..   \n",
       "197               1         1   0   0      1    0   0   0    0   0    2   0   \n",
       "198               0         0   0   0      1    0   0   0    0   0    0   1   \n",
       "199               1         1   0   0      0    0   0   0    0   0    1   0   \n",
       "200               1         1   0   0      0    0   0   0    0   0    0   0   \n",
       "201               1         1   0   1      1    0   1   0    0   0    0   1   \n",
       "\n",
       "     sod  sc  pot  hemo  pcv  rbcc  wbcc  htn  dm  cad  appet  pe  ane  grf  \\\n",
       "2      1   0    0     0    1     0     0    0   0    0      0   0    0    1   \n",
       "3      0   0    0     0    1     0     1    0   0    0      0   0    0    1   \n",
       "4      0   0    0     1    1     0     1    0   0    0      1   0    0    1   \n",
       "5      0   0    0     1    1     0     0    0   0    0      0   0    0    1   \n",
       "6      0   0    0     1    0     1     0    0   1    0      1   1    0    1   \n",
       "..   ...  ..  ...   ...  ...   ...   ...  ...  ..  ...    ...  ..  ...  ...   \n",
       "197    1   0    0     1    1     0     0    1   1    0      0   0    1    1   \n",
       "198    0   0    0     1    1     0     0    0   1    0      0   0    1    0   \n",
       "199    1   0    0     1    0     1     0    0   0    0      0   0    0    1   \n",
       "200    1   0    0     1    1     0     1    0   0    0      0   0    0    1   \n",
       "201    0   0    0     1    0     1     1    1   1    0      0   0    0    0   \n",
       "\n",
       "     stage  affected  age  \n",
       "2        1         1    4  \n",
       "3        1         1    4  \n",
       "4        1         1    4  \n",
       "5        1         1    4  \n",
       "6        1         1    4  \n",
       "..     ...       ...  ...  \n",
       "197      3         1    4  \n",
       "198      4         1    4  \n",
       "199      2         0    4  \n",
       "200      1         0    4  \n",
       "201      4         1    4  \n",
       "\n",
       "[200 rows x 29 columns]"
      ]
     },
     "execution_count": 153,
     "metadata": {},
     "output_type": "execute_result"
    }
   ],
   "source": [
    "df"
   ]
  },
  {
   "cell_type": "code",
   "execution_count": 154,
   "id": "8f295021",
   "metadata": {},
   "outputs": [
    {
     "data": {
      "text/plain": [
       "<AxesSubplot:>"
      ]
     },
     "execution_count": 154,
     "metadata": {},
     "output_type": "execute_result"
    },
    {
     "data": {
      "image/png": "[encoded data removed]",
      "text/plain": [
       "<Figure size 432x288 with 2 Axes>"
      ]
     },
     "metadata": {
      "needs_background": "light"
     },
     "output_type": "display_data"
    }
   ],
   "source": [
    "# plotting correlation of heatmap\n",
    "sns.heatmap(df.corr(), cbar = True , linewidths = 0.01)     #cbar use fot color bar\n",
    "  \n"
   ]
  },
  {
   "cell_type": "code",
   "execution_count": 155,
   "id": "e4ac7ba9",
   "metadata": {},
   "outputs": [],
   "source": [
    "end_column = df.pop('affected')"
   ]
  },
  {
   "cell_type": "code",
   "execution_count": 156,
   "id": "b49cec8c",
   "metadata": {},
   "outputs": [
    {
     "data": {
      "text/html": [
       "<div>\n",
       "<style scoped>\n",
       "    .dataframe tbody tr th:only-of-type {\n",
       "        vertical-align: middle;\n",
       "    }\n",
       "\n",
       "    .dataframe tbody tr th {\n",
       "        vertical-align: top;\n",
       "    }\n",
       "\n",
       "    .dataframe thead th {\n",
       "        text-align: right;\n",
       "    }\n",
       "</style>\n",
       "<table border=\"1\" class=\"dataframe\">\n",
       "  <thead>\n",
       "    <tr style=\"text-align: right;\">\n",
       "      <th></th>\n",
       "      <th>bp (Diastolic)</th>\n",
       "      <th>bp limit</th>\n",
       "      <th>sg</th>\n",
       "      <th>al</th>\n",
       "      <th>class</th>\n",
       "      <th>rbc</th>\n",
       "      <th>su</th>\n",
       "      <th>pc</th>\n",
       "      <th>pcc</th>\n",
       "      <th>ba</th>\n",
       "      <th>bgr</th>\n",
       "      <th>bu</th>\n",
       "      <th>sod</th>\n",
       "      <th>sc</th>\n",
       "      <th>pot</th>\n",
       "      <th>hemo</th>\n",
       "      <th>pcv</th>\n",
       "      <th>rbcc</th>\n",
       "      <th>wbcc</th>\n",
       "      <th>htn</th>\n",
       "      <th>dm</th>\n",
       "      <th>cad</th>\n",
       "      <th>appet</th>\n",
       "      <th>pe</th>\n",
       "      <th>ane</th>\n",
       "      <th>grf</th>\n",
       "      <th>stage</th>\n",
       "      <th>age</th>\n",
       "    </tr>\n",
       "  </thead>\n",
       "  <tbody>\n",
       "    <tr>\n",
       "      <th>2</th>\n",
       "      <td>0</td>\n",
       "      <td>0</td>\n",
       "      <td>0</td>\n",
       "      <td>1</td>\n",
       "      <td>1</td>\n",
       "      <td>0</td>\n",
       "      <td>0</td>\n",
       "      <td>0</td>\n",
       "      <td>0</td>\n",
       "      <td>0</td>\n",
       "      <td>1</td>\n",
       "      <td>0</td>\n",
       "      <td>1</td>\n",
       "      <td>0</td>\n",
       "      <td>0</td>\n",
       "      <td>0</td>\n",
       "      <td>1</td>\n",
       "      <td>0</td>\n",
       "      <td>0</td>\n",
       "      <td>0</td>\n",
       "      <td>0</td>\n",
       "      <td>0</td>\n",
       "      <td>0</td>\n",
       "      <td>0</td>\n",
       "      <td>0</td>\n",
       "      <td>1</td>\n",
       "      <td>1</td>\n",
       "      <td>4</td>\n",
       "    </tr>\n",
       "    <tr>\n",
       "      <th>3</th>\n",
       "      <td>0</td>\n",
       "      <td>0</td>\n",
       "      <td>0</td>\n",
       "      <td>0</td>\n",
       "      <td>1</td>\n",
       "      <td>0</td>\n",
       "      <td>0</td>\n",
       "      <td>0</td>\n",
       "      <td>0</td>\n",
       "      <td>0</td>\n",
       "      <td>0</td>\n",
       "      <td>0</td>\n",
       "      <td>0</td>\n",
       "      <td>0</td>\n",
       "      <td>0</td>\n",
       "      <td>0</td>\n",
       "      <td>1</td>\n",
       "      <td>0</td>\n",
       "      <td>1</td>\n",
       "      <td>0</td>\n",
       "      <td>0</td>\n",
       "      <td>0</td>\n",
       "      <td>0</td>\n",
       "      <td>0</td>\n",
       "      <td>0</td>\n",
       "      <td>1</td>\n",
       "      <td>1</td>\n",
       "      <td>4</td>\n",
       "    </tr>\n",
       "    <tr>\n",
       "      <th>4</th>\n",
       "      <td>0</td>\n",
       "      <td>0</td>\n",
       "      <td>0</td>\n",
       "      <td>1</td>\n",
       "      <td>1</td>\n",
       "      <td>1</td>\n",
       "      <td>0</td>\n",
       "      <td>1</td>\n",
       "      <td>0</td>\n",
       "      <td>1</td>\n",
       "      <td>1</td>\n",
       "      <td>1</td>\n",
       "      <td>0</td>\n",
       "      <td>0</td>\n",
       "      <td>0</td>\n",
       "      <td>1</td>\n",
       "      <td>1</td>\n",
       "      <td>0</td>\n",
       "      <td>1</td>\n",
       "      <td>0</td>\n",
       "      <td>0</td>\n",
       "      <td>0</td>\n",
       "      <td>1</td>\n",
       "      <td>0</td>\n",
       "      <td>0</td>\n",
       "      <td>1</td>\n",
       "      <td>1</td>\n",
       "      <td>4</td>\n",
       "    </tr>\n",
       "    <tr>\n",
       "      <th>5</th>\n",
       "      <td>1</td>\n",
       "      <td>1</td>\n",
       "      <td>0</td>\n",
       "      <td>1</td>\n",
       "      <td>1</td>\n",
       "      <td>0</td>\n",
       "      <td>0</td>\n",
       "      <td>0</td>\n",
       "      <td>0</td>\n",
       "      <td>0</td>\n",
       "      <td>0</td>\n",
       "      <td>0</td>\n",
       "      <td>0</td>\n",
       "      <td>0</td>\n",
       "      <td>0</td>\n",
       "      <td>1</td>\n",
       "      <td>1</td>\n",
       "      <td>0</td>\n",
       "      <td>0</td>\n",
       "      <td>0</td>\n",
       "      <td>0</td>\n",
       "      <td>0</td>\n",
       "      <td>0</td>\n",
       "      <td>0</td>\n",
       "      <td>0</td>\n",
       "      <td>1</td>\n",
       "      <td>1</td>\n",
       "      <td>4</td>\n",
       "    </tr>\n",
       "    <tr>\n",
       "      <th>6</th>\n",
       "      <td>0</td>\n",
       "      <td>0</td>\n",
       "      <td>0</td>\n",
       "      <td>0</td>\n",
       "      <td>1</td>\n",
       "      <td>0</td>\n",
       "      <td>0</td>\n",
       "      <td>0</td>\n",
       "      <td>0</td>\n",
       "      <td>0</td>\n",
       "      <td>2</td>\n",
       "      <td>0</td>\n",
       "      <td>0</td>\n",
       "      <td>0</td>\n",
       "      <td>0</td>\n",
       "      <td>1</td>\n",
       "      <td>0</td>\n",
       "      <td>1</td>\n",
       "      <td>0</td>\n",
       "      <td>0</td>\n",
       "      <td>1</td>\n",
       "      <td>0</td>\n",
       "      <td>1</td>\n",
       "      <td>1</td>\n",
       "      <td>0</td>\n",
       "      <td>1</td>\n",
       "      <td>1</td>\n",
       "      <td>4</td>\n",
       "    </tr>\n",
       "    <tr>\n",
       "      <th>...</th>\n",
       "      <td>...</td>\n",
       "      <td>...</td>\n",
       "      <td>...</td>\n",
       "      <td>...</td>\n",
       "      <td>...</td>\n",
       "      <td>...</td>\n",
       "      <td>...</td>\n",
       "      <td>...</td>\n",
       "      <td>...</td>\n",
       "      <td>...</td>\n",
       "      <td>...</td>\n",
       "      <td>...</td>\n",
       "      <td>...</td>\n",
       "      <td>...</td>\n",
       "      <td>...</td>\n",
       "      <td>...</td>\n",
       "      <td>...</td>\n",
       "      <td>...</td>\n",
       "      <td>...</td>\n",
       "      <td>...</td>\n",
       "      <td>...</td>\n",
       "      <td>...</td>\n",
       "      <td>...</td>\n",
       "      <td>...</td>\n",
       "      <td>...</td>\n",
       "      <td>...</td>\n",
       "      <td>...</td>\n",
       "      <td>...</td>\n",
       "    </tr>\n",
       "    <tr>\n",
       "      <th>197</th>\n",
       "      <td>1</td>\n",
       "      <td>1</td>\n",
       "      <td>0</td>\n",
       "      <td>0</td>\n",
       "      <td>1</td>\n",
       "      <td>0</td>\n",
       "      <td>0</td>\n",
       "      <td>0</td>\n",
       "      <td>0</td>\n",
       "      <td>0</td>\n",
       "      <td>2</td>\n",
       "      <td>0</td>\n",
       "      <td>1</td>\n",
       "      <td>0</td>\n",
       "      <td>0</td>\n",
       "      <td>1</td>\n",
       "      <td>1</td>\n",
       "      <td>0</td>\n",
       "      <td>0</td>\n",
       "      <td>1</td>\n",
       "      <td>1</td>\n",
       "      <td>0</td>\n",
       "      <td>0</td>\n",
       "      <td>0</td>\n",
       "      <td>1</td>\n",
       "      <td>1</td>\n",
       "      <td>3</td>\n",
       "      <td>4</td>\n",
       "    </tr>\n",
       "    <tr>\n",
       "      <th>198</th>\n",
       "      <td>0</td>\n",
       "      <td>0</td>\n",
       "      <td>0</td>\n",
       "      <td>0</td>\n",
       "      <td>1</td>\n",
       "      <td>0</td>\n",
       "      <td>0</td>\n",
       "      <td>0</td>\n",
       "      <td>0</td>\n",
       "      <td>0</td>\n",
       "      <td>0</td>\n",
       "      <td>1</td>\n",
       "      <td>0</td>\n",
       "      <td>0</td>\n",
       "      <td>0</td>\n",
       "      <td>1</td>\n",
       "      <td>1</td>\n",
       "      <td>0</td>\n",
       "      <td>0</td>\n",
       "      <td>0</td>\n",
       "      <td>1</td>\n",
       "      <td>0</td>\n",
       "      <td>0</td>\n",
       "      <td>0</td>\n",
       "      <td>1</td>\n",
       "      <td>0</td>\n",
       "      <td>4</td>\n",
       "      <td>4</td>\n",
       "    </tr>\n",
       "    <tr>\n",
       "      <th>199</th>\n",
       "      <td>1</td>\n",
       "      <td>1</td>\n",
       "      <td>0</td>\n",
       "      <td>0</td>\n",
       "      <td>0</td>\n",
       "      <td>0</td>\n",
       "      <td>0</td>\n",
       "      <td>0</td>\n",
       "      <td>0</td>\n",
       "      <td>0</td>\n",
       "      <td>1</td>\n",
       "      <td>0</td>\n",
       "      <td>1</td>\n",
       "      <td>0</td>\n",
       "      <td>0</td>\n",
       "      <td>1</td>\n",
       "      <td>0</td>\n",
       "      <td>1</td>\n",
       "      <td>0</td>\n",
       "      <td>0</td>\n",
       "      <td>0</td>\n",
       "      <td>0</td>\n",
       "      <td>0</td>\n",
       "      <td>0</td>\n",
       "      <td>0</td>\n",
       "      <td>1</td>\n",
       "      <td>2</td>\n",
       "      <td>4</td>\n",
       "    </tr>\n",
       "    <tr>\n",
       "      <th>200</th>\n",
       "      <td>1</td>\n",
       "      <td>1</td>\n",
       "      <td>0</td>\n",
       "      <td>0</td>\n",
       "      <td>0</td>\n",
       "      <td>0</td>\n",
       "      <td>0</td>\n",
       "      <td>0</td>\n",
       "      <td>0</td>\n",
       "      <td>0</td>\n",
       "      <td>0</td>\n",
       "      <td>0</td>\n",
       "      <td>1</td>\n",
       "      <td>0</td>\n",
       "      <td>0</td>\n",
       "      <td>1</td>\n",
       "      <td>1</td>\n",
       "      <td>0</td>\n",
       "      <td>1</td>\n",
       "      <td>0</td>\n",
       "      <td>0</td>\n",
       "      <td>0</td>\n",
       "      <td>0</td>\n",
       "      <td>0</td>\n",
       "      <td>0</td>\n",
       "      <td>1</td>\n",
       "      <td>1</td>\n",
       "      <td>4</td>\n",
       "    </tr>\n",
       "    <tr>\n",
       "      <th>201</th>\n",
       "      <td>1</td>\n",
       "      <td>1</td>\n",
       "      <td>0</td>\n",
       "      <td>1</td>\n",
       "      <td>1</td>\n",
       "      <td>0</td>\n",
       "      <td>1</td>\n",
       "      <td>0</td>\n",
       "      <td>0</td>\n",
       "      <td>0</td>\n",
       "      <td>0</td>\n",
       "      <td>1</td>\n",
       "      <td>0</td>\n",
       "      <td>0</td>\n",
       "      <td>0</td>\n",
       "      <td>1</td>\n",
       "      <td>0</td>\n",
       "      <td>1</td>\n",
       "      <td>1</td>\n",
       "      <td>1</td>\n",
       "      <td>1</td>\n",
       "      <td>0</td>\n",
       "      <td>0</td>\n",
       "      <td>0</td>\n",
       "      <td>0</td>\n",
       "      <td>0</td>\n",
       "      <td>4</td>\n",
       "      <td>4</td>\n",
       "    </tr>\n",
       "  </tbody>\n",
       "</table>\n",
       "<p>200 rows × 28 columns</p>\n",
       "</div>"
      ],
      "text/plain": [
       "     bp (Diastolic)  bp limit  sg  al  class  rbc  su  pc  pcc  ba  bgr  bu  \\\n",
       "2                 0         0   0   1      1    0   0   0    0   0    1   0   \n",
       "3                 0         0   0   0      1    0   0   0    0   0    0   0   \n",
       "4                 0         0   0   1      1    1   0   1    0   1    1   1   \n",
       "5                 1         1   0   1      1    0   0   0    0   0    0   0   \n",
       "6                 0         0   0   0      1    0   0   0    0   0    2   0   \n",
       "..              ...       ...  ..  ..    ...  ...  ..  ..  ...  ..  ...  ..   \n",
       "197               1         1   0   0      1    0   0   0    0   0    2   0   \n",
       "198               0         0   0   0      1    0   0   0    0   0    0   1   \n",
       "199               1         1   0   0      0    0   0   0    0   0    1   0   \n",
       "200               1         1   0   0      0    0   0   0    0   0    0   0   \n",
       "201               1         1   0   1      1    0   1   0    0   0    0   1   \n",
       "\n",
       "     sod  sc  pot  hemo  pcv  rbcc  wbcc  htn  dm  cad  appet  pe  ane  grf  \\\n",
       "2      1   0    0     0    1     0     0    0   0    0      0   0    0    1   \n",
       "3      0   0    0     0    1     0     1    0   0    0      0   0    0    1   \n",
       "4      0   0    0     1    1     0     1    0   0    0      1   0    0    1   \n",
       "5      0   0    0     1    1     0     0    0   0    0      0   0    0    1   \n",
       "6      0   0    0     1    0     1     0    0   1    0      1   1    0    1   \n",
       "..   ...  ..  ...   ...  ...   ...   ...  ...  ..  ...    ...  ..  ...  ...   \n",
       "197    1   0    0     1    1     0     0    1   1    0      0   0    1    1   \n",
       "198    0   0    0     1    1     0     0    0   1    0      0   0    1    0   \n",
       "199    1   0    0     1    0     1     0    0   0    0      0   0    0    1   \n",
       "200    1   0    0     1    1     0     1    0   0    0      0   0    0    1   \n",
       "201    0   0    0     1    0     1     1    1   1    0      0   0    0    0   \n",
       "\n",
       "     stage  age  \n",
       "2        1    4  \n",
       "3        1    4  \n",
       "4        1    4  \n",
       "5        1    4  \n",
       "6        1    4  \n",
       "..     ...  ...  \n",
       "197      3    4  \n",
       "198      4    4  \n",
       "199      2    4  \n",
       "200      1    4  \n",
       "201      4    4  \n",
       "\n",
       "[200 rows x 28 columns]"
      ]
     },
     "execution_count": 156,
     "metadata": {},
     "output_type": "execute_result"
    }
   ],
   "source": [
    "df"
   ]
  },
  {
   "cell_type": "code",
   "execution_count": 157,
   "id": "d2edcba4",
   "metadata": {},
   "outputs": [],
   "source": [
    "df.insert(28, 'affected', end_column)"
   ]
  },
  {
   "cell_type": "code",
   "execution_count": 158,
   "id": "069a1c23",
   "metadata": {},
   "outputs": [
    {
     "data": {
      "text/html": [
       "<div>\n",
       "<style scoped>\n",
       "    .dataframe tbody tr th:only-of-type {\n",
       "        vertical-align: middle;\n",
       "    }\n",
       "\n",
       "    .dataframe tbody tr th {\n",
       "        vertical-align: top;\n",
       "    }\n",
       "\n",
       "    .dataframe thead th {\n",
       "        text-align: right;\n",
       "    }\n",
       "</style>\n",
       "<table border=\"1\" class=\"dataframe\">\n",
       "  <thead>\n",
       "    <tr style=\"text-align: right;\">\n",
       "      <th></th>\n",
       "      <th>bp (Diastolic)</th>\n",
       "      <th>bp limit</th>\n",
       "      <th>sg</th>\n",
       "      <th>al</th>\n",
       "      <th>class</th>\n",
       "      <th>rbc</th>\n",
       "      <th>su</th>\n",
       "      <th>pc</th>\n",
       "      <th>pcc</th>\n",
       "      <th>ba</th>\n",
       "      <th>bgr</th>\n",
       "      <th>bu</th>\n",
       "      <th>sod</th>\n",
       "      <th>sc</th>\n",
       "      <th>pot</th>\n",
       "      <th>hemo</th>\n",
       "      <th>pcv</th>\n",
       "      <th>rbcc</th>\n",
       "      <th>wbcc</th>\n",
       "      <th>htn</th>\n",
       "      <th>dm</th>\n",
       "      <th>cad</th>\n",
       "      <th>appet</th>\n",
       "      <th>pe</th>\n",
       "      <th>ane</th>\n",
       "      <th>grf</th>\n",
       "      <th>stage</th>\n",
       "      <th>age</th>\n",
       "      <th>affected</th>\n",
       "    </tr>\n",
       "  </thead>\n",
       "  <tbody>\n",
       "    <tr>\n",
       "      <th>2</th>\n",
       "      <td>0</td>\n",
       "      <td>0</td>\n",
       "      <td>0</td>\n",
       "      <td>1</td>\n",
       "      <td>1</td>\n",
       "      <td>0</td>\n",
       "      <td>0</td>\n",
       "      <td>0</td>\n",
       "      <td>0</td>\n",
       "      <td>0</td>\n",
       "      <td>1</td>\n",
       "      <td>0</td>\n",
       "      <td>1</td>\n",
       "      <td>0</td>\n",
       "      <td>0</td>\n",
       "      <td>0</td>\n",
       "      <td>1</td>\n",
       "      <td>0</td>\n",
       "      <td>0</td>\n",
       "      <td>0</td>\n",
       "      <td>0</td>\n",
       "      <td>0</td>\n",
       "      <td>0</td>\n",
       "      <td>0</td>\n",
       "      <td>0</td>\n",
       "      <td>1</td>\n",
       "      <td>1</td>\n",
       "      <td>4</td>\n",
       "      <td>1</td>\n",
       "    </tr>\n",
       "    <tr>\n",
       "      <th>3</th>\n",
       "      <td>0</td>\n",
       "      <td>0</td>\n",
       "      <td>0</td>\n",
       "      <td>0</td>\n",
       "      <td>1</td>\n",
       "      <td>0</td>\n",
       "      <td>0</td>\n",
       "      <td>0</td>\n",
       "      <td>0</td>\n",
       "      <td>0</td>\n",
       "      <td>0</td>\n",
       "      <td>0</td>\n",
       "      <td>0</td>\n",
       "      <td>0</td>\n",
       "      <td>0</td>\n",
       "      <td>0</td>\n",
       "      <td>1</td>\n",
       "      <td>0</td>\n",
       "      <td>1</td>\n",
       "      <td>0</td>\n",
       "      <td>0</td>\n",
       "      <td>0</td>\n",
       "      <td>0</td>\n",
       "      <td>0</td>\n",
       "      <td>0</td>\n",
       "      <td>1</td>\n",
       "      <td>1</td>\n",
       "      <td>4</td>\n",
       "      <td>1</td>\n",
       "    </tr>\n",
       "    <tr>\n",
       "      <th>4</th>\n",
       "      <td>0</td>\n",
       "      <td>0</td>\n",
       "      <td>0</td>\n",
       "      <td>1</td>\n",
       "      <td>1</td>\n",
       "      <td>1</td>\n",
       "      <td>0</td>\n",
       "      <td>1</td>\n",
       "      <td>0</td>\n",
       "      <td>1</td>\n",
       "      <td>1</td>\n",
       "      <td>1</td>\n",
       "      <td>0</td>\n",
       "      <td>0</td>\n",
       "      <td>0</td>\n",
       "      <td>1</td>\n",
       "      <td>1</td>\n",
       "      <td>0</td>\n",
       "      <td>1</td>\n",
       "      <td>0</td>\n",
       "      <td>0</td>\n",
       "      <td>0</td>\n",
       "      <td>1</td>\n",
       "      <td>0</td>\n",
       "      <td>0</td>\n",
       "      <td>1</td>\n",
       "      <td>1</td>\n",
       "      <td>4</td>\n",
       "      <td>1</td>\n",
       "    </tr>\n",
       "    <tr>\n",
       "      <th>5</th>\n",
       "      <td>1</td>\n",
       "      <td>1</td>\n",
       "      <td>0</td>\n",
       "      <td>1</td>\n",
       "      <td>1</td>\n",
       "      <td>0</td>\n",
       "      <td>0</td>\n",
       "      <td>0</td>\n",
       "      <td>0</td>\n",
       "      <td>0</td>\n",
       "      <td>0</td>\n",
       "      <td>0</td>\n",
       "      <td>0</td>\n",
       "      <td>0</td>\n",
       "      <td>0</td>\n",
       "      <td>1</td>\n",
       "      <td>1</td>\n",
       "      <td>0</td>\n",
       "      <td>0</td>\n",
       "      <td>0</td>\n",
       "      <td>0</td>\n",
       "      <td>0</td>\n",
       "      <td>0</td>\n",
       "      <td>0</td>\n",
       "      <td>0</td>\n",
       "      <td>1</td>\n",
       "      <td>1</td>\n",
       "      <td>4</td>\n",
       "      <td>1</td>\n",
       "    </tr>\n",
       "    <tr>\n",
       "      <th>6</th>\n",
       "      <td>0</td>\n",
       "      <td>0</td>\n",
       "      <td>0</td>\n",
       "      <td>0</td>\n",
       "      <td>1</td>\n",
       "      <td>0</td>\n",
       "      <td>0</td>\n",
       "      <td>0</td>\n",
       "      <td>0</td>\n",
       "      <td>0</td>\n",
       "      <td>2</td>\n",
       "      <td>0</td>\n",
       "      <td>0</td>\n",
       "      <td>0</td>\n",
       "      <td>0</td>\n",
       "      <td>1</td>\n",
       "      <td>0</td>\n",
       "      <td>1</td>\n",
       "      <td>0</td>\n",
       "      <td>0</td>\n",
       "      <td>1</td>\n",
       "      <td>0</td>\n",
       "      <td>1</td>\n",
       "      <td>1</td>\n",
       "      <td>0</td>\n",
       "      <td>1</td>\n",
       "      <td>1</td>\n",
       "      <td>4</td>\n",
       "      <td>1</td>\n",
       "    </tr>\n",
       "    <tr>\n",
       "      <th>...</th>\n",
       "      <td>...</td>\n",
       "      <td>...</td>\n",
       "      <td>...</td>\n",
       "      <td>...</td>\n",
       "      <td>...</td>\n",
       "      <td>...</td>\n",
       "      <td>...</td>\n",
       "      <td>...</td>\n",
       "      <td>...</td>\n",
       "      <td>...</td>\n",
       "      <td>...</td>\n",
       "      <td>...</td>\n",
       "      <td>...</td>\n",
       "      <td>...</td>\n",
       "      <td>...</td>\n",
       "      <td>...</td>\n",
       "      <td>...</td>\n",
       "      <td>...</td>\n",
       "      <td>...</td>\n",
       "      <td>...</td>\n",
       "      <td>...</td>\n",
       "      <td>...</td>\n",
       "      <td>...</td>\n",
       "      <td>...</td>\n",
       "      <td>...</td>\n",
       "      <td>...</td>\n",
       "      <td>...</td>\n",
       "      <td>...</td>\n",
       "      <td>...</td>\n",
       "    </tr>\n",
       "    <tr>\n",
       "      <th>197</th>\n",
       "      <td>1</td>\n",
       "      <td>1</td>\n",
       "      <td>0</td>\n",
       "      <td>0</td>\n",
       "      <td>1</td>\n",
       "      <td>0</td>\n",
       "      <td>0</td>\n",
       "      <td>0</td>\n",
       "      <td>0</td>\n",
       "      <td>0</td>\n",
       "      <td>2</td>\n",
       "      <td>0</td>\n",
       "      <td>1</td>\n",
       "      <td>0</td>\n",
       "      <td>0</td>\n",
       "      <td>1</td>\n",
       "      <td>1</td>\n",
       "      <td>0</td>\n",
       "      <td>0</td>\n",
       "      <td>1</td>\n",
       "      <td>1</td>\n",
       "      <td>0</td>\n",
       "      <td>0</td>\n",
       "      <td>0</td>\n",
       "      <td>1</td>\n",
       "      <td>1</td>\n",
       "      <td>3</td>\n",
       "      <td>4</td>\n",
       "      <td>1</td>\n",
       "    </tr>\n",
       "    <tr>\n",
       "      <th>198</th>\n",
       "      <td>0</td>\n",
       "      <td>0</td>\n",
       "      <td>0</td>\n",
       "      <td>0</td>\n",
       "      <td>1</td>\n",
       "      <td>0</td>\n",
       "      <td>0</td>\n",
       "      <td>0</td>\n",
       "      <td>0</td>\n",
       "      <td>0</td>\n",
       "      <td>0</td>\n",
       "      <td>1</td>\n",
       "      <td>0</td>\n",
       "      <td>0</td>\n",
       "      <td>0</td>\n",
       "      <td>1</td>\n",
       "      <td>1</td>\n",
       "      <td>0</td>\n",
       "      <td>0</td>\n",
       "      <td>0</td>\n",
       "      <td>1</td>\n",
       "      <td>0</td>\n",
       "      <td>0</td>\n",
       "      <td>0</td>\n",
       "      <td>1</td>\n",
       "      <td>0</td>\n",
       "      <td>4</td>\n",
       "      <td>4</td>\n",
       "      <td>1</td>\n",
       "    </tr>\n",
       "    <tr>\n",
       "      <th>199</th>\n",
       "      <td>1</td>\n",
       "      <td>1</td>\n",
       "      <td>0</td>\n",
       "      <td>0</td>\n",
       "      <td>0</td>\n",
       "      <td>0</td>\n",
       "      <td>0</td>\n",
       "      <td>0</td>\n",
       "      <td>0</td>\n",
       "      <td>0</td>\n",
       "      <td>1</td>\n",
       "      <td>0</td>\n",
       "      <td>1</td>\n",
       "      <td>0</td>\n",
       "      <td>0</td>\n",
       "      <td>1</td>\n",
       "      <td>0</td>\n",
       "      <td>1</td>\n",
       "      <td>0</td>\n",
       "      <td>0</td>\n",
       "      <td>0</td>\n",
       "      <td>0</td>\n",
       "      <td>0</td>\n",
       "      <td>0</td>\n",
       "      <td>0</td>\n",
       "      <td>1</td>\n",
       "      <td>2</td>\n",
       "      <td>4</td>\n",
       "      <td>0</td>\n",
       "    </tr>\n",
       "    <tr>\n",
       "      <th>200</th>\n",
       "      <td>1</td>\n",
       "      <td>1</td>\n",
       "      <td>0</td>\n",
       "      <td>0</td>\n",
       "      <td>0</td>\n",
       "      <td>0</td>\n",
       "      <td>0</td>\n",
       "      <td>0</td>\n",
       "      <td>0</td>\n",
       "      <td>0</td>\n",
       "      <td>0</td>\n",
       "      <td>0</td>\n",
       "      <td>1</td>\n",
       "      <td>0</td>\n",
       "      <td>0</td>\n",
       "      <td>1</td>\n",
       "      <td>1</td>\n",
       "      <td>0</td>\n",
       "      <td>1</td>\n",
       "      <td>0</td>\n",
       "      <td>0</td>\n",
       "      <td>0</td>\n",
       "      <td>0</td>\n",
       "      <td>0</td>\n",
       "      <td>0</td>\n",
       "      <td>1</td>\n",
       "      <td>1</td>\n",
       "      <td>4</td>\n",
       "      <td>0</td>\n",
       "    </tr>\n",
       "    <tr>\n",
       "      <th>201</th>\n",
       "      <td>1</td>\n",
       "      <td>1</td>\n",
       "      <td>0</td>\n",
       "      <td>1</td>\n",
       "      <td>1</td>\n",
       "      <td>0</td>\n",
       "      <td>1</td>\n",
       "      <td>0</td>\n",
       "      <td>0</td>\n",
       "      <td>0</td>\n",
       "      <td>0</td>\n",
       "      <td>1</td>\n",
       "      <td>0</td>\n",
       "      <td>0</td>\n",
       "      <td>0</td>\n",
       "      <td>1</td>\n",
       "      <td>0</td>\n",
       "      <td>1</td>\n",
       "      <td>1</td>\n",
       "      <td>1</td>\n",
       "      <td>1</td>\n",
       "      <td>0</td>\n",
       "      <td>0</td>\n",
       "      <td>0</td>\n",
       "      <td>0</td>\n",
       "      <td>0</td>\n",
       "      <td>4</td>\n",
       "      <td>4</td>\n",
       "      <td>1</td>\n",
       "    </tr>\n",
       "  </tbody>\n",
       "</table>\n",
       "<p>200 rows × 29 columns</p>\n",
       "</div>"
      ],
      "text/plain": [
       "     bp (Diastolic)  bp limit  sg  al  class  rbc  su  pc  pcc  ba  bgr  bu  \\\n",
       "2                 0         0   0   1      1    0   0   0    0   0    1   0   \n",
       "3                 0         0   0   0      1    0   0   0    0   0    0   0   \n",
       "4                 0         0   0   1      1    1   0   1    0   1    1   1   \n",
       "5                 1         1   0   1      1    0   0   0    0   0    0   0   \n",
       "6                 0         0   0   0      1    0   0   0    0   0    2   0   \n",
       "..              ...       ...  ..  ..    ...  ...  ..  ..  ...  ..  ...  ..   \n",
       "197               1         1   0   0      1    0   0   0    0   0    2   0   \n",
       "198               0         0   0   0      1    0   0   0    0   0    0   1   \n",
       "199               1         1   0   0      0    0   0   0    0   0    1   0   \n",
       "200               1         1   0   0      0    0   0   0    0   0    0   0   \n",
       "201               1         1   0   1      1    0   1   0    0   0    0   1   \n",
       "\n",
       "     sod  sc  pot  hemo  pcv  rbcc  wbcc  htn  dm  cad  appet  pe  ane  grf  \\\n",
       "2      1   0    0     0    1     0     0    0   0    0      0   0    0    1   \n",
       "3      0   0    0     0    1     0     1    0   0    0      0   0    0    1   \n",
       "4      0   0    0     1    1     0     1    0   0    0      1   0    0    1   \n",
       "5      0   0    0     1    1     0     0    0   0    0      0   0    0    1   \n",
       "6      0   0    0     1    0     1     0    0   1    0      1   1    0    1   \n",
       "..   ...  ..  ...   ...  ...   ...   ...  ...  ..  ...    ...  ..  ...  ...   \n",
       "197    1   0    0     1    1     0     0    1   1    0      0   0    1    1   \n",
       "198    0   0    0     1    1     0     0    0   1    0      0   0    1    0   \n",
       "199    1   0    0     1    0     1     0    0   0    0      0   0    0    1   \n",
       "200    1   0    0     1    1     0     1    0   0    0      0   0    0    1   \n",
       "201    0   0    0     1    0     1     1    1   1    0      0   0    0    0   \n",
       "\n",
       "     stage  age  affected  \n",
       "2        1    4         1  \n",
       "3        1    4         1  \n",
       "4        1    4         1  \n",
       "5        1    4         1  \n",
       "6        1    4         1  \n",
       "..     ...  ...       ...  \n",
       "197      3    4         1  \n",
       "198      4    4         1  \n",
       "199      2    4         0  \n",
       "200      1    4         0  \n",
       "201      4    4         1  \n",
       "\n",
       "[200 rows x 29 columns]"
      ]
     },
     "execution_count": 158,
     "metadata": {},
     "output_type": "execute_result"
    }
   ],
   "source": [
    "df"
   ]
  },
  {
   "cell_type": "markdown",
   "id": "43852513",
   "metadata": {},
   "source": [
    "#     Logistic Regression"
   ]
  },
  {
   "cell_type": "code",
   "execution_count": 159,
   "id": "b817d919",
   "metadata": {},
   "outputs": [],
   "source": [
    "from sklearn.linear_model import LogisticRegression\n",
    "from sklearn.model_selection import train_test_split"
   ]
  },
  {
   "cell_type": "code",
   "execution_count": 160,
   "id": "e24c5b16",
   "metadata": {},
   "outputs": [],
   "source": [
    "X = df.drop(columns=\"affected\")\n",
    "y = df[\"affected\"]"
   ]
  },
  {
   "cell_type": "code",
   "execution_count": 161,
   "id": "c6c0b81a",
   "metadata": {},
   "outputs": [],
   "source": [
    "X_train, X_test, y_train, y_test = train_test_split(X, y, test_size=0.30, random_state=42)\n",
    "# random_state use to stop diterminted to not apply changes in data"
   ]
  },
  {
   "cell_type": "code",
   "execution_count": 162,
   "id": "64ddb69a",
   "metadata": {},
   "outputs": [],
   "source": [
    "lrclf = LogisticRegression()\n",
    "lrclf.fit(X_train, y_train)\n",
    "y_pred = lrclf.predict(X_test) # Predictions\n",
    "y_true = y_test # True values"
   ]
  },
  {
   "cell_type": "code",
   "execution_count": 163,
   "id": "24dd0f8e",
   "metadata": {},
   "outputs": [],
   "source": [
    "from sklearn.metrics import classification_report\n",
    "from sklearn.metrics import confusion_matrix\n",
    "from sklearn.metrics import accuracy_score"
   ]
  },
  {
   "cell_type": "code",
   "execution_count": 164,
   "id": "27b947ef",
   "metadata": {},
   "outputs": [
    {
     "name": "stdout",
     "output_type": "stream",
     "text": [
      "              precision    recall  f1-score   support\n",
      "\n",
      "           0       1.00      1.00      1.00        24\n",
      "           1       1.00      1.00      1.00        36\n",
      "\n",
      "    accuracy                           1.00        60\n",
      "   macro avg       1.00      1.00      1.00        60\n",
      "weighted avg       1.00      1.00      1.00        60\n",
      "\n"
     ]
    }
   ],
   "source": [
    "print(classification_report(y_test, y_pred))"
   ]
  },
  {
   "cell_type": "code",
   "execution_count": 165,
   "id": "f2d45970",
   "metadata": {},
   "outputs": [
    {
     "data": {
      "text/plain": [
       "Text(69.0, 0.5, 'actual')"
      ]
     },
     "execution_count": 165,
     "metadata": {},
     "output_type": "execute_result"
    },
    {
     "data": {
      "image/png": "[encoded data removed]",
      "text/plain": [
       "<Figure size 720x504 with 2 Axes>"
      ]
     },
     "metadata": {
      "needs_background": "light"
     },
     "output_type": "display_data"
    }
   ],
   "source": [
    "LR_cm = confusion_matrix(y_test, y_pred)\n",
    "plt.figure(figsize=(10,7))\n",
    "sns.heatmap(LR_cm, annot=True)\n",
    "plt.xlabel('Predicted')\n",
    "plt.ylabel('actual')"
   ]
  },
  {
   "cell_type": "code",
   "execution_count": 166,
   "id": "b34f42c7",
   "metadata": {},
   "outputs": [
    {
     "name": "stdout",
     "output_type": "stream",
     "text": [
      "Train accuracy: 1.0\n",
      "Test accuracy: 1.0\n"
     ]
    }
   ],
   "source": [
    "from sklearn.metrics import accuracy_score\n",
    "print(\"Train accuracy:\", np.round(accuracy_score(y_train, lrclf.predict(X_train)), 2))\n",
    "print(\"Test accuracy:\", np.round(accuracy_score(y_true, y_pred), 2))"
   ]
  },
  {
   "cell_type": "markdown",
   "id": "1a7c513a",
   "metadata": {},
   "source": [
    "# Random Forest"
   ]
  },
  {
   "cell_type": "code",
   "execution_count": 167,
   "id": "45e39ef4",
   "metadata": {},
   "outputs": [],
   "source": [
    "from sklearn.ensemble import RandomForestClassifier"
   ]
  },
  {
   "cell_type": "code",
   "execution_count": 168,
   "id": "62d03982",
   "metadata": {},
   "outputs": [],
   "source": [
    "RF_model = RandomForestClassifier(n_estimators = 100) \n",
    "#"
   ]
  },
  {
   "cell_type": "code",
   "execution_count": 169,
   "id": "943be9f4",
   "metadata": {},
   "outputs": [],
   "source": [
    "RF_Classifier = RF_model.fit(X_train, y_train)"
   ]
  },
  {
   "cell_type": "code",
   "execution_count": 170,
   "id": "bde5bed5",
   "metadata": {},
   "outputs": [
    {
     "data": {
      "text/plain": [
       "RandomForestClassifier()"
      ]
     },
     "execution_count": 170,
     "metadata": {},
     "output_type": "execute_result"
    }
   ],
   "source": [
    "RF_Classifier"
   ]
  },
  {
   "cell_type": "code",
   "execution_count": 171,
   "id": "e87982a1",
   "metadata": {},
   "outputs": [],
   "source": [
    "RF_predictions = RF_Classifier.predict(X_test)"
   ]
  },
  {
   "cell_type": "code",
   "execution_count": 172,
   "id": "8743c057",
   "metadata": {},
   "outputs": [
    {
     "data": {
      "text/plain": [
       "array([1, 0, 0, 0, 1, 0, 1, 1, 1, 0, 0, 1, 1, 1, 1, 0, 1, 1, 1, 1, 0, 0,\n",
       "       1, 1, 1, 0, 0, 0, 1, 1, 1, 0, 0, 1, 1, 1, 1, 1, 0, 1, 1, 0, 0, 0,\n",
       "       1, 1, 0, 0, 0, 1, 1, 1, 0, 1, 1, 1, 1, 1, 0, 0])"
      ]
     },
     "execution_count": 172,
     "metadata": {},
     "output_type": "execute_result"
    }
   ],
   "source": [
    "RF_predictions"
   ]
  },
  {
   "cell_type": "code",
   "execution_count": 173,
   "id": "d81fec10",
   "metadata": {},
   "outputs": [
    {
     "name": "stdout",
     "output_type": "stream",
     "text": [
      "              precision    recall  f1-score   support\n",
      "\n",
      "           0       1.00      1.00      1.00        24\n",
      "           1       1.00      1.00      1.00        36\n",
      "\n",
      "    accuracy                           1.00        60\n",
      "   macro avg       1.00      1.00      1.00        60\n",
      "weighted avg       1.00      1.00      1.00        60\n",
      "\n"
     ]
    }
   ],
   "source": [
    "print(classification_report(y_test, RF_predictions))"
   ]
  },
  {
   "cell_type": "code",
   "execution_count": 174,
   "id": "0852cf01",
   "metadata": {},
   "outputs": [
    {
     "name": "stdout",
     "output_type": "stream",
     "text": [
      "[[24  0]\n",
      " [ 0 36]]\n"
     ]
    }
   ],
   "source": [
    "print(confusion_matrix(y_test, RF_predictions))"
   ]
  },
  {
   "cell_type": "code",
   "execution_count": 175,
   "id": "248b461e",
   "metadata": {},
   "outputs": [
    {
     "data": {
      "text/plain": [
       "Text(69.0, 0.5, 'actual')"
      ]
     },
     "execution_count": 175,
     "metadata": {},
     "output_type": "execute_result"
    },
    {
     "data": {
      "image/png": "[encoded data removed]",
      "text/plain": [
       "<Figure size 720x504 with 2 Axes>"
      ]
     },
     "metadata": {
      "needs_background": "light"
     },
     "output_type": "display_data"
    }
   ],
   "source": [
    "RF_cm = confusion_matrix(y_test, RF_predictions)\n",
    "plt.figure(figsize=(10,7))\n",
    "sns.heatmap(RF_cm, annot=True)     #[TN  FP]\n",
    "plt.xlabel('Predicted')            #[FN  TP]\n",
    "plt.ylabel('actual')               "
   ]
  },
  {
   "cell_type": "code",
   "execution_count": 176,
   "id": "02e9442b",
   "metadata": {},
   "outputs": [
    {
     "name": "stdout",
     "output_type": "stream",
     "text": [
      "Accuracy of data: 1.0\n"
     ]
    }
   ],
   "source": [
    "print(\"Accuracy of data:\", accuracy_score(y_test, RF_predictions))"
   ]
  },
  {
   "cell_type": "code",
   "execution_count": null,
   "id": "67f435d3",
   "metadata": {},
   "outputs": [],
   "source": []
  }
 ],
 "metadata": {
  "kernelspec": {
   "display_name": "Python 3",
   "language": "python",
   "name": "python3"
  },
  "language_info": {
   "codemirror_mode": {
    "name": "ipython",
    "version": 3
   },
   "file_extension": ".py",
   "mimetype": "text/x-python",
   "name": "python",
   "nbconvert_exporter": "python",
   "pygments_lexer": "ipython3",
   "version": "3.8.8"
  }
 },
 "nbformat": 4,
 "nbformat_minor": 5
}
